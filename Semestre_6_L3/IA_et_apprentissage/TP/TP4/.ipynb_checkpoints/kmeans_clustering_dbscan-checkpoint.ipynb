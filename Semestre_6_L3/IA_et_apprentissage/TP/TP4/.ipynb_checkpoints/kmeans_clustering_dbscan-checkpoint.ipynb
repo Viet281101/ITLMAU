{
 "cells": [
  {
   "cell_type": "markdown",
   "id": "0c116b4a-b3a8-47d9-9233-9ce8ee74dcaf",
   "metadata": {},
   "source": [
    "## Read Data Iris"
   ]
  },
  {
   "cell_type": "code",
   "execution_count": 1,
   "id": "bb206157-1ec9-4f8b-9656-617100293f28",
   "metadata": {},
   "outputs": [],
   "source": [
    "import pandas as pd"
   ]
  },
  {
   "cell_type": "code",
   "execution_count": 2,
   "id": "76cb00a9-1530-41b1-81ba-3bbdcd81523e",
   "metadata": {},
   "outputs": [],
   "source": [
    "iris_data_path = 'iris/iris_data.csv'\n",
    "iris_label_path = 'iris/iris_label.csv'"
   ]
  },
  {
   "cell_type": "code",
   "execution_count": 3,
   "id": "3318afeb-e1d4-416b-84b0-3d7697fe226c",
   "metadata": {},
   "outputs": [],
   "source": [
    "iris_data = pd.read_csv(iris_data_path, header=None, delimiter=';')\n",
    "iris_labels = pd.read_csv(iris_label_path, header=None, delimiter=';')"
   ]
  },
  {
   "cell_type": "code",
   "execution_count": 4,
   "id": "b7485613-ee34-48c7-ae3e-711695e31e8d",
   "metadata": {},
   "outputs": [],
   "source": [
    "iris_labels = iris_labels.iloc[:, 0]"
   ]
  },
  {
   "cell_type": "code",
   "execution_count": 5,
   "id": "020adc01-aa8c-4a7a-a833-02e58fff6e01",
   "metadata": {},
   "outputs": [
    {
     "data": {
      "text/plain": [
       "(     0    1    2    3   4\n",
       " 0  5.8  2.8  5.1  2.4 NaN\n",
       " 1  6.0  2.2  4.0  1.0 NaN\n",
       " 2  5.5  4.2  1.4  0.2 NaN\n",
       " 3  7.3  2.9  6.3  1.8 NaN\n",
       " 4  5.0  3.4  1.5  0.2 NaN,\n",
       " 0    2\n",
       " 1    1\n",
       " 2    0\n",
       " 3    2\n",
       " 4    0\n",
       " Name: 0, dtype: int64)"
      ]
     },
     "execution_count": 5,
     "metadata": {},
     "output_type": "execute_result"
    }
   ],
   "source": [
    "iris_data.head(), iris_labels.head()"
   ]
  },
  {
   "cell_type": "markdown",
   "id": "e2801a21-5fb3-46e9-95f0-fdb6dc2ec3df",
   "metadata": {},
   "source": [
    "## Calculate ε-voisinage (ε-neighborhood)."
   ]
  },
  {
   "cell_type": "code",
   "execution_count": 6,
   "id": "6094ad67-f269-4905-a9e9-705d1409647a",
   "metadata": {},
   "outputs": [],
   "source": [
    "import numpy as np\n",
    "import matplotlib.pyplot as plt"
   ]
  },
  {
   "cell_type": "code",
   "execution_count": 7,
   "id": "f93e6e7d-59c7-41b5-a15c-f25beb3609cb",
   "metadata": {},
   "outputs": [],
   "source": [
    "def epsilon_neighborhood(p, data, eps):\n",
    "\n",
    "    distances = np.linalg.norm(data - p, axis=1)\n",
    "\n",
    "    neighbors_idx = np.where(distances <= eps)[0]\n",
    "    return neighbors_idx"
   ]
  },
  {
   "cell_type": "code",
   "execution_count": 8,
   "id": "cabff447-06a4-446e-8f16-b69ac34a59a2",
   "metadata": {},
   "outputs": [],
   "source": [
    "iris_data_array = iris_data.to_numpy()\n",
    "iris_labels_array = iris_labels.to_numpy()"
   ]
  },
  {
   "cell_type": "code",
   "execution_count": 9,
   "id": "c43b6b02-2d8b-4bc6-b604-fa5727193a6c",
   "metadata": {},
   "outputs": [],
   "source": [
    "iris_data_array = iris_data_array[:, :-1]"
   ]
  },
  {
   "cell_type": "code",
   "execution_count": 10,
   "id": "99c38d19-c46f-4ba4-89c9-052f24cf4bcd",
   "metadata": {},
   "outputs": [],
   "source": [
    "p = iris_data_array[0]\n",
    "eps = 0.5\n",
    "neighbors_idx = epsilon_neighborhood(p, iris_data_array, eps)"
   ]
  },
  {
   "cell_type": "code",
   "execution_count": 11,
   "id": "7aec2e98-18e0-4188-ad50-50c4f66597cd",
   "metadata": {},
   "outputs": [
    {
     "name": "stdout",
     "output_type": "stream",
     "text": [
      "[ 0 20]\n"
     ]
    }
   ],
   "source": [
    "print(neighbors_idx)"
   ]
  },
  {
   "cell_type": "markdown",
   "id": "32d402a1-8cec-4dc1-8c9f-893d13dbd848",
   "metadata": {},
   "source": [
    "### Core Point"
   ]
  },
  {
   "cell_type": "code",
   "execution_count": 12,
   "id": "280180cc-e46d-4d12-95e4-200eca2649fa",
   "metadata": {},
   "outputs": [],
   "source": [
    "def is_core_point(p_idx, data, eps, MinPts):\n",
    "    \"\"\"\n",
    "    Check if the point at index p_idx is a core point.\n",
    "    \n",
    "    Parameters:\n",
    "    p_idx (int): Index of the point in the dataset.\n",
    "    data (numpy.ndarray): The dataset.\n",
    "    eps (float): The epsilon value for the neighborhood.\n",
    "    MinPts (int): The minimum number of points to define a core point.\n",
    "    \n",
    "    Returns:\n",
    "    bool: True if the point is a core point, False otherwise.\n",
    "    \"\"\"\n",
    "    neighbors_idx = epsilon_neighborhood(data[p_idx], data, eps)\n",
    "    return len(neighbors_idx) >= MinPts"
   ]
  },
  {
   "cell_type": "code",
   "execution_count": 13,
   "id": "4a4fa77c-e392-45a5-b09c-83ff7888cc48",
   "metadata": {},
   "outputs": [
    {
     "name": "stdout",
     "output_type": "stream",
     "text": [
      "Point at index 0 is a core point: False\n"
     ]
    }
   ],
   "source": [
    "MinPts = 5\n",
    "is_core = is_core_point(0, iris_data_array, eps, MinPts)\n",
    "print(f\"Point at index 0 is a core point: {is_core}\")"
   ]
  },
  {
   "cell_type": "markdown",
   "id": "2fa0a3df-1645-44cb-88f0-f3e190229ee2",
   "metadata": {},
   "source": [
    "## Cluster"
   ]
  },
  {
   "cell_type": "code",
   "execution_count": 14,
   "id": "01eef5cb-6209-4229-b407-d2ab2308ee71",
   "metadata": {},
   "outputs": [],
   "source": [
    "def expand_cluster(core_pt_idx, data, eps, MinPts, cluster_id, clusters, visited):\n",
    "    \"\"\"\n",
    "    Expand the cluster to include all density-reachable points.\n",
    "    \n",
    "    Parameters:\n",
    "    core_pt_idx (int): Index of the core point from which to expand the cluster.\n",
    "    data (numpy.ndarray): The dataset.\n",
    "    eps (float): The epsilon value for the neighborhood.\n",
    "    MinPts (int): The minimum number of points to define a core point.\n",
    "    cluster_id (int): The cluster ID to assign to the new points in the cluster.\n",
    "    clusters (numpy.ndarray): The array where cluster IDs are stored.\n",
    "    visited (numpy.ndarray): The array to keep track of visited points.\n",
    "    \"\"\"\n",
    "    neighbors = epsilon_neighborhood(data[core_pt_idx], data, eps)\n",
    "\n",
    "    clusters[core_pt_idx] = cluster_id\n",
    "    for neighbor_idx in neighbors:\n",
    "        clusters[neighbor_idx] = cluster_id\n",
    "\n",
    "    i = 0\n",
    "    while i < len(neighbors):\n",
    "        neighbor_idx = neighbors[i]\n",
    "        if not visited[neighbor_idx]:\n",
    "            visited[neighbor_idx] = True\n",
    "\n",
    "            neighbor_pt_neighbors = epsilon_neighborhood(data[neighbor_idx], data, eps)\n",
    "\n",
    "            if len(neighbor_pt_neighbors) >= MinPts:\n",
    "                neighbors = np.append(neighbors, neighbor_pt_neighbors)\n",
    "\n",
    "        if clusters[neighbor_idx] == 0:\n",
    "            clusters[neighbor_idx] = cluster_id\n",
    "        i += 1"
   ]
  },
  {
   "cell_type": "markdown",
   "id": "20c8d50d-a66a-4416-919a-1a03801391bf",
   "metadata": {},
   "source": [
    "### Example test"
   ]
  },
  {
   "cell_type": "code",
   "execution_count": 15,
   "id": "67d1ab98-0fcd-476b-b3b8-a210c84fd098",
   "metadata": {},
   "outputs": [],
   "source": [
    "core_points_indices = [index for index, pt in enumerate(iris_data_array) if is_core_point(index, iris_data_array, eps, MinPts)]\n",
    "clusters = np.zeros(len(iris_data_array))\n",
    "visited = np.zeros(len(iris_data_array), dtype=bool)\n",
    "cluster_id = 1"
   ]
  },
  {
   "cell_type": "code",
   "execution_count": 16,
   "id": "ac5705df-32fd-4dc1-9ec7-88f6b623e384",
   "metadata": {},
   "outputs": [],
   "source": [
    "for core_pt_idx in core_points_indices:\n",
    "    if not visited[core_pt_idx]:\n",
    "        expand_cluster(core_pt_idx, iris_data_array, eps, MinPts, cluster_id, clusters, visited)\n",
    "        cluster_id += 1"
   ]
  },
  {
   "cell_type": "code",
   "execution_count": 17,
   "id": "eddc5a0a-473a-4915-bb0f-ee2a6d1d7094",
   "metadata": {},
   "outputs": [
    {
     "name": "stdout",
     "output_type": "stream",
     "text": [
      "[2. 2. 1. 2. 1. 2. 1. 2. 2. 2. 0. 2. 2. 2. 2. 1. 2. 2. 1. 1. 2. 2. 1. 1.\n",
      " 2. 1. 1. 2. 0. 1. 2. 2. 1. 2. 2. 2. 1. 2. 2. 2. 2. 1. 2. 1. 1. 0. 2. 2.\n",
      " 2. 0. 2. 0. 2. 2. 2. 2. 0. 2. 2. 2. 2. 1. 2. 2. 2. 2. 2. 2. 1. 1. 2. 2.\n",
      " 1. 1. 2. 1. 2. 0. 1. 0. 0. 2. 1. 2. 2. 2. 2. 1. 1. 2. 2. 0. 2. 1. 2. 2.\n",
      " 1. 1. 2. 1. 1. 1. 2. 2. 0. 1. 1. 1. 2. 2. 1. 1. 2. 1. 0. 0. 0. 2. 1. 2.\n",
      " 1. 0. 1. 1. 2. 1. 2. 2. 2. 2. 2. 2. 2. 2. 1. 2. 2. 2. 1. 2. 2. 2. 0. 1.\n",
      " 1. 1. 2. 2. 0. 1.]\n"
     ]
    }
   ],
   "source": [
    "print(clusters)"
   ]
  },
  {
   "cell_type": "code",
   "execution_count": 18,
   "id": "553366b3-5d42-47b5-9041-f3355ba2d2d3",
   "metadata": {},
   "outputs": [
    {
     "name": "stdout",
     "output_type": "stream",
     "text": [
      "{0.0: 17, 1.0: 49, 2.0: 84}\n"
     ]
    }
   ],
   "source": [
    "unique, counts = np.unique(clusters, return_counts=True)\n",
    "print(dict(zip(unique, counts)))"
   ]
  },
  {
   "cell_type": "code",
   "execution_count": 19,
   "id": "3efdbb06-e4a5-4fdb-b0a5-5aaecd030ba4",
   "metadata": {},
   "outputs": [
    {
     "name": "stdout",
     "output_type": "stream",
     "text": [
      "Nombre de points de bruit: 17\n"
     ]
    }
   ],
   "source": [
    "num_noise = len(clusters[clusters == 0])\n",
    "print(f\"Nombre de points de bruit: {num_noise}\")"
   ]
  },
  {
   "cell_type": "markdown",
   "id": "d1c8036f-ed36-4954-8888-6575411ac5ab",
   "metadata": {},
   "source": [
    "### Plot show"
   ]
  },
  {
   "cell_type": "code",
   "execution_count": 20,
   "id": "a062876e-0be6-4569-b178-23676609e004",
   "metadata": {},
   "outputs": [
    {
     "data": {
      "image/png": "[encoded data removed]",
      "text/plain": [
       "<Figure size 1000x600 with 1 Axes>"
      ]
     },
     "metadata": {},
     "output_type": "display_data"
    }
   ],
   "source": [
    "plt.figure(figsize=(10, 6))\n",
    "\n",
    "for cluster_id in np.unique(clusters):\n",
    "    if cluster_id == 0:  # Points de bruit\n",
    "        label = 'Bruit'\n",
    "    else:\n",
    "        label = f'Cluster {int(cluster_id)}'\n",
    "    plt.scatter(iris_data_array[clusters == cluster_id, 0], iris_data_array[clusters == cluster_id, 1], label=label, alpha=0.7)\n",
    "\n",
    "plt.title(\"Visualisation des résultats de DBSCAN\")\n",
    "plt.xlabel(\"Caractéristique 1\")\n",
    "plt.ylabel(\"Caractéristique 2\")\n",
    "plt.legend()\n",
    "plt.show()"
   ]
  },
  {
   "cell_type": "code",
   "execution_count": 21,
   "id": "089a43ab-85a3-4039-a9ee-830824a81e92",
   "metadata": {},
   "outputs": [],
   "source": [
    "def calculate_sse(clusters, data):\n",
    "    sse = 0\n",
    "    for cluster_id in np.unique(clusters):\n",
    "        if cluster_id == 0:\n",
    "            continue\n",
    "        cluster_data = data[clusters == cluster_id]\n",
    "        centroid = np.mean(cluster_data, axis=0)\n",
    "        sse += np.sum((cluster_data - centroid) ** 2)\n",
    "    return sse"
   ]
  },
  {
   "cell_type": "code",
   "execution_count": 22,
   "id": "ca679590-edc8-4dbd-b6f9-fdf57a46a04d",
   "metadata": {},
   "outputs": [],
   "source": [
    "def calculate_silhouette(clusters, data):\n",
    "    silhouette = 0\n",
    "    for i in range(len(data)):\n",
    "        cluster_id = int(clusters[i])\n",
    "        cluster = data[clusters == cluster_id]\n",
    "        a_i = np.mean(np.linalg.norm(data[i] - cluster, axis=1))\n",
    "        b_i = np.inf\n",
    "        for j in np.unique(clusters):\n",
    "            if j != cluster_id and j != 0:\n",
    "                cluster_j = data[clusters == j]\n",
    "                distance = np.mean(np.linalg.norm(data[i] - cluster_j, axis=1))\n",
    "                b_i = min(b_i, distance)\n",
    "        if b_i == np.inf:\n",
    "            b_i = a_i\n",
    "        silhouette += (b_i - a_i) / max(a_i, b_i)\n",
    "    return silhouette / len(data)"
   ]
  },
  {
   "cell_type": "code",
   "execution_count": 23,
   "id": "33b91f56-2dd0-4651-a4ac-5016068fc22c",
   "metadata": {},
   "outputs": [],
   "source": [
    "def calculate_classification_rate(clusters, labels):\n",
    "\t\"\"\" Calculate the classification rate \"\"\"\n",
    "\tnb_correct = 0\n",
    "\tfor i in range(len(clusters)):\n",
    "\t\tif clusters[i] == labels[i]:\n",
    "\t\t\tnb_correct += 1\n",
    "\treturn nb_correct / len(clusters)"
   ]
  },
  {
   "cell_type": "code",
   "execution_count": 24,
   "id": "0fe5cd8c-c65a-4d6d-af8e-f72097fcc4b5",
   "metadata": {},
   "outputs": [],
   "source": [
    "sse = calculate_sse(clusters, iris_data_array)"
   ]
  },
  {
   "cell_type": "code",
   "execution_count": 25,
   "id": "e364ab68-a13e-4dbe-85fc-9cab2b15ef97",
   "metadata": {},
   "outputs": [
    {
     "name": "stdout",
     "output_type": "stream",
     "text": [
      "SSE: 90.858537414966\n"
     ]
    }
   ],
   "source": [
    "print(f\"SSE: {sse}\")"
   ]
  },
  {
   "cell_type": "code",
   "execution_count": 26,
   "id": "6158040d-b79b-4a0b-a528-656a4b8291b8",
   "metadata": {},
   "outputs": [],
   "source": [
    "silhouette = calculate_silhouette(clusters, iris_data_array)"
   ]
  },
  {
   "cell_type": "code",
   "execution_count": 27,
   "id": "68cabc12-c1e5-46f2-8473-b534584a04e5",
   "metadata": {},
   "outputs": [
    {
     "name": "stdout",
     "output_type": "stream",
     "text": [
      "Silhouette Score: 0.6307777779581685\n"
     ]
    }
   ],
   "source": [
    "print(f\"Silhouette Score: {silhouette}\")"
   ]
  },
  {
   "cell_type": "code",
   "execution_count": 28,
   "id": "5e7e76d2-069c-4f3a-b358-26c4c9774c80",
   "metadata": {},
   "outputs": [
    {
     "name": "stdout",
     "output_type": "stream",
     "text": [
      "Classification rate: 0.2733333333333333\n"
     ]
    }
   ],
   "source": [
    "classification_rate = calculate_classification_rate(clusters, iris_labels_array)\n",
    "print(f\"Classification rate: {classification_rate}\")"
   ]
  },
  {
   "cell_type": "code",
   "execution_count": null,
   "id": "89e501bb-0eef-4f48-ae0a-fcdbf0a127e3",
   "metadata": {},
   "outputs": [],
   "source": []
  }
 ],
 "metadata": {
  "kernelspec": {
   "display_name": "Python 3 (ipykernel)",
   "language": "python",
   "name": "python3"
  },
  "language_info": {
   "codemirror_mode": {
    "name": "ipython",
    "version": 3
   },
   "file_extension": ".py",
   "mimetype": "text/x-python",
   "name": "python",
   "nbconvert_exporter": "python",
   "pygments_lexer": "ipython3",
   "version": "3.10.12"
  }
 },
 "nbformat": 4,
 "nbformat_minor": 5
}
