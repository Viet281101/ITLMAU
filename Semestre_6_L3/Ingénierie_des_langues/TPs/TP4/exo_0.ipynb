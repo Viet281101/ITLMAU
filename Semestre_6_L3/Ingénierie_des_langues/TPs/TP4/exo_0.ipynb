{
 "cells": [
  {
   "cell_type": "markdown",
   "id": "4cd2be9f-77a2-4dc4-84ba-873393bb79ca",
   "metadata": {},
   "source": [
    "# TP4 : Génération de texte avec des chaînes de Markov"
   ]
  },
  {
   "cell_type": "markdown",
   "id": "98da5006-e7df-41e3-b56b-8a66b6a51c6c",
   "metadata": {},
   "source": [
    "## Exercice 0 : préparer les données"
   ]
  },
  {
   "cell_type": "code",
   "execution_count": 1,
   "id": "43980239-501a-4430-8040-6a9be6470903",
   "metadata": {},
   "outputs": [],
   "source": [
    "def doc_to_word_list(path):\n",
    "\t'''\n",
    "\tparamètre : chemin vers un corpus\n",
    "\treturns : liste de liste \n",
    "\t\t- liste de phrases\n",
    "\t\t- chaque phrase est une liste de tokens\n",
    "\t'''\n",
    "\twith open(path) as input_stream:\n",
    "\t\tlines = input_stream.readlines()\n",
    "\t\tlines = [line.strip() for line in lines]\n",
    "\t\tlines = [line.split() for line in lines]\n",
    "\treturn lines"
   ]
  },
  {
   "cell_type": "code",
   "execution_count": 2,
   "id": "ef57f04d-b1a1-4ecc-adf4-dc1a1d14fe36",
   "metadata": {},
   "outputs": [
    {
     "name": "stdout",
     "output_type": "stream",
     "text": [
      "[['\\ufeffMa', 'mère,', 'quand', 'il', 'fut', 'question', \"d'avoir\", 'pour', 'la', 'première', 'fois', 'M.', 'de'], ['Norpois', 'à', 'dîner,', 'ayant', 'exprimé', 'le', 'regret', 'que', 'le', 'Professeur', 'Cottard', 'fût'], ['en', 'voyage', 'et', \"qu'elle-même\", 'eût', 'entièrement', 'cessé', 'de', 'fréquenter', 'Swann,'], ['car', \"l'un\", 'et', \"l'autre\", 'eussent', 'sans', 'doute', 'intéressé', \"l'ancien\", 'ambassadeur,'], ['mon', 'père', 'répondit', \"qu'un\", 'convive', 'éminent,', 'un', 'savant', 'illustre,', 'comme'], ['Cottard,', 'ne', 'pouvait', 'jamais', 'mal', 'faire', 'dans', 'un', 'dîner,', 'mais', 'que', 'Swann,'], ['avec', 'son', 'ostentation,', 'avec', 'sa', 'manière', 'de', 'crier', 'sur', 'les', 'toits', 'ses'], ['moindres', 'relations,', 'était', 'un', 'vulgaire', 'esbrouffeur', 'que', 'le', 'marquis', 'de'], ['Norpois', 'eût', 'sans', 'doute', 'trouvé', 'selon', 'son', 'expression,', '«puant».', 'Or', 'cette'], ['réponse', 'de', 'mon', 'père', 'demande', 'quelques', 'mots', \"d'explication,\", 'certaines'], ['personnes', 'se', 'souvenant', 'peut-être', \"d'un\", 'Cottard', 'bien', 'médiocre', 'et', \"d'un\"], ['Swann', 'poussant', \"jusqu'à\", 'la', 'plus', 'extrême', 'délicatesse,', 'en', 'matière'], ['mondaine,', 'la', 'modestie', 'et', 'la', 'discrétion.', 'Mais', 'pour', 'ce', 'qui', 'regarde'], ['celui-ci,', 'il', 'était', 'arrivé', \"qu'au\", '«fils', 'Swann»', 'et', 'aussi', 'au', 'Swann', 'du'], ['Jockey,', \"l'ancien\", 'ami', 'de', 'mes', 'parents', 'avait', 'ajouté', 'une', 'personnalité'], ['nouvelle', '(et', 'qui', 'ne', 'devait', 'pas', 'être', 'la', 'dernière),', 'celle', 'de', 'mari'], [\"d'Odette.\", 'Adaptant', 'aux', 'humbles', 'ambitions', 'de', 'cette', 'femme,', \"l'instinct,\"], ['le', 'désir,', \"l'industrie,\", \"qu'il\", 'avait', 'toujours', 'eus,', 'il', \"s'était\", 'ingénié', 'à'], ['se', 'bâtir,', 'fort', 'au-dessous', 'de', \"l'ancienne,\", 'une', 'position', 'nouvelle', 'et'], ['appropriée', 'à', 'la', 'compagne', 'qui', \"l'occuperait\", 'avec', 'lui.', 'Or', 'il', \"s'y\", 'montrait']]\n"
     ]
    }
   ],
   "source": [
    "t = doc_to_word_list(\"proust/2998-0.txt\")\n",
    "print(t[:20])"
   ]
  },
  {
   "cell_type": "code",
   "execution_count": 3,
   "id": "ffe3d1c8-b078-4e83-b63d-9a78f2b64895",
   "metadata": {},
   "outputs": [
    {
     "name": "stdout",
     "output_type": "stream",
     "text": [
      "[['\\ufeffMa', 'mère,', 'quand', 'il', 'fut', 'question', \"d'avoir\", 'pour', 'la', 'première', 'fois', 'M.', 'de'], ['Norpois', 'à', 'dîner,', 'ayant', 'exprimé', 'le', 'regret', 'que', 'le', 'Professeur', 'Cottard', 'fût'], ['en', 'voyage', 'et', \"qu'elle-même\", 'eût', 'entièrement', 'cessé', 'de', 'fréquenter', 'Swann,'], ['car', \"l'un\", 'et', \"l'autre\", 'eussent', 'sans', 'doute', 'intéressé', \"l'ancien\", 'ambassadeur,'], ['mon', 'père', 'répondit', \"qu'un\", 'convive', 'éminent,', 'un', 'savant', 'illustre,', 'comme'], ['Cottard,', 'ne', 'pouvait', 'jamais', 'mal', 'faire', 'dans', 'un', 'dîner,', 'mais', 'que', 'Swann,'], ['avec', 'son', 'ostentation,', 'avec', 'sa', 'manière', 'de', 'crier', 'sur', 'les', 'toits', 'ses'], ['moindres', 'relations,', 'était', 'un', 'vulgaire', 'esbrouffeur', 'que', 'le', 'marquis', 'de'], ['Norpois', 'eût', 'sans', 'doute', 'trouvé', 'selon', 'son', 'expression,', '«puant».', 'Or', 'cette'], ['réponse', 'de', 'mon', 'père', 'demande', 'quelques', 'mots', \"d'explication,\", 'certaines'], ['personnes', 'se', 'souvenant', 'peut-être', \"d'un\", 'Cottard', 'bien', 'médiocre', 'et', \"d'un\"], ['Swann', 'poussant', \"jusqu'à\", 'la', 'plus', 'extrême', 'délicatesse,', 'en', 'matière'], ['mondaine,', 'la', 'modestie', 'et', 'la', 'discrétion.', 'Mais', 'pour', 'ce', 'qui', 'regarde'], ['celui-ci,', 'il', 'était', 'arrivé', \"qu'au\", '«fils', 'Swann»', 'et', 'aussi', 'au', 'Swann', 'du'], ['Jockey,', \"l'ancien\", 'ami', 'de', 'mes', 'parents', 'avait', 'ajouté', 'une', 'personnalité'], ['nouvelle', '(et', 'qui', 'ne', 'devait', 'pas', 'être', 'la', 'dernière),', 'celle', 'de', 'mari'], [\"d'Odette.\", 'Adaptant', 'aux', 'humbles', 'ambitions', 'de', 'cette', 'femme,', \"l'instinct,\"], ['le', 'désir,', \"l'industrie,\", \"qu'il\", 'avait', 'toujours', 'eus,', 'il', \"s'était\", 'ingénié', 'à'], ['se', 'bâtir,', 'fort', 'au-dessous', 'de', \"l'ancienne,\", 'une', 'position', 'nouvelle', 'et'], ['appropriée', 'à', 'la', 'compagne', 'qui', \"l'occuperait\", 'avec', 'lui.', 'Or', 'il', \"s'y\", 'montrait'], ['un', 'autre', 'homme.', 'Puisque', '(tout', 'en', 'continuant', 'à', 'fréquenter', 'seul', 'ses', 'amis'], ['personnels,', 'à', 'qui', 'il', 'ne', 'voulait', 'pas', 'imposer', 'Odette', 'quand', 'ils', 'ne', 'lui'], ['demandaient', 'pas', 'spontanément', 'à', 'la', 'connaître)', \"c'était\", 'une', 'seconde', 'vie'], [\"qu'il\", 'commençait,', 'en', 'commun', 'avec', 'sa', 'femme,', 'au', 'milieu', \"d'êtres\", 'nouveaux,'], ['on', 'eût', 'encore', 'compris', 'que', 'pour', 'mesurer', 'le', 'rang', 'de', 'ceux-ci,', 'et', 'par'], ['conséquent', 'le', 'plaisir', \"d'amour-propre\", \"qu'il\", 'pouvait', 'éprouver', 'à', 'les'], ['recevoir,', 'il', 'se', 'fût', 'servi,', 'comme', \"d'un\", 'point', 'de', 'comparaison,', 'non', 'pas', 'des'], ['gens', 'les', 'plus', 'brillants', 'qui', 'formaient', 'sa', 'société', 'avant', 'son', 'mariage,'], ['mais', 'des', 'relations', 'antérieures', \"d'Odette.\", 'Mais,', 'même', 'quand', 'on', 'savait'], ['que', \"c'était\", 'avec', \"d'inélégants\", 'fonctionnaires,', 'avec', 'des', 'femmes', 'tarées,'], ['parure', 'des', 'bals', 'de', 'ministères,', \"qu'il\", 'désirait', 'de', 'se', 'lier,', 'on', 'était'], ['étonné', 'de', \"l'entendre,\", 'lui', 'qui', 'autrefois', 'et', 'même', 'encore', \"aujourd'hui\"], ['dissimulait', 'si', 'gracieusement', 'une', 'invitation', 'de', 'Twickenham', 'ou', 'de'], ['Buckingham', 'Palace,', 'faire', 'sonner', 'bien', 'haut', 'que', 'la', 'femme', \"d'un\", 'sous-chef'], ['de', 'cabinet', 'était', 'venue', 'rendre', 'sa', 'visite', 'à', 'Madame', 'Swann.', 'On', 'dira'], ['peut-être', 'que', 'cela', 'tenait', 'à', 'ce', 'que', 'la', 'simplicité', 'du', 'Swann', 'élégant,'], [\"n'avait\", 'été', 'chez', 'lui', \"qu'une\", 'forme', 'plus', 'raffinée', 'de', 'la', 'vanité', 'et', 'que,'], ['comme', 'certains', 'israélites,', \"l'ancien\", 'ami', 'de', 'mes', 'parents', 'avait', 'pu'], ['présenter', 'tour', 'à', 'tour', 'les', 'états', 'successifs', 'par', 'où', 'avaient', 'passé', 'ceux'], ['de', 'sa', 'race,', 'depuis', 'le', 'snobisme', 'le', 'plus', 'naïf', 'et', 'la', 'plus', 'grossière'], ['goujaterie,', \"jusqu'à\", 'la', 'plus', 'fine', 'politesse.', 'Mais', 'la', 'principale', 'raison,'], ['et', 'celle-là', 'applicable', 'à', \"l'humanité\", 'en', 'général,', 'était', 'que', 'nos', 'vertus'], ['elles-mêmes', 'ne', 'sont', 'pas', 'quelque', 'chose', 'de', 'libre,', 'de', 'flottant,', 'de', 'quoi'], ['nous', 'gardions', 'la', 'disponibilité', 'permanente;', 'elles', 'finissent', 'par'], [\"s'associer\", 'si', 'étroitement', 'dans', 'notre', 'esprit', 'avec', 'les', 'actions', 'à'], [\"l'occasion\", 'desquelles', 'nous', 'nous', 'sommes', 'fait', 'un', 'devoir', 'de', 'les', 'exercer,'], ['que', 'si', 'surgit', 'pour', 'nous', 'une', 'activité', \"d'un\", 'autre', 'ordre,', 'elle', 'nous', 'prend'], ['au', 'dépourvu', 'et', 'sans', 'que', 'nous', 'ayons', 'seulement', \"l'idée\", \"qu'elle\", 'pourrait'], ['comporter', 'la', 'mise', 'en', 'œuvre', 'de', 'ces', 'mêmes', 'vertus.', 'Swann', 'empressé', 'avec', 'ces'], ['nouvelles', 'relations', 'et', 'les', 'citant', 'avec', 'fierté,', 'était', 'comme', 'ces', 'grands'], ['artistes', 'modestes', 'ou', 'généreux', 'qui,', \"s'ils\", 'se', 'mettent', 'à', 'la', 'fin', 'de', 'leur'], ['vie', 'à', 'se', 'mêler', 'de', 'cuisine', 'ou', 'de', 'jardinage,', 'étalent', 'une', 'satisfaction'], ['naïve', 'des', 'louanges', \"qu'on\", 'donne', 'à', 'leurs', 'plats', 'ou', 'à', 'leurs', 'plates-bandes'], ['pour', 'lesquels', 'ils', \"n'admettent\", 'pas', 'la', 'critique', \"qu'ils\", 'acceptent'], ['aisément', \"s'il\", \"s'agit\", 'de', 'leurs', \"chefs-d'œuvre;\", 'ou', 'bien', 'qui,', 'donnant', 'une'], ['de', 'leurs', 'toiles', 'pour', 'rien,', 'ne', 'peuvent', 'en', 'revanche', 'sans', 'mauvaise', 'humeur'], ['perdre', 'quarante', 'sous', 'aux', 'dominos.'], [], ['Quant', 'au', 'Professeur', 'Cottard,', 'on', 'le', 'reverra,', 'longuement,', 'beaucoup', 'plus'], ['loin,', 'chez', 'la', 'Patronne,', 'au', 'château', 'de', 'la', 'Raspelière.', \"Qu'il\", 'suffise'], ['actuellement,', 'à', 'son', 'égard,', 'de', 'faire', 'observer', 'ceci:', 'pour', 'Swann,', 'à', 'la'], ['rigueur', 'le', 'changement', 'peut', 'surprendre', \"puisqu'il\", 'était', 'accompli', 'et', 'non'], ['soupçonné', 'de', 'moi', 'quand', 'je', 'voyais', 'le', 'père', 'de', 'Gilberte', 'aux'], ['Champs-Élysées,', 'où', \"d'ailleurs\", 'ne', \"m'adressant\", 'pas', 'la', 'parole', 'il', 'ne'], ['pouvait', 'faire', 'étalage', 'devant', 'moi', 'de', 'ses', 'relations', 'politiques', '(il', 'est'], ['vrai', 'que', \"s'il\", \"l'eût\", 'fait,', 'je', 'ne', 'me', 'fusse', 'peut-être', 'pas', 'aperçu', 'tout', 'de'], ['suite', 'de', 'sa', 'vanité', 'car', \"l'idée\", \"qu'on\", \"s'est\", 'faite', 'longtemps', \"d'une\"], ['personne,', 'bouche', 'les', 'yeux', 'et', 'les', 'oreilles;', 'ma', 'mère', 'pendant', 'trois', 'ans'], ['ne', 'distingua', 'pas', 'plus', 'le', 'fard', \"qu'une\", 'de', 'ses', 'nièces', 'se', 'mettait', 'aux'], ['lèvres', 'que', \"s'il\", 'eût', 'été', 'invisiblement', 'dissous', 'entièrement', 'dans', 'un'], ['liquide;', \"jusqu'au\", 'jour', 'où', 'une', 'parcelle', 'supplémentaire,', 'ou', 'bien', 'quelque'], ['autre', 'cause', 'amena', 'le', 'phénomène', 'appelé', 'sursaturation;', 'tout', 'le', 'fard', 'non'], ['aperçu', 'cristallisa', 'et', 'ma', 'mère', 'devant', 'cette', 'débauche', 'soudaine', 'de'], ['couleurs', 'déclara,', 'comme', 'on', 'eût', 'fait', 'à', 'Combray,', 'que', \"c'était\", 'une', 'honte', 'et'], ['cessa', 'presque', 'toute', 'relation', 'avec', 'sa', 'nièce).', 'Mais', 'pour', 'Cottard', 'au'], ['contraire,', \"l'époque\", 'où', 'on', \"l'a\", 'vu', 'assister', 'aux', 'débuts', 'de', 'Swann', 'chez', 'les'], ['Verdurin', 'était', 'déjà', 'assez', 'lointaine;', 'or', 'les', 'honneurs,', 'les', 'titres'], ['officiels', 'viennent', 'avec', 'les', 'années;', 'deuxièmement,', 'on', 'peut', 'être'], ['illettré,', 'faire', 'des', 'calembours', 'stupides,', 'et', 'posséder', 'un', 'don'], ['particulier,', \"qu'aucune\", 'culture', 'générale', 'ne', 'remplace,', 'comme', 'le', 'don', 'du'], ['grand', 'stratège', 'ou', 'du', 'grand', 'clinicien.', 'Ce', \"n'est\", 'pas', 'seulement', 'en', 'effet'], ['comme', 'un', 'praticien', 'obscur,', 'devenu,', 'à', 'la', 'longue,', 'notoriété', 'européenne,'], ['que', 'ses', 'confrères', 'considéraient', 'Cottard.', 'Les', 'plus', 'intelligents', \"d'entre\"], ['les', 'jeunes', 'médecins', 'déclarèrent,--au', 'moins', 'pendant', 'quelques', 'années,'], ['car', 'les', 'modes', 'changent', 'étant', 'nées', 'elles-mêmes', 'du', 'besoin', 'de', 'changement,--que'], ['si', 'jamais', 'ils', 'tombaient', 'malades,', 'Cottard', 'était', 'le', 'seul', 'maître'], ['auquel', 'ils', 'confieraient', 'leur', 'peau.', 'Sans', 'doute', 'ils', 'préféraient', 'le'], ['commerce', 'de', 'certains', 'chefs', 'plus', 'lettrés,', 'plus', 'artistes,', 'avec', 'lesquels'], ['ils', 'pouvaient', 'parler', 'de', 'Nietzsche,', 'de', 'Wagner.', 'Quand', 'on', 'faisait', 'de', 'la'], ['musique', 'chez', 'Madame', 'Cottard,', 'aux', 'soirées', 'où', 'elle', 'recevait,', 'avec'], [\"l'espoir\", \"qu'il\", 'devînt', 'un', 'jour', 'doyen', 'de', 'la', 'Faculté,', 'les', 'collègues', 'et'], ['les', 'élèves', 'de', 'son', 'mari,', 'celui-ci', 'au', 'lieu', \"d'écouter,\", 'préférait', 'jouer'], ['aux', 'cartes', 'dans', 'un', 'salon', 'voisin.', 'Mais', 'on', 'vantait', 'la', 'promptitude,', 'la'], ['profondeur,', 'la', 'sûreté', 'de', 'son', 'coup', \"d'œil,\", 'de', 'son', 'diagnostic.', 'En'], ['troisième', 'lieu,', 'en', 'ce', 'qui', 'concerne', \"l'ensemble\", 'de', 'façons', 'que', 'le'], ['Professeur', 'Cottard', 'montrait', 'à', 'un', 'homme', 'comme', 'mon', 'père,', 'remarquons', 'que'], ['la', 'nature', 'que', 'nous', 'faisons', 'paraître', 'dans', 'la', 'seconde', 'partie', 'de', 'notre'], ['vie,', \"n'est\", 'pas', 'toujours,', 'si', 'elle', \"l'est\", 'souvent,', 'notre', 'nature', 'première'], ['développée', 'ou', 'flétrie,', 'grossie', 'ou', 'atténuée;', 'elle', 'est', 'quelquefois', 'une'], ['nature', 'inverse,', 'un', 'véritable', 'vêtement', 'retourné.', 'Sauf', 'chez', 'les', 'Verdurin']]\n"
     ]
    }
   ],
   "source": [
    "print(t[:100])"
   ]
  },
  {
   "cell_type": "code",
   "execution_count": 4,
   "id": "3eab9a24-87fc-4e57-b21b-d32ed429d873",
   "metadata": {},
   "outputs": [],
   "source": [
    "corpus = []"
   ]
  },
  {
   "cell_type": "code",
   "execution_count": 5,
   "id": "6fff8520-7ee9-497a-80b1-442bf27c080a",
   "metadata": {},
   "outputs": [
    {
     "name": "stdout",
     "output_type": "stream",
     "text": [
      "[['\\ufeffUne', 'fois', 'M.', 'de', 'Charlus', 'parti,', 'nous', 'pûmes', 'enfin,', 'Robert', 'et', 'moi,', 'aller'], ['dîner', 'chez', 'Bloch.', 'Or', 'je', 'compris', 'pendant', 'cette', 'petite', 'fête', 'que', 'les'], ['histoires', 'trop', 'facilement', 'trouvées', 'drôles', 'par', 'notre', 'camarade', 'étaient'], ['des', 'histoires', 'de', 'M.', 'Bloch,', 'père,', 'et', 'que', \"l'homme\", '«tout', 'à', 'fait', 'curieux»'], ['était', 'toujours', 'un', 'de', 'ses', 'amis', \"qu'il\", 'jugeait', 'de', 'cette', 'façon.', 'Il', 'y', 'a', 'un'], ['certain', 'nombre', 'de', 'gens', \"qu'on\", 'admire', 'dans', 'son', 'enfance,', 'un', 'père', 'plus'], ['spirituel', 'que', 'le', 'reste', 'de', 'la', 'famille,', 'un', 'professeur', 'qui', 'bénéficie', 'à'], ['nos', 'yeux', 'de', 'la', 'métaphysique', \"qu'il\", 'nous', 'révèle,', 'un', 'camarade', 'plus', 'avancé'], ['que', 'nous', '(ce', 'que', 'Bloch', 'avait', 'été', 'pour', 'moi)', 'qui', 'méprise', 'le', 'Musset', 'de'], [\"l'Espoir\", 'en', 'Dieu', 'quand', 'nous', \"l'aimons\", 'encore,', 'et', 'quand', 'nous', 'en', 'serons'], ['venus', 'au', 'père', 'Leconte', 'ou', 'à', 'Claudel', 'ne', \"s'extasiera\", 'plus', 'que', 'sur:'], [], [], ['«A', 'Saint-Blaise,', 'à', 'la', 'Zuecca'], [], ['Vous', 'étiez,', 'vous', 'étiez', 'bien', 'aise».'], [], [], ['en', 'y', 'ajoutant:'], []]\n"
     ]
    }
   ],
   "source": [
    "corpus.extend(doc_to_word_list(\"proust/3000-0.txt\"))\n",
    "print(corpus[:20])"
   ]
  },
  {
   "cell_type": "code",
   "execution_count": null,
   "id": "c20cbcbd-3706-464b-949e-e97650fe717a",
   "metadata": {},
   "outputs": [],
   "source": []
  }
 ],
 "metadata": {
  "kernelspec": {
   "display_name": "Python 3 (ipykernel)",
   "language": "python",
   "name": "python3"
  },
  "language_info": {
   "codemirror_mode": {
    "name": "ipython",
    "version": 3
   },
   "file_extension": ".py",
   "mimetype": "text/x-python",
   "name": "python",
   "nbconvert_exporter": "python",
   "pygments_lexer": "ipython3",
   "version": "3.10.12"
  }
 },
 "nbformat": 4,
 "nbformat_minor": 5
}
