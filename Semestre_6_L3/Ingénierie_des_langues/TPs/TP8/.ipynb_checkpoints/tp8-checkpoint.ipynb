{
 "cells": [
  {
   "cell_type": "markdown",
   "id": "02033ca8-fd80-43bb-b43d-66d1bfeffd80",
   "metadata": {},
   "source": [
    "# IDL 16 Système de recommandation de films"
   ]
  },
  {
   "cell_type": "markdown",
   "id": "f67391af-31f4-4e58-9103-57681c10dae4",
   "metadata": {},
   "source": [
    "## I. Préparation du dataset"
   ]
  },
  {
   "cell_type": "markdown",
   "id": "2ce826ea-8f51-4ec1-b339-69a6068cfd44",
   "metadata": {},
   "source": [
    "### Étape 1 : lecture du jeu de données"
   ]
  },
  {
   "cell_type": "code",
   "execution_count": 1,
   "id": "dde99c72-69f1-47b9-9ea1-19bf87ba912b",
   "metadata": {},
   "outputs": [],
   "source": [
    "import json"
   ]
  },
  {
   "cell_type": "code",
   "execution_count": 2,
   "id": "75059861-4772-4c55-9de5-c8a4113b7bd7",
   "metadata": {},
   "outputs": [],
   "source": [
    "def json_to_dict(filename):\n",
    "    with open(filename, 'r', encoding='utf-8') as file:\n",
    "        data = json.load(file)\n",
    "        movie_dict = { item['Title']: item['Plot'] for item in data }\n",
    "    return movie_dict"
   ]
  },
  {
   "cell_type": "code",
   "execution_count": 3,
   "id": "f737da16-261f-48f2-a35b-a6afe1e7ed42",
   "metadata": {},
   "outputs": [],
   "source": [
    "movie_dict = json_to_dict('films.json')"
   ]
  },
  {
   "cell_type": "raw",
   "id": "1e286e85-5488-4d1f-9a17-c6c49e36a7e8",
   "metadata": {},
   "source": [
    "print(movie_dict)"
   ]
  },
  {
   "cell_type": "code",
   "execution_count": null,
   "id": "3d3ff215-6b50-433e-98ca-7e5ad4af3abe",
   "metadata": {},
   "outputs": [],
   "source": []
  }
 ],
 "metadata": {
  "kernelspec": {
   "display_name": "Python 3 (ipykernel)",
   "language": "python",
   "name": "python3"
  },
  "language_info": {
   "codemirror_mode": {
    "name": "ipython",
    "version": 3
   },
   "file_extension": ".py",
   "mimetype": "text/x-python",
   "name": "python",
   "nbconvert_exporter": "python",
   "pygments_lexer": "ipython3",
   "version": "3.10.12"
  }
 },
 "nbformat": 4,
 "nbformat_minor": 5
}
