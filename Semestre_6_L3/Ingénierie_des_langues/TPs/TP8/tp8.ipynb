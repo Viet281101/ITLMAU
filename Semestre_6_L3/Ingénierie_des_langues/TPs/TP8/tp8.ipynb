{
 "cells": [
  {
   "cell_type": "markdown",
   "id": "02033ca8-fd80-43bb-b43d-66d1bfeffd80",
   "metadata": {},
   "source": [
    "# IDL 16 Système de recommandation de films"
   ]
  },
  {
   "cell_type": "markdown",
   "id": "f67391af-31f4-4e58-9103-57681c10dae4",
   "metadata": {},
   "source": [
    "## I. Préparation du dataset"
   ]
  },
  {
   "cell_type": "markdown",
   "id": "2ce826ea-8f51-4ec1-b339-69a6068cfd44",
   "metadata": {},
   "source": [
    "### Étape 1 : lecture du jeu de données"
   ]
  },
  {
   "cell_type": "code",
   "execution_count": 1,
   "id": "dde99c72-69f1-47b9-9ea1-19bf87ba912b",
   "metadata": {},
   "outputs": [],
   "source": [
    "import json"
   ]
  },
  {
   "cell_type": "code",
   "execution_count": 2,
   "id": "75059861-4772-4c55-9de5-c8a4113b7bd7",
   "metadata": {},
   "outputs": [],
   "source": [
    "def json_to_dict(filename):\n",
    "\twith open(filename, 'r', encoding='utf-8') as file:\n",
    "\t\tdata = json.load(file)\n",
    "\t\tmovie_dict = { item['Title']: item['Plot'] for item in data }\n",
    "\treturn movie_dict"
   ]
  },
  {
   "cell_type": "code",
   "execution_count": 3,
   "id": "f737da16-261f-48f2-a35b-a6afe1e7ed42",
   "metadata": {},
   "outputs": [],
   "source": [
    "movie_dict = json_to_dict('films.json')"
   ]
  },
  {
   "cell_type": "raw",
   "id": "1e286e85-5488-4d1f-9a17-c6c49e36a7e8",
   "metadata": {},
   "source": [
    "print(movie_dict)"
   ]
  },
  {
   "cell_type": "markdown",
   "id": "3d3ff215-6b50-433e-98ca-7e5ad4af3abe",
   "metadata": {},
   "source": [
    "### Étape 2 : chaîne de traitement en TAL"
   ]
  },
  {
   "cell_type": "code",
   "execution_count": 4,
   "id": "f3a90734",
   "metadata": {},
   "outputs": [],
   "source": [
    "import nltk\n",
    "from nltk.corpus import stopwords\n",
    "from nltk.tokenize import word_tokenize\n",
    "from nltk.stem import WordNetLemmatizer"
   ]
  },
  {
   "cell_type": "code",
   "execution_count": 5,
   "id": "d2e3e385",
   "metadata": {},
   "outputs": [
    {
     "name": "stderr",
     "output_type": "stream",
     "text": [
      "[nltk_data] Downloading package punkt to /home/viet/nltk_data...\n",
      "[nltk_data]   Package punkt is already up-to-date!\n",
      "[nltk_data] Downloading package stopwords to /home/viet/nltk_data...\n",
      "[nltk_data]   Package stopwords is already up-to-date!\n",
      "[nltk_data] Downloading package wordnet to /home/viet/nltk_data...\n",
      "[nltk_data]   Package wordnet is already up-to-date!\n"
     ]
    },
    {
     "data": {
      "text/plain": [
       "True"
      ]
     },
     "execution_count": 5,
     "metadata": {},
     "output_type": "execute_result"
    }
   ],
   "source": [
    "nltk.download('punkt')\n",
    "nltk.download('stopwords')\n",
    "nltk.download('wordnet')"
   ]
  },
  {
   "cell_type": "code",
   "execution_count": 6,
   "id": "162f58ec",
   "metadata": {},
   "outputs": [],
   "source": [
    "def nlp(sentence):\n",
    "\ttokens = word_tokenize(sentence)\n",
    "\n",
    "\ttokens = [word for word in tokens if word.isalpha() and word not in stopwords.words('english')]\n",
    "\n",
    "\tlemmatizer = WordNetLemmatizer()\n",
    "\ttokens = [lemmatizer.lemmatize(word) for word in tokens]\n",
    "\treturn tokens"
   ]
  },
  {
   "cell_type": "code",
   "execution_count": 7,
   "id": "532da4c6",
   "metadata": {},
   "outputs": [
    {
     "name": "stdout",
     "output_type": "stream",
     "text": [
      "['Two', 'imprisoned', 'men', 'bond', 'number', 'year', 'finding', 'solace', 'eventual', 'redemption', 'act', 'common', 'decency']\n"
     ]
    }
   ],
   "source": [
    "sentence = \"Two imprisoned men bond over a number of years, finding solace and eventual redemption through acts of common decency\"\n",
    "tokens = nlp(sentence)\n",
    "print(tokens)"
   ]
  },
  {
   "cell_type": "markdown",
   "id": "cfe81f19",
   "metadata": {},
   "source": [
    "### Étape 3 : application de la chaîne de traitement au dictionnaire"
   ]
  },
  {
   "cell_type": "code",
   "execution_count": 8,
   "id": "b854a76f",
   "metadata": {},
   "outputs": [],
   "source": [
    "def nlp_dico(movie_dict):\n",
    "\tprocessed_dict = {}\n",
    "\tfor title, plot in movie_dict.items():\n",
    "\t\tprocessed_dict[title] = nlp(plot)\n",
    "\treturn processed_dict"
   ]
  },
  {
   "cell_type": "code",
   "execution_count": 9,
   "id": "46fa4cfc",
   "metadata": {},
   "outputs": [],
   "source": [
    "processed_movies = nlp_dico(movie_dict)"
   ]
  },
  {
   "cell_type": "code",
   "execution_count": 10,
   "id": "2da494f4",
   "metadata": {},
   "outputs": [
    {
     "name": "stdout",
     "output_type": "stream",
     "text": [
      "['Two', 'imprisoned', 'men', 'bond', 'number', 'year', 'finding', 'solace', 'eventual', 'redemption', 'act', 'common', 'decency']\n"
     ]
    }
   ],
   "source": [
    "print(processed_movies['The Shawshank Redemption'])"
   ]
  },
  {
   "cell_type": "markdown",
   "id": "321e4b09",
   "metadata": {},
   "source": [
    "## II. Calcul de la similarité de Jaccard "
   ]
  },
  {
   "cell_type": "code",
   "execution_count": 11,
   "id": "70e2a22c",
   "metadata": {},
   "outputs": [],
   "source": [
    "def jaccard_similarity(list1, list2):\n",
    "\tset1, set2 = set(list1), set(list2)\n",
    "\tintersection = len(set1.intersection(set2))\n",
    "\tunion = len(set1.union(set2))\n",
    "\treturn intersection / union if union != 0 else 0"
   ]
  },
  {
   "cell_type": "code",
   "execution_count": 12,
   "id": "d0d8c549",
   "metadata": {},
   "outputs": [],
   "source": [
    "similarity_score = jaccard_similarity(processed_movies['The Shawshank Redemption'], processed_movies['The Godfather'])"
   ]
  },
  {
   "cell_type": "code",
   "execution_count": 13,
   "id": "6ad4a921",
   "metadata": {},
   "outputs": [
    {
     "name": "stdout",
     "output_type": "stream",
     "text": [
      "0.0\n"
     ]
    }
   ],
   "source": [
    "print(similarity_score)"
   ]
  },
  {
   "cell_type": "code",
   "execution_count": 14,
   "id": "461f2d7e",
   "metadata": {},
   "outputs": [],
   "source": [
    "def jaccard_similarity_from_title(title1, title2, processed_movies):\n",
    "\ttokens1 = processed_movies.get(title1, [])\n",
    "\ttokens2 = processed_movies.get(title2, [])\n",
    "\tsimilarity_score = jaccard_similarity(tokens1, tokens2)\n",
    "\tprint(f\"le Score de simiarité de Jaccard des films '{title1}' et '{title2}' est: {similarity_score}\")\n",
    "\treturn similarity_score"
   ]
  },
  {
   "cell_type": "code",
   "execution_count": 15,
   "id": "8456e4ff",
   "metadata": {},
   "outputs": [
    {
     "name": "stdout",
     "output_type": "stream",
     "text": [
      "le Score de simiarité de Jaccard des films 'The Shawshank Redemption' et 'The Godfather' est: 0.0\n"
     ]
    },
    {
     "data": {
      "text/plain": [
       "0.0"
      ]
     },
     "execution_count": 15,
     "metadata": {},
     "output_type": "execute_result"
    }
   ],
   "source": [
    "jaccard_similarity_from_title('The Shawshank Redemption', 'The Godfather', processed_movies)"
   ]
  },
  {
   "cell_type": "markdown",
   "id": "47499a00",
   "metadata": {},
   "source": [
    "## III. Calcul de la représentation vectorielle"
   ]
  },
  {
   "cell_type": "code",
   "execution_count": 16,
   "id": "7f96cba1",
   "metadata": {},
   "outputs": [],
   "source": [
    "from math import log10"
   ]
  },
  {
   "cell_type": "code",
   "execution_count": 17,
   "id": "6167fab8",
   "metadata": {},
   "outputs": [],
   "source": [
    "def compute_TF(document):\n",
    "\ttf_dict = {}\n",
    "\tlen_doc = len(document)\n",
    "\tfor word in document:\n",
    "\t\ttf_dict[word] = tf_dict.get(word, 0) + 1/len_doc\n",
    "\treturn tf_dict"
   ]
  },
  {
   "cell_type": "code",
   "execution_count": 18,
   "id": "26c9b46b",
   "metadata": {},
   "outputs": [],
   "source": [
    "def compute_IDF(documents):\n",
    "\tN = len(documents)\n",
    "\tidf_dict = {}\n",
    "\tfor document in documents:\n",
    "\t\tfor word in set(document):\n",
    "\t\t\tidf_dict[word] = idf_dict.get(word, 0) + 1\n",
    "\n",
    "\tfor word, val in idf_dict.items():\n",
    "\t\tidf_dict[word] = log10(N / float(val))\n",
    "\n",
    "\treturn idf_dict"
   ]
  },
  {
   "cell_type": "code",
   "execution_count": 19,
   "id": "6b7b1173",
   "metadata": {},
   "outputs": [],
   "source": [
    "def compute_TFIDF(tf_dict, idf_dict):\n",
    "\ttfidf_dict = {}\n",
    "\tfor word, tf in tf_dict.items():\n",
    "\t\ttfidf_dict[word] = tf * idf_dict.get(word, 0)\n",
    "\treturn tfidf_dict"
   ]
  },
  {
   "cell_type": "code",
   "execution_count": 20,
   "id": "48c11a19",
   "metadata": {},
   "outputs": [],
   "source": [
    "all_tokens = list(processed_movies.values())\n",
    "idf_dict = compute_IDF(all_tokens)"
   ]
  },
  {
   "cell_type": "code",
   "execution_count": 21,
   "id": "03023ffb",
   "metadata": {},
   "outputs": [],
   "source": [
    "tfidf_document = {}\n",
    "for title, tokens in processed_movies.items():\n",
    "\ttf_dict = compute_TF(tokens)\n",
    "\ttfidf_dict = compute_TFIDF(tf_dict, idf_dict)\n",
    "\ttfidf_document[title] = tfidf_dict"
   ]
  },
  {
   "cell_type": "markdown",
   "id": "53a59e19",
   "metadata": {},
   "source": [
    "### Étape 2 : Calcul des vecteurs"
   ]
  },
  {
   "cell_type": "code",
   "execution_count": null,
   "id": "c9452c6a",
   "metadata": {},
   "outputs": [],
   "source": []
  },
  {
   "cell_type": "markdown",
   "id": "aaf5f498",
   "metadata": {},
   "source": [
    "## IV. Recommandation"
   ]
  },
  {
   "cell_type": "code",
   "execution_count": 22,
   "id": "87283f4f",
   "metadata": {},
   "outputs": [],
   "source": [
    "import numpy as np"
   ]
  },
  {
   "cell_type": "code",
   "execution_count": 23,
   "id": "f44e140a",
   "metadata": {},
   "outputs": [],
   "source": [
    "def cosine_similarity(list1, list2):\n",
    "\tdot = np.dot(list1, list2)\n",
    "\tnorm1 = np.linalg.norm(list1)\n",
    "\tnorm2 = np.linalg.norm(list2)\n",
    "\tcos = dot / (norm1 * norm2)\n",
    "\treturn(cos)"
   ]
  },
  {
   "cell_type": "code",
   "execution_count": null,
   "id": "c6788a74",
   "metadata": {},
   "outputs": [],
   "source": []
  }
 ],
 "metadata": {
  "kernelspec": {
   "display_name": "Python 3 (ipykernel)",
   "language": "python",
   "name": "python3"
  },
  "language_info": {
   "codemirror_mode": {
    "name": "ipython",
    "version": 3
   },
   "file_extension": ".py",
   "mimetype": "text/x-python",
   "name": "python",
   "nbconvert_exporter": "python",
   "pygments_lexer": "ipython3",
   "version": "3.10.12"
  }
 },
 "nbformat": 4,
 "nbformat_minor": 5
}
