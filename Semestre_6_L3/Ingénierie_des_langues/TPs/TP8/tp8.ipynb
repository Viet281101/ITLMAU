{
 "cells": [
  {
   "cell_type": "markdown",
   "id": "02033ca8-fd80-43bb-b43d-66d1bfeffd80",
   "metadata": {},
   "source": [
    "# IDL 16 Système de recommandation de films"
   ]
  },
  {
   "cell_type": "code",
   "execution_count": null,
   "id": "d72b6205-dabd-48f3-9ba8-c7d8710b4c4d",
   "metadata": {},
   "outputs": [],
   "source": []
  }
 ],
 "metadata": {
  "kernelspec": {
   "display_name": "Python 3 (ipykernel)",
   "language": "python",
   "name": "python3"
  },
  "language_info": {
   "codemirror_mode": {
    "name": "ipython",
    "version": 3
   },
   "file_extension": ".py",
   "mimetype": "text/x-python",
   "name": "python",
   "nbconvert_exporter": "python",
   "pygments_lexer": "ipython3",
   "version": "3.10.12"
  }
 },
 "nbformat": 4,
 "nbformat_minor": 5
}
