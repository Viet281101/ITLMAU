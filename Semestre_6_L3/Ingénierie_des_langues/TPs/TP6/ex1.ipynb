{
 "cells": [
  {
   "cell_type": "markdown",
   "metadata": {},
   "source": [
    "# Exercice 1"
   ]
  },
  {
   "cell_type": "code",
   "execution_count": 1,
   "metadata": {},
   "outputs": [],
   "source": [
    "import io"
   ]
  },
  {
   "cell_type": "markdown",
   "metadata": {},
   "source": [
    "## Acquisition des données et construction des sous-corpus droite et gauche"
   ]
  },
  {
   "cell_type": "code",
   "execution_count": 2,
   "metadata": {},
   "outputs": [],
   "source": [
    "corpus_path = './data_embeddings/HYPERBASE_Droite_VS_Gauche.txt'\n",
    "droite, gauche = '', ''\n",
    "parti = ''\n",
    "\n",
    "'''\n",
    "À COMPLÉTER : lire le fichier et mettre à jour les\n",
    "variables 'droite' et 'gauche' pour obtenir une variable 'droite' qui ne contient\n",
    "que les discours de droite et une variable 'gauche' qui ne contient que les\n",
    "discours de gauche.\n",
    "\n",
    "Utilisez la fonction readline pour \n",
    "\n",
    "vous pouvez utiliser la variable 'parti' pour stocker temporairement \n",
    "le parti en cours de lecture.\n",
    "'''\n",
    "\n",
    "with io.open(corpus_path, mode='r', encoding='utf-8') as inFile:\n",
    "    for line in inFile:\n",
    "        if '*parti_gauche' in line:\n",
    "            parti = 'gauche'\n",
    "        elif '*parti_droite' in line:\n",
    "            parti = 'droite'\n",
    "        if parti == 'gauche':\n",
    "            gauche += line + '\\n'\n",
    "        elif parti == 'droite':\n",
    "            droite += line + '\\n'"
   ]
  },
  {
   "cell_type": "markdown",
   "metadata": {},
   "source": [
    "## Sauvegarde des deux sous-corpus"
   ]
  },
  {
   "cell_type": "code",
   "execution_count": 3,
   "metadata": {},
   "outputs": [],
   "source": [
    "path_droite = './data_embeddings/DROITE.txt'\n",
    "path_gauche = './data_embeddings/GAUCHE.txt'\n",
    "# ouverture des flux d'écriture\n",
    "with io.open(path_droite, mode='w', encoding='utf-8') as outFile_droite:\n",
    "    outFile_droite.write(droite)\n",
    "\n",
    "# fermeture des flux d'écriture\n",
    "with io.open(path_gauche, mode='w', encoding='utf-8') as outFile_gauche:\n",
    "    outFile_gauche.write(gauche)"
   ]
  },
  {
   "cell_type": "code",
   "execution_count": null,
   "metadata": {},
   "outputs": [],
   "source": []
  }
 ],
 "metadata": {
  "kernelspec": {
   "display_name": "Python 3 (ipykernel)",
   "language": "python",
   "name": "python3"
  },
  "language_info": {
   "codemirror_mode": {
    "name": "ipython",
    "version": 3
   },
   "file_extension": ".py",
   "mimetype": "text/x-python",
   "name": "python",
   "nbconvert_exporter": "python",
   "pygments_lexer": "ipython3",
   "version": "3.10.12"
  }
 },
 "nbformat": 4,
 "nbformat_minor": 4
}
