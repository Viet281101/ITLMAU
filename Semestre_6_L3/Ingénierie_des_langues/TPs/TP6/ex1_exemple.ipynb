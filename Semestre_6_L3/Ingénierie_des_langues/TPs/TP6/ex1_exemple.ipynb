{
 "cells": [
  {
   "cell_type": "markdown",
   "id": "c6436b71-4213-41a8-940d-d6d467df944b",
   "metadata": {},
   "source": [
    "# IDL 14 Word Embeddings (plongements lexicaux)"
   ]
  },
  {
   "cell_type": "markdown",
   "id": "c8f9f05c-fc97-4480-a674-7dba0c043fb6",
   "metadata": {},
   "source": [
    "## Exercice 1 : Constitution des sous-corpus"
   ]
  },
  {
   "cell_type": "code",
   "execution_count": 1,
   "id": "06ab69fb-54a8-4205-8a23-f391129b4a08",
   "metadata": {},
   "outputs": [],
   "source": [
    "import io"
   ]
  },
  {
   "cell_type": "code",
   "execution_count": 2,
   "id": "eefe833a-f911-4e37-b8d5-2043f532cfd2",
   "metadata": {},
   "outputs": [],
   "source": [
    "# 1. Flux de lecture file_path = './path/to/file.txt' \n",
    "# io.open() :modes : 'r', 'w', 'a', 'x'\n",
    "file_path = './data_embeddings/HYPERBASE_Droite_VS_Gauche.txt'\n",
    "inFile = io.open(file_path, mode='r', encoding='utf-8') \n",
    "lines = inFile.readlines() # lines : liste des lignes \n",
    "inFile.close()"
   ]
  },
  {
   "cell_type": "code",
   "execution_count": 3,
   "id": "f83f05fe-d58a-445c-9f2b-dabe6b421bb9",
   "metadata": {},
   "outputs": [],
   "source": [
    "# 2. Flux d'ecriture\n",
    "s = 'Ceci est un enonce.' \n",
    "out_file_path ='./data_embeddings/file.txt' \n",
    "outFile = io.open(out_file_path, mode='w', encoding='utf-8') \n",
    "outFile.write(s) # Ecriture de s dans le fichier\n",
    "outFile.close()"
   ]
  },
  {
   "cell_type": "code",
   "execution_count": null,
   "id": "88b007a0-a9ad-463f-8f1b-8e356a11965e",
   "metadata": {},
   "outputs": [],
   "source": []
  }
 ],
 "metadata": {
  "kernelspec": {
   "display_name": "Python 3 (ipykernel)",
   "language": "python",
   "name": "python3"
  },
  "language_info": {
   "codemirror_mode": {
    "name": "ipython",
    "version": 3
   },
   "file_extension": ".py",
   "mimetype": "text/x-python",
   "name": "python",
   "nbconvert_exporter": "python",
   "pygments_lexer": "ipython3",
   "version": "3.10.12"
  }
 },
 "nbformat": 4,
 "nbformat_minor": 5
}
