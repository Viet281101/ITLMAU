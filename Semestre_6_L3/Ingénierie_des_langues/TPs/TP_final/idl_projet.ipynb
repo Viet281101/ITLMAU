{
 "cells": [
  {
   "cell_type": "markdown",
   "id": "50761eec-6294-4c42-8942-39ab61de2256",
   "metadata": {},
   "source": [
    "# IDL TP Final `scikit-learn` Projet"
   ]
  },
  {
   "cell_type": "markdown",
   "id": "3680d79d",
   "metadata": {},
   "source": [
    "## Charger les donnés"
   ]
  },
  {
   "cell_type": "code",
   "execution_count": 1,
   "id": "aa9e1078-0c99-4cad-a18c-dcaaa1b6862d",
   "metadata": {},
   "outputs": [],
   "source": [
    "import os\n",
    "import pandas as pd"
   ]
  },
  {
   "cell_type": "code",
   "execution_count": 2,
   "id": "99ee001d",
   "metadata": {},
   "outputs": [],
   "source": [
    "def load_reviews(data_dir):\n",
    "\treviews = []\n",
    "\tlabels = []\n",
    "\tfor label in [\"pos\", \"neg\"]:\n",
    "\t\tdirectory = os.path.join(data_dir, label)\n",
    "\t\tfor filename in os.listdir(directory):\n",
    "\t\t\tif filename.endswith(\".txt\"):\n",
    "\t\t\t\tfile_path = os.path.join(directory, filename)\n",
    "\t\t\t\twith open(file_path, 'r', encoding='utf-8') as file:\n",
    "\t\t\t\t\treviews.append(file.read())\n",
    "\t\t\t\t\tlabels.append(1 if label == \"pos\" else 0)\n",
    "\treturn reviews, labels"
   ]
  },
  {
   "cell_type": "code",
   "execution_count": 3,
   "id": "38e21e8c",
   "metadata": {},
   "outputs": [],
   "source": [
    "data_dir = 'imdb_smol'\n",
    "reviews, labels = load_reviews(data_dir)\n",
    "reviews_df = pd.DataFrame({'review': reviews, 'label': labels})"
   ]
  },
  {
   "cell_type": "code",
   "execution_count": 4,
   "id": "457dc251",
   "metadata": {},
   "outputs": [
    {
     "name": "stdout",
     "output_type": "stream",
     "text": [
      "Nombre de données: 602\n"
     ]
    }
   ],
   "source": [
    "print(\"Nombre de données:\", len(reviews_df))"
   ]
  },
  {
   "cell_type": "code",
   "execution_count": 5,
   "id": "ab96ddae",
   "metadata": {},
   "outputs": [
    {
     "data": {
      "text/html": [
       "<div>\n",
       "<style scoped>\n",
       "    .dataframe tbody tr th:only-of-type {\n",
       "        vertical-align: middle;\n",
       "    }\n",
       "\n",
       "    .dataframe tbody tr th {\n",
       "        vertical-align: top;\n",
       "    }\n",
       "\n",
       "    .dataframe thead th {\n",
       "        text-align: right;\n",
       "    }\n",
       "</style>\n",
       "<table border=\"1\" class=\"dataframe\">\n",
       "  <thead>\n",
       "    <tr style=\"text-align: right;\">\n",
       "      <th></th>\n",
       "      <th>review</th>\n",
       "      <th>label</th>\n",
       "    </tr>\n",
       "  </thead>\n",
       "  <tbody>\n",
       "    <tr>\n",
       "      <th>0</th>\n",
       "      <td>The production quality, cast, premise, authent...</td>\n",
       "      <td>1</td>\n",
       "    </tr>\n",
       "    <tr>\n",
       "      <th>1</th>\n",
       "      <td>This is no art-house film, it's mainstream ent...</td>\n",
       "      <td>1</td>\n",
       "    </tr>\n",
       "    <tr>\n",
       "      <th>2</th>\n",
       "      <td>Two great comedians in a great Neil Simon movi...</td>\n",
       "      <td>1</td>\n",
       "    </tr>\n",
       "    <tr>\n",
       "      <th>3</th>\n",
       "      <td>I'm a fan of TV movies in general and this was...</td>\n",
       "      <td>1</td>\n",
       "    </tr>\n",
       "    <tr>\n",
       "      <th>4</th>\n",
       "      <td>Once upon a time in a castle...... Two little ...</td>\n",
       "      <td>1</td>\n",
       "    </tr>\n",
       "  </tbody>\n",
       "</table>\n",
       "</div>"
      ],
      "text/plain": [
       "                                              review  label\n",
       "0  The production quality, cast, premise, authent...      1\n",
       "1  This is no art-house film, it's mainstream ent...      1\n",
       "2  Two great comedians in a great Neil Simon movi...      1\n",
       "3  I'm a fan of TV movies in general and this was...      1\n",
       "4  Once upon a time in a castle...... Two little ...      1"
      ]
     },
     "execution_count": 5,
     "metadata": {},
     "output_type": "execute_result"
    }
   ],
   "source": [
    "reviews_df.head()"
   ]
  },
  {
   "cell_type": "code",
   "execution_count": 6,
   "id": "a6f6dc37",
   "metadata": {},
   "outputs": [
    {
     "name": "stdout",
     "output_type": "stream",
     "text": [
      "\n",
      "Nombre de notes positives: 301\n",
      "Nombre de notes négatives: 301\n"
     ]
    }
   ],
   "source": [
    "print(\"\\nNombre de notes positives:\", (reviews_df['label'] == 1).sum())\n",
    "print(\"Nombre de notes négatives:\", (reviews_df['label'] == 0).sum())"
   ]
  },
  {
   "cell_type": "code",
   "execution_count": 7,
   "id": "0f6964c0",
   "metadata": {},
   "outputs": [
    {
     "name": "stdout",
     "output_type": "stream",
     "text": [
      "\n",
      "Informations générales sur le DataFrame:\n",
      "<class 'pandas.core.frame.DataFrame'>\n",
      "RangeIndex: 602 entries, 0 to 601\n",
      "Data columns (total 2 columns):\n",
      " #   Column  Non-Null Count  Dtype \n",
      "---  ------  --------------  ----- \n",
      " 0   review  602 non-null    object\n",
      " 1   label   602 non-null    int64 \n",
      "dtypes: int64(1), object(1)\n",
      "memory usage: 9.5+ KB\n",
      "None\n"
     ]
    }
   ],
   "source": [
    "print(\"\\nInformations générales sur le DataFrame:\")\n",
    "print(reviews_df.info())"
   ]
  },
  {
   "cell_type": "code",
   "execution_count": 8,
   "id": "80d0a0c8",
   "metadata": {},
   "outputs": [
    {
     "name": "stdout",
     "output_type": "stream",
     "text": [
      "\n",
      "Index de la note de review: 307 \n",
      "Texte de la note de review:\n",
      " *Possible Spoiler*<br /><br />'Return to Cabin by the Lake' is a useless movie. The acting was not good and the plot wasn't even remotely interesting.<br /><br />'Cabin by the Lake' is a good TV movie. The sequel was not. Judd Nelson was very good in the first film and put a whole lot more into his character than in this. It seemed as if HE wasn't even interested in doing the sequel. His acting was good but it could have been better. I really don't want to comment on the rest of the cast because in my opinion, they're not even worth mentioning. But I'll do it. The character of Alison isn't even hardly shown in the first part of the film. All of a sudden she's the center of attention next to Stanley Caldwell. The role didn't make sense and it should have been thought out a little better. Dahlia Salem was absolutely terrible. Her acting was way below decent and the casting people should have looked for somebody else, anybody else. The director, Mike, was a confusing character. He seemed to have a purpose for being there but it didn't seem like his death was necessary. The acting for this role was good, nothing great but better than Salem's.<br /><br />The plot was real lousy if you think about it. Stanley, who is presumed dead, makes his way onto the set of 'Cabin by the Lake', the movie based on his script. He stumbles upon the director and in a short time, the director is dead and Stanley is running the show. Yeah, out of nowhere the crew is just going to let this stranger come into the picture and finish the film not knowing anything about him. There's some killings, not a whole lot, and the one's that are shown are ridiculous. One of the actresses on the set gets electrocuted while filming a scene. Another character gets chewed up by a motorboat. And one gets tangled up in a plant before drowning. These writers must have been hard up for excitement.<br /><br />I just have to say that I was not impressed with the filming of the movie. The way that it kept changing from looking low budget back to normal started to become irritating very fast. Also, the new cabin by the lake was poorly created. We aren't shown it but only in a few scenes, and the whole thing with the chain in the basement was useless. It worked in the first film only because we were shown the room a lot more, but it didn't work in this one.<br /><br />There were too many characters in this sequel. All of them except for a few had no reason to be there. The acting of what little is showed was really bad and...they just didn't have a purpose in this movie.<br /><br />All in all, 'Return to Cabin by the Lake' is a sequel picking up from where the first left off. 'Cabin by the Lake' I can take but this was just not impressive. Judd Nelson should have avoided this one and so should you. It's nothing like the first and it went entirely too slow. Nothing happened in the first hour and it continued to drag on for the second. Not to mention that the writing was horrible. Put this on only if you need some help getting to sleep.<br /><br />So, we see that Stanley defies death and is still alive and well. By the way he talks, it sounds like there could be a possible third installment to a movie good just by itself. Quit throwing in sequels and we may be alright!<br /><br />(Did the film makers not realize that they showed us how they filmed the lake scenes from the first one? They were all done in a tank. Never, never reveal the secrets of filming.)<br /><br />\n",
      "Étiquette: Négative\n",
      "\n",
      "Index de la note de review: 307 \n",
      "Texte de la note de review:\n",
      " *Possible Spoiler*<br /><br />'Return to Cabin by the Lake' is a useless movie. The acting was not good and the plot wasn't even remotely interesting.<br /><br />'Cabin by the Lake' is a good TV movie. The sequel was not. Judd Nelson was very good in the first film and put a whole lot more into his character than in this. It seemed as if HE wasn't even interested in doing the sequel. His acting was good but it could have been better. I really don't want to comment on the rest of the cast because in my opinion, they're not even worth mentioning. But I'll do it. The character of Alison isn't even hardly shown in the first part of the film. All of a sudden she's the center of attention next to Stanley Caldwell. The role didn't make sense and it should have been thought out a little better. Dahlia Salem was absolutely terrible. Her acting was way below decent and the casting people should have looked for somebody else, anybody else. The director, Mike, was a confusing character. He seemed to have a purpose for being there but it didn't seem like his death was necessary. The acting for this role was good, nothing great but better than Salem's.<br /><br />The plot was real lousy if you think about it. Stanley, who is presumed dead, makes his way onto the set of 'Cabin by the Lake', the movie based on his script. He stumbles upon the director and in a short time, the director is dead and Stanley is running the show. Yeah, out of nowhere the crew is just going to let this stranger come into the picture and finish the film not knowing anything about him. There's some killings, not a whole lot, and the one's that are shown are ridiculous. One of the actresses on the set gets electrocuted while filming a scene. Another character gets chewed up by a motorboat. And one gets tangled up in a plant before drowning. These writers must have been hard up for excitement.<br /><br />I just have to say that I was not impressed with the filming of the movie. The way that it kept changing from looking low budget back to normal started to become irritating very fast. Also, the new cabin by the lake was poorly created. We aren't shown it but only in a few scenes, and the whole thing with the chain in the basement was useless. It worked in the first film only because we were shown the room a lot more, but it didn't work in this one.<br /><br />There were too many characters in this sequel. All of them except for a few had no reason to be there. The acting of what little is showed was really bad and...they just didn't have a purpose in this movie.<br /><br />All in all, 'Return to Cabin by the Lake' is a sequel picking up from where the first left off. 'Cabin by the Lake' I can take but this was just not impressive. Judd Nelson should have avoided this one and so should you. It's nothing like the first and it went entirely too slow. Nothing happened in the first hour and it continued to drag on for the second. Not to mention that the writing was horrible. Put this on only if you need some help getting to sleep.<br /><br />So, we see that Stanley defies death and is still alive and well. By the way he talks, it sounds like there could be a possible third installment to a movie good just by itself. Quit throwing in sequels and we may be alright!<br /><br />(Did the film makers not realize that they showed us how they filmed the lake scenes from the first one? They were all done in a tank. Never, never reveal the secrets of filming.)<br /><br />\n",
      "Étiquette: Négative\n",
      "\n",
      "Index de la note de review: 179 \n",
      "Texte de la note de review:\n",
      " Caught the tail end of this movie channel surfing through the cable movie channels, and was so intrigued I sought out the next showing.<br /><br />I really didn't know what to expect after reading the program summary, but I came away from this movie feeling quite disturbed and distressed. It also gave me as adult who attended high school in the 80's, a little better insight into what our kids have to contend with these days.<br /><br />The fact that you don't see the shooting only adds to the chillness of the plot. To see both child and adult alike struggle to comprehend and come to terms with the senseless shootings was at times overwhelming. And will admit that I shed quite a few tears throughout.<br /><br />On the whole, not a movie that I would seek out to what, however I am sure glad I did see it.\n",
      "Étiquette: Positive\n",
      "\n",
      "Index de la note de review: 179 \n",
      "Texte de la note de review:\n",
      " Caught the tail end of this movie channel surfing through the cable movie channels, and was so intrigued I sought out the next showing.<br /><br />I really didn't know what to expect after reading the program summary, but I came away from this movie feeling quite disturbed and distressed. It also gave me as adult who attended high school in the 80's, a little better insight into what our kids have to contend with these days.<br /><br />The fact that you don't see the shooting only adds to the chillness of the plot. To see both child and adult alike struggle to comprehend and come to terms with the senseless shootings was at times overwhelming. And will admit that I shed quite a few tears throughout.<br /><br />On the whole, not a movie that I would seek out to what, however I am sure glad I did see it.\n",
      "Étiquette: Positive\n",
      "\n",
      "Index de la note de review: 344 \n",
      "Texte de la note de review:\n",
      " Amateur, no budget films can be surprisingly good ... this however is not one of them.<br /><br />Ah, another Brad Sykes atrocity. The acting is hideous, except for Emmy Smith who shows some promise. The camera \"direction\" needs serious reworking. And no more \"hold the camera and run\" gimmicks either; it just doesn't work. The special effects are unimaginative, there's a problem when the effect can be identified in real time. If you're going to rip off an ear, please don't let us see the actor's real ear beneath the blood. The scenery is bland and boring (same as Mr. Sykes other ventures), and the music is a cross between cheap motel porn and really bad guitar driven metal (see the scenery comment).<br /><br />Did I mention the lack of any real plot, or character development? Apparently, the scriptwriter didn't.<br /><br />Whoever is funding this guy ... please stop. I've seen some of his other \"home movies\" (which I will not plug) and they are just as bad. Normally, a \"director\" will grow and learn from his previous efforts ... not this guy. It's one thing to be an amateur filmmaker, but anyone can be a hack.<br /><br />Definitely not even a popcorn film ... of course, chewing on popcorn kernels would be less painful than this effort.<br /><br />Award: The worst ever military push-ups in a film.\n",
      "Étiquette: Négative\n",
      "\n",
      "Index de la note de review: 344 \n",
      "Texte de la note de review:\n",
      " Amateur, no budget films can be surprisingly good ... this however is not one of them.<br /><br />Ah, another Brad Sykes atrocity. The acting is hideous, except for Emmy Smith who shows some promise. The camera \"direction\" needs serious reworking. And no more \"hold the camera and run\" gimmicks either; it just doesn't work. The special effects are unimaginative, there's a problem when the effect can be identified in real time. If you're going to rip off an ear, please don't let us see the actor's real ear beneath the blood. The scenery is bland and boring (same as Mr. Sykes other ventures), and the music is a cross between cheap motel porn and really bad guitar driven metal (see the scenery comment).<br /><br />Did I mention the lack of any real plot, or character development? Apparently, the scriptwriter didn't.<br /><br />Whoever is funding this guy ... please stop. I've seen some of his other \"home movies\" (which I will not plug) and they are just as bad. Normally, a \"director\" will grow and learn from his previous efforts ... not this guy. It's one thing to be an amateur filmmaker, but anyone can be a hack.<br /><br />Definitely not even a popcorn film ... of course, chewing on popcorn kernels would be less painful than this effort.<br /><br />Award: The worst ever military push-ups in a film.\n",
      "Étiquette: Négative\n",
      "\n",
      "Index de la note de review: 94 \n",
      "Texte de la note de review:\n",
      " \"Wisecracker,\" the biography of actor William Haines, offers a gratifying anecdote about the former star when he was past 70 and long retired from making movies. The old gent was not sentimental and rarely watched his own films, but in 1972 he was persuaded to attend a Los Angeles museum screening of SHOW PEOPLE, the late silent feature in which he co-starred with Marion Davies. Beforehand, Haines was worried that this comedy would provoke the wrong kind of laughter, but he was pleasantly surprised (and no doubt relieved) at how well it held up and how much the young audience enjoyed it. Watch the film today and you can see why: SHOW PEOPLE is a delightful Hollywood satire that retains its charm because it lampoons its targets with wit and flair, yet without malice. It's still funny and its satirical points still resonate. Needless to say, the technology of movie-making has changed vastly since the silent days, but the pretensions and follies of the filmmakers themselves haven't changed all that much.<br /><br />SHOW PEOPLE also stands as the best surviving work of Marion Davies, a first-rate comic performer who deserves a prominent place in the pantheon of great comediennes. Where her career was concerned Davies was both blessed and cursed by the patronage of her paramour, the newspaper magnate William Randolph Hearst. It's well known that Hearst exerted enormous influence over Davies' choice of roles, and well known too that, despite her gift for comedy, he preferred to see her play dignified heroines in period costume dramas. By the late '20s, for whatever reason, Marion was permitted to strut her stuff in several exuberant light comedies (including THE RED MILL and THE PATSY), but SHOW PEOPLE, directed by the great King Vidor, stands as her most enjoyable showcase. William Haines gives an engaging, likable performance as her boyfriend and co-star Billy Boone, but this is the leading lady's show all the way.<br /><br />Marion plays Southern belle Peggy Pepper, an aspiring actress who storms Hollywood accompanied by her father, determined to become a movie star. (Her dad Colonel Pepper is played by actor/director Dell Henderson, a veteran of Griffith's Biograph dramas whocoincidentally?resembled Hearst!) One of Marion's funniest bits, often excerpted elsewhere, is her audition at the Comet Studio casting office. While Dad helpfully suggests emotions to portray (\"Sorrow! . . . Joy!\") and drops a handkerchief across her face, Peggy assumes the appropriate expression and posture. She's hired, only to discover that Comet makes low-brow comedies, the kind of comedies where people squirt each other with seltzer and inept cops tumble over each other racing to the rescue. Of course, Comet is intended as a take-off of Mack Sennett's Keystone, but the true nature of the satire becomes clear as the story unfolds. As Peggy Pepper rises in the movie star hierarchy she leaves Comet for the more prestigious High Art Studio, assuming the name \"Patricia Peppoire\" as more befitting her new station in life as a serious actress. At some point it may occur to us (as it surely did to viewers in 1928) that Davies' rival Gloria Swanson started out in Keystone comedies before rising to prominence in serious dramas for Cecil B. DeMille. And as Miss Peppoire takes herself more and more seriously, giving the high-hat treatment to former colleagues such as lowly comic Billy Boone, Davies' performance takes on an element of wicked parody seemingly aimed squarely at Swanson herself. This is especially notable during an interview sequence, when Miss Peppoire's spokesman spouts pretentious nonsense while the star delivers a spot-on impersonation of Swanson. I suppose this was intended as a friendly spoof, but I have to wonder how friendly relations were between Gloria and Marion after this movie was released.<br /><br />In any event, SHOW PEOPLE is a delicious treat for buffs, who will relish the parade of star cameos throughout. Charlie Chaplin contributes a nice bit, sans makeup and looking quite distinguished, eagerly seeking Patricia Peppoire's autograph! (And in a show of good sportsmanship Marion Davies herself puts in a self-mocking cameo appearance, evening the score for poking fun at Swanson by poking fun at herself.) This is a silent film that viewers not especially attuned to silents might appreciate, at least those viewers with a taste for movies about the movie business. SHOW PEOPLE surely belongs in the company of such classics as SUNSET BOULEVARD and SINGIN' IN THE RAIN, among Hollywood's most expertly produced, enjoyable exercises in amused self-examination.\n",
      "Étiquette: Positive\n",
      "\n",
      "Index de la note de review: 94 \n",
      "Texte de la note de review:\n",
      " \"Wisecracker,\" the biography of actor William Haines, offers a gratifying anecdote about the former star when he was past 70 and long retired from making movies. The old gent was not sentimental and rarely watched his own films, but in 1972 he was persuaded to attend a Los Angeles museum screening of SHOW PEOPLE, the late silent feature in which he co-starred with Marion Davies. Beforehand, Haines was worried that this comedy would provoke the wrong kind of laughter, but he was pleasantly surprised (and no doubt relieved) at how well it held up and how much the young audience enjoyed it. Watch the film today and you can see why: SHOW PEOPLE is a delightful Hollywood satire that retains its charm because it lampoons its targets with wit and flair, yet without malice. It's still funny and its satirical points still resonate. Needless to say, the technology of movie-making has changed vastly since the silent days, but the pretensions and follies of the filmmakers themselves haven't changed all that much.<br /><br />SHOW PEOPLE also stands as the best surviving work of Marion Davies, a first-rate comic performer who deserves a prominent place in the pantheon of great comediennes. Where her career was concerned Davies was both blessed and cursed by the patronage of her paramour, the newspaper magnate William Randolph Hearst. It's well known that Hearst exerted enormous influence over Davies' choice of roles, and well known too that, despite her gift for comedy, he preferred to see her play dignified heroines in period costume dramas. By the late '20s, for whatever reason, Marion was permitted to strut her stuff in several exuberant light comedies (including THE RED MILL and THE PATSY), but SHOW PEOPLE, directed by the great King Vidor, stands as her most enjoyable showcase. William Haines gives an engaging, likable performance as her boyfriend and co-star Billy Boone, but this is the leading lady's show all the way.<br /><br />Marion plays Southern belle Peggy Pepper, an aspiring actress who storms Hollywood accompanied by her father, determined to become a movie star. (Her dad Colonel Pepper is played by actor/director Dell Henderson, a veteran of Griffith's Biograph dramas whocoincidentally?resembled Hearst!) One of Marion's funniest bits, often excerpted elsewhere, is her audition at the Comet Studio casting office. While Dad helpfully suggests emotions to portray (\"Sorrow! . . . Joy!\") and drops a handkerchief across her face, Peggy assumes the appropriate expression and posture. She's hired, only to discover that Comet makes low-brow comedies, the kind of comedies where people squirt each other with seltzer and inept cops tumble over each other racing to the rescue. Of course, Comet is intended as a take-off of Mack Sennett's Keystone, but the true nature of the satire becomes clear as the story unfolds. As Peggy Pepper rises in the movie star hierarchy she leaves Comet for the more prestigious High Art Studio, assuming the name \"Patricia Peppoire\" as more befitting her new station in life as a serious actress. At some point it may occur to us (as it surely did to viewers in 1928) that Davies' rival Gloria Swanson started out in Keystone comedies before rising to prominence in serious dramas for Cecil B. DeMille. And as Miss Peppoire takes herself more and more seriously, giving the high-hat treatment to former colleagues such as lowly comic Billy Boone, Davies' performance takes on an element of wicked parody seemingly aimed squarely at Swanson herself. This is especially notable during an interview sequence, when Miss Peppoire's spokesman spouts pretentious nonsense while the star delivers a spot-on impersonation of Swanson. I suppose this was intended as a friendly spoof, but I have to wonder how friendly relations were between Gloria and Marion after this movie was released.<br /><br />In any event, SHOW PEOPLE is a delicious treat for buffs, who will relish the parade of star cameos throughout. Charlie Chaplin contributes a nice bit, sans makeup and looking quite distinguished, eagerly seeking Patricia Peppoire's autograph! (And in a show of good sportsmanship Marion Davies herself puts in a self-mocking cameo appearance, evening the score for poking fun at Swanson by poking fun at herself.) This is a silent film that viewers not especially attuned to silents might appreciate, at least those viewers with a taste for movies about the movie business. SHOW PEOPLE surely belongs in the company of such classics as SUNSET BOULEVARD and SINGIN' IN THE RAIN, among Hollywood's most expertly produced, enjoyable exercises in amused self-examination.\n",
      "Étiquette: Positive\n",
      "\n",
      "Index de la note de review: 524 \n",
      "Texte de la note de review:\n",
      " :Spoilers:<br /><br />I was very disappointed in Love's Abiding Joy. I had been waiting a really long time to see it and I finally got the chance when it re-aired Thursday night on Hallmark. I love the first three \"Love\" movies but this one was nothing like I thought it was going to be. The whole movie was sad and depressing, there were way to many goofs, and the editing was very poor - to many scenes out of context. I also think the death of baby Kathy happened way to soon and Clarks appearance in the movie just didn't seem to fit. It seemed like none of the actors really wanted to be there - they were all lacking emotion. There seemed to be no interaction between Missie and Willie at all.<br /><br />I think the script writers should have went more by the book. It seems like every movie that's been made so far just slips further and further away from Janette Oke's writings. I mean in the movie they never mentioned a thing about the mine and the two boys or Clark getting hurt because of it. And I think Missie and Willies reactions to Kathy's death could have been shown and heard rather than just heard.<br /><br />Out of the four movies that have been made so far I'd have to say that Love's Abiding Joy is my least favorite. I hope with the next four movies that more of the book is followed and if Clarks character is in them I hope he's got a bigger part and I hope his part isn't so bland. I also hope there is more of Scottie and Cookie and maybe even Marty but who knows what the script writers will have in store next.\n",
      "Étiquette: Négative\n",
      "\n",
      "Index de la note de review: 524 \n",
      "Texte de la note de review:\n",
      " :Spoilers:<br /><br />I was very disappointed in Love's Abiding Joy. I had been waiting a really long time to see it and I finally got the chance when it re-aired Thursday night on Hallmark. I love the first three \"Love\" movies but this one was nothing like I thought it was going to be. The whole movie was sad and depressing, there were way to many goofs, and the editing was very poor - to many scenes out of context. I also think the death of baby Kathy happened way to soon and Clarks appearance in the movie just didn't seem to fit. It seemed like none of the actors really wanted to be there - they were all lacking emotion. There seemed to be no interaction between Missie and Willie at all.<br /><br />I think the script writers should have went more by the book. It seems like every movie that's been made so far just slips further and further away from Janette Oke's writings. I mean in the movie they never mentioned a thing about the mine and the two boys or Clark getting hurt because of it. And I think Missie and Willies reactions to Kathy's death could have been shown and heard rather than just heard.<br /><br />Out of the four movies that have been made so far I'd have to say that Love's Abiding Joy is my least favorite. I hope with the next four movies that more of the book is followed and if Clarks character is in them I hope he's got a bigger part and I hope his part isn't so bland. I also hope there is more of Scottie and Cookie and maybe even Marty but who knows what the script writers will have in store next.\n",
      "Étiquette: Négative\n"
     ]
    }
   ],
   "source": [
    "for index, row in reviews_df.sample(5).iterrows():\n",
    "\tprint(\"\\nIndex de la note de review:\", index, \"\\nTexte de la note de review:\\n\", row['review'])\n",
    "\tprint(\"Étiquette:\", \"Positive\" if row['label'] == 1 else \"Négative\")\n",
    "\n",
    "\tprint(\"\\nIndex de la note de review:\", index, \"\\nTexte de la note de review:\\n\", row['review'])\n",
    "\tprint(\"Étiquette:\", \"Positive\" if row['label'] == 1 else \"Négative\")"
   ]
  },
  {
   "cell_type": "markdown",
   "id": "20f27708",
   "metadata": {},
   "source": [
    "## Vectorisation"
   ]
  },
  {
   "cell_type": "code",
   "execution_count": 9,
   "id": "17184c79",
   "metadata": {},
   "outputs": [],
   "source": [
    "from sklearn.feature_extraction.text import TfidfVectorizer, CountVectorizer"
   ]
  },
  {
   "cell_type": "code",
   "execution_count": 10,
   "id": "685f1f1a",
   "metadata": {},
   "outputs": [],
   "source": [
    "def vectorize_text(data, vectorizer):\n",
    "\t\"\"\"Vectorize text data using specified vectorizer.\"\"\"\n",
    "\tvectorized_data = vectorizer.fit_transform(data)\n",
    "\treturn vectorized_data, vectorizer"
   ]
  },
  {
   "cell_type": "code",
   "execution_count": 11,
   "id": "a67a5acd",
   "metadata": {},
   "outputs": [],
   "source": [
    "tfidf_vectorizer = TfidfVectorizer(stop_words='english', max_features=5000)"
   ]
  },
  {
   "cell_type": "code",
   "execution_count": 12,
   "id": "8877af3e",
   "metadata": {},
   "outputs": [],
   "source": [
    "count_vectorizer = CountVectorizer(stop_words='english', max_features=5000)"
   ]
  },
  {
   "cell_type": "code",
   "execution_count": 13,
   "id": "19ef4435",
   "metadata": {},
   "outputs": [
    {
     "name": "stdout",
     "output_type": "stream",
     "text": [
      "Forme de la matrice TF-IDF : (602, 5000)\n"
     ]
    }
   ],
   "source": [
    "features, current_vectorizer = vectorize_text(reviews_df['review'], tfidf_vectorizer)\n",
    "print(\"Forme de la matrice TF-IDF :\", features.shape)"
   ]
  },
  {
   "cell_type": "code",
   "execution_count": 14,
   "id": "a469aa6f",
   "metadata": {},
   "outputs": [
    {
     "name": "stdout",
     "output_type": "stream",
     "text": [
      "Forme de la matrice Count : (602, 5000)\n"
     ]
    }
   ],
   "source": [
    "features_count, _ = vectorize_text(reviews_df['review'], count_vectorizer)\n",
    "print(\"Forme de la matrice Count :\", features_count.shape)"
   ]
  },
  {
   "cell_type": "markdown",
   "id": "47d27321",
   "metadata": {},
   "source": [
    "## Entraînement"
   ]
  },
  {
   "cell_type": "markdown",
   "id": "b682dc09",
   "metadata": {},
   "source": [
    "### 1. Logistic Regression"
   ]
  },
  {
   "cell_type": "code",
   "execution_count": 15,
   "id": "e59d72e8",
   "metadata": {},
   "outputs": [],
   "source": [
    "from sklearn.model_selection import train_test_split\n",
    "from sklearn.linear_model import LogisticRegression\n",
    "from sklearn.metrics import classification_report, accuracy_score"
   ]
  },
  {
   "cell_type": "code",
   "execution_count": 16,
   "id": "13a93072",
   "metadata": {},
   "outputs": [],
   "source": [
    "def train_and_evaluate(features, labels):\n",
    "\t\"\"\"Train and evaluate a logistic regression model.\"\"\"\n",
    "\tX_train, X_test, y_train, y_test = train_test_split(features, labels, test_size=0.25, random_state=42)\n",
    "\tmodel = LogisticRegression(random_state=42)\n",
    "\tmodel.fit(X_train, y_train)\n",
    "\ty_pred = model.predict(X_test)\n",
    "\tprint(\"Accuracy:\", accuracy_score(y_test, y_pred))\n",
    "\tprint(\"Classification Report:\\n\", classification_report(y_test, y_pred))"
   ]
  },
  {
   "cell_type": "code",
   "execution_count": 17,
   "id": "957b0da3",
   "metadata": {},
   "outputs": [
    {
     "name": "stdout",
     "output_type": "stream",
     "text": [
      "Accuracy: 0.8543046357615894\n",
      "Classification Report:\n",
      "               precision    recall  f1-score   support\n",
      "\n",
      "           0       0.81      0.88      0.85        68\n",
      "           1       0.90      0.83      0.86        83\n",
      "\n",
      "    accuracy                           0.85       151\n",
      "   macro avg       0.85      0.86      0.85       151\n",
      "weighted avg       0.86      0.85      0.85       151\n",
      "\n"
     ]
    }
   ],
   "source": [
    "train_and_evaluate(features, reviews_df['label'])"
   ]
  },
  {
   "cell_type": "code",
   "execution_count": 18,
   "id": "b29ce041",
   "metadata": {},
   "outputs": [
    {
     "name": "stdout",
     "output_type": "stream",
     "text": [
      "Accuracy: 0.8079470198675497\n",
      "Classification Report:\n",
      "               precision    recall  f1-score   support\n",
      "\n",
      "           0       0.79      0.78      0.79        68\n",
      "           1       0.82      0.83      0.83        83\n",
      "\n",
      "    accuracy                           0.81       151\n",
      "   macro avg       0.81      0.81      0.81       151\n",
      "weighted avg       0.81      0.81      0.81       151\n",
      "\n"
     ]
    }
   ],
   "source": [
    "train_and_evaluate(features_count, reviews_df['label'])"
   ]
  },
  {
   "cell_type": "markdown",
   "id": "f44d1335",
   "metadata": {},
   "source": [
    "### 2. SVM & GridSearchCV"
   ]
  },
  {
   "cell_type": "code",
   "execution_count": 19,
   "id": "59cb8cf1",
   "metadata": {},
   "outputs": [],
   "source": [
    "from sklearn.svm import SVC\n",
    "from sklearn.model_selection import GridSearchCV"
   ]
  },
  {
   "cell_type": "code",
   "execution_count": 20,
   "id": "219b505f",
   "metadata": {},
   "outputs": [],
   "source": [
    "def train_and_evaluate_svm(X_train, y_train, X_test, y_test):\n",
    "\tparam_grid = {\n",
    "\t\t'C': [0.1, 1, 10, 100],\n",
    "\t\t'kernel': ['linear', 'rbf'],\n",
    "\t\t'gamma': ['scale', 'auto']\n",
    "\t}\n",
    "\tgrid_search = GridSearchCV(SVC(), param_grid, cv=5, scoring='accuracy', verbose=1)\n",
    "\tgrid_search.fit(X_train, y_train)\n",
    "\tprint(\"Best parameters:\", grid_search.best_params_)\n",
    "\tbest_model = grid_search.best_estimator_\n",
    "\ty_pred = best_model.predict(X_test)\n",
    "\tprint(\"Accuracy:\", accuracy_score(y_test, y_pred))\n",
    "\tprint(\"Classification Report:\\n\", classification_report(y_test, y_pred))"
   ]
  },
  {
   "cell_type": "code",
   "execution_count": 21,
   "id": "4a11372f",
   "metadata": {},
   "outputs": [
    {
     "name": "stdout",
     "output_type": "stream",
     "text": [
      "Fitting 5 folds for each of 16 candidates, totalling 80 fits\n",
      "Best parameters: {'C': 10, 'gamma': 'scale', 'kernel': 'rbf'}\n",
      "Accuracy: 1.0\n",
      "Classification Report:\n",
      "               precision    recall  f1-score   support\n",
      "\n",
      "           0       1.00      1.00      1.00       301\n",
      "           1       1.00      1.00      1.00       301\n",
      "\n",
      "    accuracy                           1.00       602\n",
      "   macro avg       1.00      1.00      1.00       602\n",
      "weighted avg       1.00      1.00      1.00       602\n",
      "\n"
     ]
    }
   ],
   "source": [
    "train_and_evaluate_svm(features, reviews_df['label'], features, reviews_df['label'])"
   ]
  },
  {
   "cell_type": "code",
   "execution_count": 22,
   "id": "e74daa46",
   "metadata": {},
   "outputs": [
    {
     "name": "stdout",
     "output_type": "stream",
     "text": [
      "Fitting 5 folds for each of 16 candidates, totalling 80 fits\n",
      "Best parameters: {'C': 100, 'gamma': 'auto', 'kernel': 'rbf'}\n",
      "Accuracy: 1.0\n",
      "Classification Report:\n",
      "               precision    recall  f1-score   support\n",
      "\n",
      "           0       1.00      1.00      1.00       301\n",
      "           1       1.00      1.00      1.00       301\n",
      "\n",
      "    accuracy                           1.00       602\n",
      "   macro avg       1.00      1.00      1.00       602\n",
      "weighted avg       1.00      1.00      1.00       602\n",
      "\n"
     ]
    }
   ],
   "source": [
    "train_and_evaluate_svm(features_count, reviews_df['label'], features_count, reviews_df['label'])"
   ]
  },
  {
   "cell_type": "markdown",
   "id": "9d1eedc1",
   "metadata": {},
   "source": [
    "### 3. Random Forest"
   ]
  },
  {
   "cell_type": "code",
   "execution_count": 23,
   "id": "f5ccd2b1",
   "metadata": {},
   "outputs": [],
   "source": [
    "from sklearn.ensemble import RandomForestClassifier"
   ]
  },
  {
   "cell_type": "code",
   "execution_count": 24,
   "id": "c016a6bd",
   "metadata": {},
   "outputs": [],
   "source": [
    "def train_and_evaluate_rf(features, labels):\n",
    "\tX_train, X_test, y_train, y_test = train_test_split(features, labels, test_size=0.25, random_state=42)\n",
    "\tmodel = RandomForestClassifier(n_estimators=100, random_state=42)\n",
    "\tmodel.fit(X_train, y_train)\n",
    "\ty_pred = model.predict(X_test)\n",
    "\tprint(\"Accuracy:\", accuracy_score(y_test, y_pred))\n",
    "\tprint(\"Classification Report:\\n\", classification_report(y_test, y_pred))"
   ]
  },
  {
   "cell_type": "code",
   "execution_count": 25,
   "id": "3f5e0366",
   "metadata": {},
   "outputs": [
    {
     "name": "stdout",
     "output_type": "stream",
     "text": [
      "Accuracy: 0.7549668874172185\n",
      "Classification Report:\n",
      "               precision    recall  f1-score   support\n",
      "\n",
      "           0       0.70      0.81      0.75        68\n",
      "           1       0.82      0.71      0.76        83\n",
      "\n",
      "    accuracy                           0.75       151\n",
      "   macro avg       0.76      0.76      0.75       151\n",
      "weighted avg       0.76      0.75      0.76       151\n",
      "\n"
     ]
    }
   ],
   "source": [
    "train_and_evaluate_rf(features, reviews_df['label'])"
   ]
  },
  {
   "cell_type": "code",
   "execution_count": 26,
   "id": "2816870d",
   "metadata": {},
   "outputs": [
    {
     "name": "stdout",
     "output_type": "stream",
     "text": [
      "Accuracy: 0.7549668874172185\n",
      "Classification Report:\n",
      "               precision    recall  f1-score   support\n",
      "\n",
      "           0       0.68      0.87      0.76        68\n",
      "           1       0.86      0.66      0.75        83\n",
      "\n",
      "    accuracy                           0.75       151\n",
      "   macro avg       0.77      0.77      0.75       151\n",
      "weighted avg       0.78      0.75      0.75       151\n",
      "\n"
     ]
    }
   ],
   "source": [
    "train_and_evaluate_rf(features_count, reviews_df['label'])"
   ]
  },
  {
   "cell_type": "markdown",
   "id": "136eef3b",
   "metadata": {},
   "source": [
    "### 4. Naive Bayes"
   ]
  },
  {
   "cell_type": "code",
   "execution_count": 27,
   "id": "d91951a4",
   "metadata": {},
   "outputs": [],
   "source": [
    "from sklearn.naive_bayes import MultinomialNB"
   ]
  },
  {
   "cell_type": "code",
   "execution_count": 28,
   "id": "d21592da",
   "metadata": {},
   "outputs": [],
   "source": [
    "def train_and_evaluate_nb(features, labels):\n",
    "\tX_train, X_test, y_train, y_test = train_test_split(features, labels, test_size=0.25, random_state=42)\n",
    "\tmodel = MultinomialNB()\n",
    "\tmodel.fit(X_train, y_train)\n",
    "\ty_pred = model.predict(X_test)\n",
    "\tprint(\"Accuracy:\", accuracy_score(y_test, y_pred))\n",
    "\tprint(\"Classification Report:\\n\", classification_report(y_test, y_pred))"
   ]
  },
  {
   "cell_type": "code",
   "execution_count": 29,
   "id": "a93cd680",
   "metadata": {},
   "outputs": [
    {
     "name": "stdout",
     "output_type": "stream",
     "text": [
      "Accuracy: 0.8145695364238411\n",
      "Classification Report:\n",
      "               precision    recall  f1-score   support\n",
      "\n",
      "           0       0.74      0.91      0.82        68\n",
      "           1       0.91      0.73      0.81        83\n",
      "\n",
      "    accuracy                           0.81       151\n",
      "   macro avg       0.82      0.82      0.81       151\n",
      "weighted avg       0.83      0.81      0.81       151\n",
      "\n"
     ]
    }
   ],
   "source": [
    "train_and_evaluate_nb(features, reviews_df['label'])"
   ]
  },
  {
   "cell_type": "code",
   "execution_count": 30,
   "id": "43baf8d8",
   "metadata": {},
   "outputs": [
    {
     "name": "stdout",
     "output_type": "stream",
     "text": [
      "Accuracy: 0.8410596026490066\n",
      "Classification Report:\n",
      "               precision    recall  f1-score   support\n",
      "\n",
      "           0       0.78      0.91      0.84        68\n",
      "           1       0.92      0.78      0.84        83\n",
      "\n",
      "    accuracy                           0.84       151\n",
      "   macro avg       0.85      0.85      0.84       151\n",
      "weighted avg       0.85      0.84      0.84       151\n",
      "\n"
     ]
    }
   ],
   "source": [
    "train_and_evaluate_nb(features_count, reviews_df['label'])"
   ]
  },
  {
   "cell_type": "markdown",
   "id": "3bf8439b",
   "metadata": {},
   "source": [
    "### 5. Decision Tree"
   ]
  },
  {
   "cell_type": "code",
   "execution_count": 31,
   "id": "b9425afd",
   "metadata": {},
   "outputs": [],
   "source": [
    "from sklearn.tree import DecisionTreeClassifier"
   ]
  },
  {
   "cell_type": "code",
   "execution_count": 32,
   "id": "c2140ff0",
   "metadata": {},
   "outputs": [],
   "source": [
    "def train_and_evaluate_dt(features, labels):\n",
    "\tX_train, X_test, y_train, y_test = train_test_split(features, labels, test_size=0.25, random_state=42)\n",
    "\tmodel = DecisionTreeClassifier(random_state=42)\n",
    "\tmodel.fit(X_train, y_train)\n",
    "\ty_pred = model.predict(X_test)\n",
    "\tprint(\"Accuracy:\", accuracy_score(y_test, y_pred))\n",
    "\tprint(\"Classification Report:\\n\", classification_report(y_test, y_pred))"
   ]
  },
  {
   "cell_type": "code",
   "execution_count": 33,
   "id": "863bee4e",
   "metadata": {},
   "outputs": [
    {
     "name": "stdout",
     "output_type": "stream",
     "text": [
      "Accuracy: 0.6622516556291391\n",
      "Classification Report:\n",
      "               precision    recall  f1-score   support\n",
      "\n",
      "           0       0.62      0.66      0.64        68\n",
      "           1       0.71      0.66      0.68        83\n",
      "\n",
      "    accuracy                           0.66       151\n",
      "   macro avg       0.66      0.66      0.66       151\n",
      "weighted avg       0.67      0.66      0.66       151\n",
      "\n"
     ]
    }
   ],
   "source": [
    "train_and_evaluate_dt(features, reviews_df['label'])"
   ]
  },
  {
   "cell_type": "code",
   "execution_count": 34,
   "id": "04f5c11a",
   "metadata": {},
   "outputs": [
    {
     "name": "stdout",
     "output_type": "stream",
     "text": [
      "Accuracy: 0.6291390728476821\n",
      "Classification Report:\n",
      "               precision    recall  f1-score   support\n",
      "\n",
      "           0       0.58      0.63      0.61        68\n",
      "           1       0.68      0.63      0.65        83\n",
      "\n",
      "    accuracy                           0.63       151\n",
      "   macro avg       0.63      0.63      0.63       151\n",
      "weighted avg       0.63      0.63      0.63       151\n",
      "\n"
     ]
    }
   ],
   "source": [
    "train_and_evaluate_dt(features_count, reviews_df['label'])"
   ]
  },
  {
   "cell_type": "markdown",
   "id": "5e564e79",
   "metadata": {},
   "source": [
    "### 6. K-Nearest Neighbors"
   ]
  },
  {
   "cell_type": "code",
   "execution_count": 35,
   "id": "f0013580",
   "metadata": {},
   "outputs": [],
   "source": [
    "from sklearn.neighbors import KNeighborsClassifier"
   ]
  },
  {
   "cell_type": "code",
   "execution_count": 36,
   "id": "bba190b3",
   "metadata": {},
   "outputs": [],
   "source": [
    "def train_and_evaluate_knn(features, labels):\n",
    "\tX_train, X_test, y_train, y_test = train_test_split(features, labels, test_size=0.25, random_state=42)\n",
    "\tmodel = KNeighborsClassifier()\n",
    "\tmodel.fit(X_train, y_train)\n",
    "\ty_pred = model.predict(X_test)\n",
    "\tprint(\"Accuracy:\", accuracy_score(y_test, y_pred))\n",
    "\tprint(\"Classification Report:\\n\", classification_report(y_test, y_pred))"
   ]
  },
  {
   "cell_type": "code",
   "execution_count": 37,
   "id": "45967466",
   "metadata": {},
   "outputs": [
    {
     "name": "stdout",
     "output_type": "stream",
     "text": [
      "Accuracy: 0.8675496688741722\n",
      "Classification Report:\n",
      "               precision    recall  f1-score   support\n",
      "\n",
      "           0       0.85      0.85      0.85        68\n",
      "           1       0.88      0.88      0.88        83\n",
      "\n",
      "    accuracy                           0.87       151\n",
      "   macro avg       0.87      0.87      0.87       151\n",
      "weighted avg       0.87      0.87      0.87       151\n",
      "\n"
     ]
    }
   ],
   "source": [
    "train_and_evaluate_knn(features, reviews_df['label'])"
   ]
  },
  {
   "cell_type": "code",
   "execution_count": 38,
   "id": "9fde0582",
   "metadata": {},
   "outputs": [
    {
     "name": "stdout",
     "output_type": "stream",
     "text": [
      "Accuracy: 0.6291390728476821\n",
      "Classification Report:\n",
      "               precision    recall  f1-score   support\n",
      "\n",
      "           0       0.60      0.53      0.56        68\n",
      "           1       0.65      0.71      0.68        83\n",
      "\n",
      "    accuracy                           0.63       151\n",
      "   macro avg       0.62      0.62      0.62       151\n",
      "weighted avg       0.63      0.63      0.63       151\n",
      "\n"
     ]
    }
   ],
   "source": [
    "train_and_evaluate_knn(features_count, reviews_df['label'])"
   ]
  },
  {
   "cell_type": "markdown",
   "id": "b0a58446",
   "metadata": {},
   "source": [
    "### 7. XGBoost"
   ]
  },
  {
   "cell_type": "code",
   "execution_count": 39,
   "id": "36519b6e",
   "metadata": {},
   "outputs": [],
   "source": [
    "from xgboost import XGBClassifier"
   ]
  },
  {
   "cell_type": "code",
   "execution_count": 40,
   "id": "995c1f5b",
   "metadata": {},
   "outputs": [],
   "source": [
    "def train_and_evaluate_xgb(features, labels):\n",
    "\tX_train, X_test, y_train, y_test = train_test_split(features, labels, test_size=0.25, random_state=42)\n",
    "\tmodel = XGBClassifier()\n",
    "\tmodel.fit(X_train, y_train)\n",
    "\ty_pred = model.predict(X_test)\n",
    "\tprint(\"Accuracy:\", accuracy_score(y_test, y_pred))\n",
    "\tprint(\"Classification Report:\\n\", classification_report(y_test, y_pred))"
   ]
  },
  {
   "cell_type": "code",
   "execution_count": 41,
   "id": "3e795a2d",
   "metadata": {},
   "outputs": [
    {
     "name": "stdout",
     "output_type": "stream",
     "text": [
      "Accuracy: 0.7417218543046358\n",
      "Classification Report:\n",
      "               precision    recall  f1-score   support\n",
      "\n",
      "           0       0.71      0.72      0.72        68\n",
      "           1       0.77      0.76      0.76        83\n",
      "\n",
      "    accuracy                           0.74       151\n",
      "   macro avg       0.74      0.74      0.74       151\n",
      "weighted avg       0.74      0.74      0.74       151\n",
      "\n"
     ]
    }
   ],
   "source": [
    "train_and_evaluate_xgb(features, reviews_df['label'])"
   ]
  },
  {
   "cell_type": "code",
   "execution_count": 42,
   "id": "50b11a0a",
   "metadata": {},
   "outputs": [
    {
     "name": "stdout",
     "output_type": "stream",
     "text": [
      "Accuracy: 0.7483443708609272\n",
      "Classification Report:\n",
      "               precision    recall  f1-score   support\n",
      "\n",
      "           0       0.70      0.76      0.73        68\n",
      "           1       0.79      0.73      0.76        83\n",
      "\n",
      "    accuracy                           0.75       151\n",
      "   macro avg       0.75      0.75      0.75       151\n",
      "weighted avg       0.75      0.75      0.75       151\n",
      "\n"
     ]
    }
   ],
   "source": [
    "train_and_evaluate_xgb(features_count, reviews_df['label'])"
   ]
  },
  {
   "cell_type": "markdown",
   "id": "bd4d686f",
   "metadata": {},
   "source": [
    "## Evaluation"
   ]
  },
  {
   "cell_type": "code",
   "execution_count": 43,
   "id": "e99d5bb3",
   "metadata": {},
   "outputs": [],
   "source": [
    "comparison_data = {\n",
    "    \"Model\": [],\n",
    "    \"Vectorization\": [],\n",
    "    \"Accuracy\": [],\n",
    "    \"Precision (macro)\": [],\n",
    "    \"Recall (macro)\": [],\n",
    "    \"F1-score (macro)\": [],\n",
    "}"
   ]
  },
  {
   "cell_type": "code",
   "execution_count": 44,
   "id": "0291ada4",
   "metadata": {},
   "outputs": [],
   "source": [
    "def add_to_comparison(model_name, vectorization, accuracy, report):\n",
    "\t\"\"\"Add data to the comparison table.\"\"\"\n",
    "\tcomparison_data[\"Model\"].append(model_name)\n",
    "\tcomparison_data[\"Vectorization\"].append(vectorization)\n",
    "\tcomparison_data[\"Accuracy\"].append(accuracy)\n",
    "\tcomparison_data[\"Precision (macro)\"].append(report[\"macro avg\"][\"precision\"])\n",
    "\tcomparison_data[\"Recall (macro)\"].append(report[\"macro avg\"][\"recall\"])\n",
    "\tcomparison_data[\"F1-score (macro)\"].append(report[\"macro avg\"][\"f1-score\"])"
   ]
  },
  {
   "cell_type": "code",
   "execution_count": 45,
   "id": "44d908c6",
   "metadata": {},
   "outputs": [],
   "source": [
    "def run_and_add_to_comparison(features, labels, model_name, model, vectorization_type):\n",
    "\t\"\"\"Run the model and add it to the comparison table.\"\"\"\n",
    "\tX_train, X_test, y_train, y_test = train_test_split(features, labels, test_size=0.25, random_state=42)\n",
    "\tmodel.fit(X_train, y_train)\n",
    "\ty_pred = model.predict(X_test)\n",
    "\taccuracy = accuracy_score(y_test, y_pred)\n",
    "\treport = classification_report(y_test, y_pred, output_dict=True)\n",
    "\tadd_to_comparison(model_name, vectorization_type, accuracy, report)"
   ]
  },
  {
   "cell_type": "code",
   "execution_count": 46,
   "id": "a16f7dbd",
   "metadata": {},
   "outputs": [],
   "source": [
    "run_and_add_to_comparison(features, reviews_df['label'], \"Logistic Regression\", LogisticRegression(random_state=42), \"TF-IDF\")\n",
    "run_and_add_to_comparison(features_count, reviews_df['label'], \"Logistic Regression\", LogisticRegression(random_state=42), \"Count\")\n",
    "\n",
    "run_and_add_to_comparison(features, reviews_df['label'], \"Random Forest\", RandomForestClassifier(n_estimators=100, random_state=42), \"TF-IDF\")\n",
    "run_and_add_to_comparison(features_count, reviews_df['label'], \"Random Forest\", RandomForestClassifier(n_estimators=100, random_state=42), \"Count\")\n",
    "\n",
    "run_and_add_to_comparison(features, reviews_df['label'], \"Naive Bayes\", MultinomialNB(), \"TF-IDF\")\n",
    "run_and_add_to_comparison(features_count, reviews_df['label'], \"Naive Bayes\", MultinomialNB(), \"Count\")\n",
    "\n",
    "run_and_add_to_comparison(features, reviews_df['label'], \"SVM\", SVC(), \"TF-IDF\")\n",
    "run_and_add_to_comparison(features_count, reviews_df['label'], \"SVM\", SVC(), \"Count\")\n",
    "\n",
    "run_and_add_to_comparison(features, reviews_df['label'], \"Decision Tree\", DecisionTreeClassifier(random_state=42), \"TF-IDF\")\n",
    "run_and_add_to_comparison(features_count, reviews_df['label'], \"Decision Tree\", DecisionTreeClassifier(random_state=42), \"Count\")\n",
    "\n",
    "run_and_add_to_comparison(features, reviews_df['label'], \"KNN\", KNeighborsClassifier(), \"TF-IDF\")\n",
    "run_and_add_to_comparison(features_count, reviews_df['label'], \"KNN\", KNeighborsClassifier(), \"Count\")\n",
    "\n",
    "run_and_add_to_comparison(features, reviews_df['label'], \"XGBoost\", XGBClassifier(), \"TF-IDF\")\n",
    "run_and_add_to_comparison(features_count, reviews_df['label'], \"XGBoost\", XGBClassifier(), \"Count\")"
   ]
  },
  {
   "cell_type": "code",
   "execution_count": 47,
   "id": "399b99cd",
   "metadata": {},
   "outputs": [
    {
     "data": {
      "text/html": [
       "<div>\n",
       "<style scoped>\n",
       "    .dataframe tbody tr th:only-of-type {\n",
       "        vertical-align: middle;\n",
       "    }\n",
       "\n",
       "    .dataframe tbody tr th {\n",
       "        vertical-align: top;\n",
       "    }\n",
       "\n",
       "    .dataframe thead th {\n",
       "        text-align: right;\n",
       "    }\n",
       "</style>\n",
       "<table border=\"1\" class=\"dataframe\">\n",
       "  <thead>\n",
       "    <tr style=\"text-align: right;\">\n",
       "      <th></th>\n",
       "      <th>Model</th>\n",
       "      <th>Vectorization</th>\n",
       "      <th>Accuracy</th>\n",
       "      <th>Precision (macro)</th>\n",
       "      <th>Recall (macro)</th>\n",
       "      <th>F1-score (macro)</th>\n",
       "    </tr>\n",
       "  </thead>\n",
       "  <tbody>\n",
       "    <tr>\n",
       "      <th>0</th>\n",
       "      <td>Logistic Regression</td>\n",
       "      <td>TF-IDF</td>\n",
       "      <td>0.854305</td>\n",
       "      <td>0.853457</td>\n",
       "      <td>0.856839</td>\n",
       "      <td>0.853785</td>\n",
       "    </tr>\n",
       "    <tr>\n",
       "      <th>1</th>\n",
       "      <td>Logistic Regression</td>\n",
       "      <td>Count</td>\n",
       "      <td>0.807947</td>\n",
       "      <td>0.806237</td>\n",
       "      <td>0.805369</td>\n",
       "      <td>0.805766</td>\n",
       "    </tr>\n",
       "    <tr>\n",
       "      <th>2</th>\n",
       "      <td>Random Forest</td>\n",
       "      <td>TF-IDF</td>\n",
       "      <td>0.754967</td>\n",
       "      <td>0.757823</td>\n",
       "      <td>0.759833</td>\n",
       "      <td>0.754795</td>\n",
       "    </tr>\n",
       "    <tr>\n",
       "      <th>3</th>\n",
       "      <td>Random Forest</td>\n",
       "      <td>Count</td>\n",
       "      <td>0.754967</td>\n",
       "      <td>0.768768</td>\n",
       "      <td>0.765149</td>\n",
       "      <td>0.754795</td>\n",
       "    </tr>\n",
       "    <tr>\n",
       "      <th>4</th>\n",
       "      <td>Naive Bayes</td>\n",
       "      <td>TF-IDF</td>\n",
       "      <td>0.814570</td>\n",
       "      <td>0.824271</td>\n",
       "      <td>0.823352</td>\n",
       "      <td>0.814561</td>\n",
       "    </tr>\n",
       "    <tr>\n",
       "      <th>5</th>\n",
       "      <td>Naive Bayes</td>\n",
       "      <td>Count</td>\n",
       "      <td>0.841060</td>\n",
       "      <td>0.845246</td>\n",
       "      <td>0.847449</td>\n",
       "      <td>0.840997</td>\n",
       "    </tr>\n",
       "    <tr>\n",
       "      <th>6</th>\n",
       "      <td>SVM</td>\n",
       "      <td>TF-IDF</td>\n",
       "      <td>0.854305</td>\n",
       "      <td>0.856340</td>\n",
       "      <td>0.859497</td>\n",
       "      <td>0.854145</td>\n",
       "    </tr>\n",
       "    <tr>\n",
       "      <th>7</th>\n",
       "      <td>SVM</td>\n",
       "      <td>Count</td>\n",
       "      <td>0.761589</td>\n",
       "      <td>0.762454</td>\n",
       "      <td>0.753898</td>\n",
       "      <td>0.755927</td>\n",
       "    </tr>\n",
       "    <tr>\n",
       "      <th>8</th>\n",
       "      <td>Decision Tree</td>\n",
       "      <td>TF-IDF</td>\n",
       "      <td>0.662252</td>\n",
       "      <td>0.660783</td>\n",
       "      <td>0.662208</td>\n",
       "      <td>0.660764</td>\n",
       "    </tr>\n",
       "    <tr>\n",
       "      <th>9</th>\n",
       "      <td>Decision Tree</td>\n",
       "      <td>Count</td>\n",
       "      <td>0.629139</td>\n",
       "      <td>0.628203</td>\n",
       "      <td>0.629429</td>\n",
       "      <td>0.627817</td>\n",
       "    </tr>\n",
       "    <tr>\n",
       "      <th>10</th>\n",
       "      <td>KNN</td>\n",
       "      <td>TF-IDF</td>\n",
       "      <td>0.867550</td>\n",
       "      <td>0.866230</td>\n",
       "      <td>0.866230</td>\n",
       "      <td>0.866230</td>\n",
       "    </tr>\n",
       "    <tr>\n",
       "      <th>11</th>\n",
       "      <td>KNN</td>\n",
       "      <td>Count</td>\n",
       "      <td>0.629139</td>\n",
       "      <td>0.624176</td>\n",
       "      <td>0.620128</td>\n",
       "      <td>0.620330</td>\n",
       "    </tr>\n",
       "    <tr>\n",
       "      <th>12</th>\n",
       "      <td>XGBoost</td>\n",
       "      <td>TF-IDF</td>\n",
       "      <td>0.741722</td>\n",
       "      <td>0.739219</td>\n",
       "      <td>0.739812</td>\n",
       "      <td>0.739482</td>\n",
       "    </tr>\n",
       "    <tr>\n",
       "      <th>13</th>\n",
       "      <td>XGBoost</td>\n",
       "      <td>Count</td>\n",
       "      <td>0.748344</td>\n",
       "      <td>0.747455</td>\n",
       "      <td>0.749823</td>\n",
       "      <td>0.747447</td>\n",
       "    </tr>\n",
       "  </tbody>\n",
       "</table>\n",
       "</div>"
      ],
      "text/plain": [
       "                  Model Vectorization  Accuracy  Precision (macro)  \\\n",
       "0   Logistic Regression        TF-IDF  0.854305           0.853457   \n",
       "1   Logistic Regression         Count  0.807947           0.806237   \n",
       "2         Random Forest        TF-IDF  0.754967           0.757823   \n",
       "3         Random Forest         Count  0.754967           0.768768   \n",
       "4           Naive Bayes        TF-IDF  0.814570           0.824271   \n",
       "5           Naive Bayes         Count  0.841060           0.845246   \n",
       "6                   SVM        TF-IDF  0.854305           0.856340   \n",
       "7                   SVM         Count  0.761589           0.762454   \n",
       "8         Decision Tree        TF-IDF  0.662252           0.660783   \n",
       "9         Decision Tree         Count  0.629139           0.628203   \n",
       "10                  KNN        TF-IDF  0.867550           0.866230   \n",
       "11                  KNN         Count  0.629139           0.624176   \n",
       "12              XGBoost        TF-IDF  0.741722           0.739219   \n",
       "13              XGBoost         Count  0.748344           0.747455   \n",
       "\n",
       "    Recall (macro)  F1-score (macro)  \n",
       "0         0.856839          0.853785  \n",
       "1         0.805369          0.805766  \n",
       "2         0.759833          0.754795  \n",
       "3         0.765149          0.754795  \n",
       "4         0.823352          0.814561  \n",
       "5         0.847449          0.840997  \n",
       "6         0.859497          0.854145  \n",
       "7         0.753898          0.755927  \n",
       "8         0.662208          0.660764  \n",
       "9         0.629429          0.627817  \n",
       "10        0.866230          0.866230  \n",
       "11        0.620128          0.620330  \n",
       "12        0.739812          0.739482  \n",
       "13        0.749823          0.747447  "
      ]
     },
     "execution_count": 47,
     "metadata": {},
     "output_type": "execute_result"
    }
   ],
   "source": [
    "comparison_df = pd.DataFrame(comparison_data)\n",
    "comparison_df.head(20)"
   ]
  },
  {
   "cell_type": "code",
   "execution_count": null,
   "id": "43c9bfdb",
   "metadata": {},
   "outputs": [],
   "source": []
  }
 ],
 "metadata": {
  "kernelspec": {
   "display_name": "Python 3 (ipykernel)",
   "language": "python",
   "name": "python3"
  },
  "language_info": {
   "codemirror_mode": {
    "name": "ipython",
    "version": 3
   },
   "file_extension": ".py",
   "mimetype": "text/x-python",
   "name": "python",
   "nbconvert_exporter": "python",
   "pygments_lexer": "ipython3",
   "version": "3.10.12"
  }
 },
 "nbformat": 4,
 "nbformat_minor": 5
}
