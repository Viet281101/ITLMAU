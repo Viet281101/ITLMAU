{
 "cells": [
  {
   "cell_type": "markdown",
   "id": "50761eec-6294-4c42-8942-39ab61de2256",
   "metadata": {},
   "source": [
    "# IDL TP Final `scikit-learn` Projet"
   ]
  },
  {
   "cell_type": "markdown",
   "id": "3680d79d",
   "metadata": {},
   "source": [
    "## Charger les donnés"
   ]
  },
  {
   "cell_type": "code",
   "execution_count": 1,
   "id": "aa9e1078-0c99-4cad-a18c-dcaaa1b6862d",
   "metadata": {},
   "outputs": [],
   "source": [
    "import os\n",
    "import pandas as pd"
   ]
  },
  {
   "cell_type": "code",
   "execution_count": 2,
   "id": "99ee001d",
   "metadata": {},
   "outputs": [],
   "source": [
    "def load_reviews(data_dir):\n",
    "\treviews = []\n",
    "\tlabels = []\n",
    "\tfor label in [\"pos\", \"neg\"]:\n",
    "\t\tdirectory = os.path.join(data_dir, label)\n",
    "\t\tfor filename in os.listdir(directory):\n",
    "\t\t\tif filename.endswith(\".txt\"):\n",
    "\t\t\t\tfile_path = os.path.join(directory, filename)\n",
    "\t\t\t\twith open(file_path, 'r', encoding='utf-8') as file:\n",
    "\t\t\t\t\treviews.append(file.read())\n",
    "\t\t\t\t\tlabels.append(1 if label == \"pos\" else 0)\n",
    "\treturn reviews, labels"
   ]
  },
  {
   "cell_type": "code",
   "execution_count": 3,
   "id": "38e21e8c",
   "metadata": {},
   "outputs": [],
   "source": [
    "data_dir = 'imdb_smol'\n",
    "reviews, labels = load_reviews(data_dir)\n",
    "reviews_df = pd.DataFrame({'review': reviews, 'label': labels})"
   ]
  },
  {
   "cell_type": "code",
   "execution_count": 4,
   "id": "ab96ddae",
   "metadata": {},
   "outputs": [
    {
     "name": "stdout",
     "output_type": "stream",
     "text": [
      "                                              review  label\n",
      "0  The production quality, cast, premise, authent...      1\n",
      "1  This is no art-house film, it's mainstream ent...      1\n",
      "2  Two great comedians in a great Neil Simon movi...      1\n",
      "3  I'm a fan of TV movies in general and this was...      1\n",
      "4  Once upon a time in a castle...... Two little ...      1\n"
     ]
    }
   ],
   "source": [
    "print(reviews_df.head())"
   ]
  },
  {
   "cell_type": "code",
   "execution_count": 6,
   "id": "a6f6dc37",
   "metadata": {},
   "outputs": [
    {
     "name": "stdout",
     "output_type": "stream",
     "text": [
      "\n",
      "Nombre de notes positives: 301\n",
      "Nombre de notes négatives: 301\n"
     ]
    }
   ],
   "source": [
    "print(\"\\nNombre de notes positives:\", (reviews_df['label'] == 1).sum())\n",
    "print(\"Nombre de notes négatives:\", (reviews_df['label'] == 0).sum())"
   ]
  },
  {
   "cell_type": "code",
   "execution_count": 7,
   "id": "0f6964c0",
   "metadata": {},
   "outputs": [
    {
     "name": "stdout",
     "output_type": "stream",
     "text": [
      "\n",
      "Informations générales sur le DataFrame:\n",
      "<class 'pandas.core.frame.DataFrame'>\n",
      "RangeIndex: 602 entries, 0 to 601\n",
      "Data columns (total 2 columns):\n",
      " #   Column  Non-Null Count  Dtype \n",
      "---  ------  --------------  ----- \n",
      " 0   review  602 non-null    object\n",
      " 1   label   602 non-null    int64 \n",
      "dtypes: int64(1), object(1)\n",
      "memory usage: 9.5+ KB\n",
      "None\n"
     ]
    }
   ],
   "source": [
    "print(\"\\nInformations générales sur le DataFrame:\")\n",
    "print(reviews_df.info())"
   ]
  },
  {
   "cell_type": "code",
   "execution_count": 8,
   "id": "80d0a0c8",
   "metadata": {},
   "outputs": [
    {
     "name": "stdout",
     "output_type": "stream",
     "text": [
      "\n",
      "Index de la note de review: 166 \n",
      "Texte de la note de review:\n",
      " Undying is a very good game which brings some new elements on the tired genre of first person shoot em ups. It tells the story of Patrick Galloway an expert of the occult and a formidable fighter who is summoned by a friend to his estate in Ireland to investigate some weird phainomena. The game is set in Ireland after World War one so don't expect to find weapons like chainguns or rocket launchers.All the weapons in the game can be considered antiques but the real fun in the game are its spells and the system they operate on.Our hero is ambidexterous so he can use both his hands at the same time: he casts spells with his right arm and uses his guns with the left.So you can shoot and cast spells at the same time which as you understand very fun and also unique to this game! The graphics are great and they can run very well on a medium power P.C..Level design is also cool and atmospheric. Mostly the game revolves around the Covenant estate and the mansion but there are many other locations waiting to be discovered as you progress. Thanks to the talent of Clyve Barker the game has an excelent storyline and plot (something very rare for a First person shooter) and i said before a great and very spooky atmosphere the voice acting is also good but not excellent. But the game has two main flaws. First of all it is quite linear so when your mission says for example go to that room all the doors in the house will be locked apart from those that lead to the room of your mission this may save time but it restricts your liberty of exploration.Secondly the fact all the weapons are antiques may not appeal to most fps players who are used to high tech weaponry. As far as difficulty is concerned the game is very well balanced. Most of it is of medium difficulty but sometimes it gets more difficult but not frustratingly difficult. Overall undying is a great game. Definitely one of the best fps out there.\n",
      "Étiquette: Positive\n",
      "\n",
      "Index de la note de review: 166 \n",
      "Texte de la note de review:\n",
      " Undying is a very good game which brings some new elements on the tired genre of first person shoot em ups. It tells the story of Patrick Galloway an expert of the occult and a formidable fighter who is summoned by a friend to his estate in Ireland to investigate some weird phainomena. The game is set in Ireland after World War one so don't expect to find weapons like chainguns or rocket launchers.All the weapons in the game can be considered antiques but the real fun in the game are its spells and the system they operate on.Our hero is ambidexterous so he can use both his hands at the same time: he casts spells with his right arm and uses his guns with the left.So you can shoot and cast spells at the same time which as you understand very fun and also unique to this game! The graphics are great and they can run very well on a medium power P.C..Level design is also cool and atmospheric. Mostly the game revolves around the Covenant estate and the mansion but there are many other locations waiting to be discovered as you progress. Thanks to the talent of Clyve Barker the game has an excelent storyline and plot (something very rare for a First person shooter) and i said before a great and very spooky atmosphere the voice acting is also good but not excellent. But the game has two main flaws. First of all it is quite linear so when your mission says for example go to that room all the doors in the house will be locked apart from those that lead to the room of your mission this may save time but it restricts your liberty of exploration.Secondly the fact all the weapons are antiques may not appeal to most fps players who are used to high tech weaponry. As far as difficulty is concerned the game is very well balanced. Most of it is of medium difficulty but sometimes it gets more difficult but not frustratingly difficult. Overall undying is a great game. Definitely one of the best fps out there.\n",
      "Étiquette: Positive\n",
      "\n",
      "Index de la note de review: 148 \n",
      "Texte de la note de review:\n",
      " Basically the exact same movie as \"House of Wax\" - Vincent Price's first genuine horror hit released the previous year - but seriously who cares, because \"The Mad Magician\" offers just as many sheer thrills, delightful period set-pieces, joyous 3-D effects, sublime acting performances and macabre horror gimmicks as its predecessor! \"Never change a winning team\" is exactly what writer Crane Wilbur must have thought when he penned down Price's character Don Gallico, another tormented soul besieged by fate and out for vengeance against those who wronged him. Don Gallico is about to perform his very first own illusionist show as Gallico the Great and plans to exhibit the greatest magic trick in history; entitled \"The Girl and the Buzz Saw\". Gallico's promising solo career is abruptly ruined before it even begins when his previous employer Ross Ormond appears on stage and shoves a contract under his nose, stating that all of Gallico's inventions are the rightful property of the company. The sleazy and relentless Ormond, who by the way also ransacked Gallico's once beloved wife, takes off with the buzz saw trick and programs it in the show of Gallico's rival The Great Rinaldi. Inevitably Gallico snaps and sadistically butchers Ormond, but  also being a master of creating disguises  recreates his victim's image and even starts leading a double life. \"The Mad Magician\" is an amusing and thoroughly unpretentious 50's horror movie in Grand Guignol style, with a whole lot of improbably plot twists (the landlady turns out a brilliant crime novelist?) and a handful of fantastically grotesque gross-out moments (although they obviously remain suggestive for most part). The 3-D delights near the beginning of the film, like a yo-yo player and a goofy trick with water fountains, merely just serve as time-filler and contemporary 50's hype, but it's still fun to watch even now and without the means to properly behold them. \"The Mad Magician\" is also interesting from a periodical setting point of view, as the events take place around the time fingerprints were starting to get used as evidence material and the character of Alice Prentiss is an obvious reference towards famous crime authors of that era. Needless to state that Vincent Price remains the absolute most essential element of triumph in this film, as well as from nearly every other horror movie this legendary man ever starred in. Like no other actor could ever accomplish, Price depicts the tormented protagonist who gradually descends further and further into mental madness in such an indescribably mesmerizing way. You pity Don Gallico, yet at the same time you fear him enormously. You support his vile acts of retaliation and yet simultaneously you realize his murderous rampage must end in death. Vincent Price simply was a genius actor and, in my humble opinion, the embodiment of the horror genre.\n",
      "Étiquette: Positive\n",
      "\n",
      "Index de la note de review: 148 \n",
      "Texte de la note de review:\n",
      " Basically the exact same movie as \"House of Wax\" - Vincent Price's first genuine horror hit released the previous year - but seriously who cares, because \"The Mad Magician\" offers just as many sheer thrills, delightful period set-pieces, joyous 3-D effects, sublime acting performances and macabre horror gimmicks as its predecessor! \"Never change a winning team\" is exactly what writer Crane Wilbur must have thought when he penned down Price's character Don Gallico, another tormented soul besieged by fate and out for vengeance against those who wronged him. Don Gallico is about to perform his very first own illusionist show as Gallico the Great and plans to exhibit the greatest magic trick in history; entitled \"The Girl and the Buzz Saw\". Gallico's promising solo career is abruptly ruined before it even begins when his previous employer Ross Ormond appears on stage and shoves a contract under his nose, stating that all of Gallico's inventions are the rightful property of the company. The sleazy and relentless Ormond, who by the way also ransacked Gallico's once beloved wife, takes off with the buzz saw trick and programs it in the show of Gallico's rival The Great Rinaldi. Inevitably Gallico snaps and sadistically butchers Ormond, but  also being a master of creating disguises  recreates his victim's image and even starts leading a double life. \"The Mad Magician\" is an amusing and thoroughly unpretentious 50's horror movie in Grand Guignol style, with a whole lot of improbably plot twists (the landlady turns out a brilliant crime novelist?) and a handful of fantastically grotesque gross-out moments (although they obviously remain suggestive for most part). The 3-D delights near the beginning of the film, like a yo-yo player and a goofy trick with water fountains, merely just serve as time-filler and contemporary 50's hype, but it's still fun to watch even now and without the means to properly behold them. \"The Mad Magician\" is also interesting from a periodical setting point of view, as the events take place around the time fingerprints were starting to get used as evidence material and the character of Alice Prentiss is an obvious reference towards famous crime authors of that era. Needless to state that Vincent Price remains the absolute most essential element of triumph in this film, as well as from nearly every other horror movie this legendary man ever starred in. Like no other actor could ever accomplish, Price depicts the tormented protagonist who gradually descends further and further into mental madness in such an indescribably mesmerizing way. You pity Don Gallico, yet at the same time you fear him enormously. You support his vile acts of retaliation and yet simultaneously you realize his murderous rampage must end in death. Vincent Price simply was a genius actor and, in my humble opinion, the embodiment of the horror genre.\n",
      "Étiquette: Positive\n",
      "\n",
      "Index de la note de review: 40 \n",
      "Texte de la note de review:\n",
      " Alright, this film is the representation of several things. For starters, this film is about a disgruntled student who brings a gun to school and shoots roughly 9 students. One student survives and is in the hospital with extensive head injuries. The lead character is what several people who consider a 'loner/goth', despite the movie's stating of her not being so. She seems quite mysterious, but was also the only unharmed student in the victimized classroom. She's questioned, due to having a history of knowing the shooter and having a record of being on the phone with him the night before. Anyhow, she's a very brief and distant person who seems to despise society. Yet, due to some, at first unexplained events, she spent roughly a year out of school, failing the grade. She has the desire to graduate, and the principle practically cons her into the only possible way she can pass is to spend time with the survivor, the girl in the hospital.<br /><br />These two leads are nearly entirely opposite, and they are quite that on a social level. While Alisha is a quiet, inwardly disturbed, anti-social 'goth' girl who spends her time entirely alone (even though she seems to read quite often, somewhat of a closet/out of the closet bookworm), the other girl is a rich, popular 'bubbly' girl who seems always incredibly optimistic and trapped in her own fantasy world, ignoring the outside world and its realism to survive. I feel both of these roles to a marvelous job of representing MOST 'cliques' in the modern highschool, but more importantly shows how two entirely opposite girls who know nothing of each other eventually open to each other. While the injured girl learns a deep, meaningful truth on her once sheltered life and the outside world, Alisha learns that complete abandonment of society and locking everything inside is not always the best thing.<br /><br />Many people will look to the connection between these two girls and see one of two things. Either, a snobby, hateful girl who wants he rest of the world to suffer as she does, taking it out on an innocent girl, OR the story of a seemingly trapped, fantasized girl who meets an outcast to society and learns not only not to judge, but that she is actually, perhaps, one of the most intelligent people she's known. In other words, people may see this film as a focus on Alisha teaching the other girl a lesson about life, but it isn't about that.<br /><br />This film is about SEVERAL things. While it is about all I have stated, it is also representative of how people deal from a large, life-changing catastrophe. Truly, this movie is not very symbolic, but instead incredibly straight forward with its message, as long as you aren't afraid to open your mind, and your heart, to some emotions you may not be familiar with being portrayed so miraculously.<br /><br />Overall, this film is one of the best I've ever seen. The acting is brilliant, the storyline and representation is deep and meaningful, and the emotion flowing through-out this film will have anyone not only relating, but possibly crying. This film is by far heart-wrenching, and very impactful, and if I ever believed any film could alter a person's life... this would be the first that could have changed mine.<br /><br />I adored this movie, if you ever want a movie that's moving and impactful, while incredibly entertaining and REAL, watch this.\n",
      "Étiquette: Positive\n",
      "\n",
      "Index de la note de review: 40 \n",
      "Texte de la note de review:\n",
      " Alright, this film is the representation of several things. For starters, this film is about a disgruntled student who brings a gun to school and shoots roughly 9 students. One student survives and is in the hospital with extensive head injuries. The lead character is what several people who consider a 'loner/goth', despite the movie's stating of her not being so. She seems quite mysterious, but was also the only unharmed student in the victimized classroom. She's questioned, due to having a history of knowing the shooter and having a record of being on the phone with him the night before. Anyhow, she's a very brief and distant person who seems to despise society. Yet, due to some, at first unexplained events, she spent roughly a year out of school, failing the grade. She has the desire to graduate, and the principle practically cons her into the only possible way she can pass is to spend time with the survivor, the girl in the hospital.<br /><br />These two leads are nearly entirely opposite, and they are quite that on a social level. While Alisha is a quiet, inwardly disturbed, anti-social 'goth' girl who spends her time entirely alone (even though she seems to read quite often, somewhat of a closet/out of the closet bookworm), the other girl is a rich, popular 'bubbly' girl who seems always incredibly optimistic and trapped in her own fantasy world, ignoring the outside world and its realism to survive. I feel both of these roles to a marvelous job of representing MOST 'cliques' in the modern highschool, but more importantly shows how two entirely opposite girls who know nothing of each other eventually open to each other. While the injured girl learns a deep, meaningful truth on her once sheltered life and the outside world, Alisha learns that complete abandonment of society and locking everything inside is not always the best thing.<br /><br />Many people will look to the connection between these two girls and see one of two things. Either, a snobby, hateful girl who wants he rest of the world to suffer as she does, taking it out on an innocent girl, OR the story of a seemingly trapped, fantasized girl who meets an outcast to society and learns not only not to judge, but that she is actually, perhaps, one of the most intelligent people she's known. In other words, people may see this film as a focus on Alisha teaching the other girl a lesson about life, but it isn't about that.<br /><br />This film is about SEVERAL things. While it is about all I have stated, it is also representative of how people deal from a large, life-changing catastrophe. Truly, this movie is not very symbolic, but instead incredibly straight forward with its message, as long as you aren't afraid to open your mind, and your heart, to some emotions you may not be familiar with being portrayed so miraculously.<br /><br />Overall, this film is one of the best I've ever seen. The acting is brilliant, the storyline and representation is deep and meaningful, and the emotion flowing through-out this film will have anyone not only relating, but possibly crying. This film is by far heart-wrenching, and very impactful, and if I ever believed any film could alter a person's life... this would be the first that could have changed mine.<br /><br />I adored this movie, if you ever want a movie that's moving and impactful, while incredibly entertaining and REAL, watch this.\n",
      "Étiquette: Positive\n",
      "\n",
      "Index de la note de review: 520 \n",
      "Texte de la note de review:\n",
      " So, where are the cannibals? Those intrigued by the title and the 'real cannibal' appeal of this film will be let down. Instead, we are shown a strange man and his re-visiting of a Papua New Guinea village full of natives, one of whom was his lover several decades prior. The man, Tobias Schneebaum is New York Jewish as they come and somehow, this is intertwined with the documentary as he appears in his yamika in several scenes.<br /><br />There are no real cannibals here: only stories relayed by some of the natives and by Tobias himself. Not all together a bad film. Very interesting and great cinematography. Schneebaum remains highly likable throughout and provides us with a fascinating glimpse into a life that is about as far removed from Western Civilization as one can get.<br /><br />It's just not what it claims to be on the cover and in the plot summary.<br /><br />4 out of 10, kids.\n",
      "Étiquette: Négative\n",
      "\n",
      "Index de la note de review: 520 \n",
      "Texte de la note de review:\n",
      " So, where are the cannibals? Those intrigued by the title and the 'real cannibal' appeal of this film will be let down. Instead, we are shown a strange man and his re-visiting of a Papua New Guinea village full of natives, one of whom was his lover several decades prior. The man, Tobias Schneebaum is New York Jewish as they come and somehow, this is intertwined with the documentary as he appears in his yamika in several scenes.<br /><br />There are no real cannibals here: only stories relayed by some of the natives and by Tobias himself. Not all together a bad film. Very interesting and great cinematography. Schneebaum remains highly likable throughout and provides us with a fascinating glimpse into a life that is about as far removed from Western Civilization as one can get.<br /><br />It's just not what it claims to be on the cover and in the plot summary.<br /><br />4 out of 10, kids.\n",
      "Étiquette: Négative\n",
      "\n",
      "Index de la note de review: 588 \n",
      "Texte de la note de review:\n",
      " Slow and riddled with inaccuracy. Over-looking its flaws this is still an interesting account of the famed and heroic siege of the Alamo during the Texas fight for independence from Mexico. James Arness as Jim Bowie. Brian Keith as Davy Crockett. Alec Baldwin as Col. Travis. Raul Julia as General Santa Anna. This made-for-TV project also stars David Ogden Stiers, Kathleen York and Jim Metzler. Very good original music by Peter Bernstein.\n",
      "Étiquette: Négative\n",
      "\n",
      "Index de la note de review: 588 \n",
      "Texte de la note de review:\n",
      " Slow and riddled with inaccuracy. Over-looking its flaws this is still an interesting account of the famed and heroic siege of the Alamo during the Texas fight for independence from Mexico. James Arness as Jim Bowie. Brian Keith as Davy Crockett. Alec Baldwin as Col. Travis. Raul Julia as General Santa Anna. This made-for-TV project also stars David Ogden Stiers, Kathleen York and Jim Metzler. Very good original music by Peter Bernstein.\n",
      "Étiquette: Négative\n"
     ]
    }
   ],
   "source": [
    "for index, row in reviews_df.sample(5).iterrows():\n",
    "\tprint(\"\\nIndex de la note de review:\", index, \"\\nTexte de la note de review:\\n\", row['review'])\n",
    "\tprint(\"Étiquette:\", \"Positive\" if row['label'] == 1 else \"Négative\")\n",
    "\n",
    "\tprint(\"\\nIndex de la note de review:\", index, \"\\nTexte de la note de review:\\n\", row['review'])\n",
    "\tprint(\"Étiquette:\", \"Positive\" if row['label'] == 1 else \"Négative\")"
   ]
  },
  {
   "cell_type": "markdown",
   "id": "20f27708",
   "metadata": {},
   "source": [
    "## Vectorisation"
   ]
  },
  {
   "cell_type": "code",
   "execution_count": 9,
   "id": "17184c79",
   "metadata": {},
   "outputs": [],
   "source": [
    "from sklearn.feature_extraction.text import TfidfVectorizer"
   ]
  },
  {
   "cell_type": "code",
   "execution_count": 10,
   "id": "685f1f1a",
   "metadata": {},
   "outputs": [],
   "source": [
    "def vectorize_text(data):\n",
    "\t\"\"\"Vectorize text data using TF-IDF vectorizer.\"\"\"\n",
    "\ttfidf_vectorizer = TfidfVectorizer(stop_words='english', max_features=5000)\n",
    "\tfeatures = tfidf_vectorizer.fit_transform(data)\n",
    "\treturn features, tfidf_vectorizer"
   ]
  },
  {
   "cell_type": "code",
   "execution_count": 11,
   "id": "19ef4435",
   "metadata": {},
   "outputs": [
    {
     "name": "stdout",
     "output_type": "stream",
     "text": [
      "Forme de la matrice TF-IDF : (602, 5000)\n"
     ]
    }
   ],
   "source": [
    "features, tfidf_vectorizer = vectorize_text(reviews_df['review'])\n",
    "print(\"Forme de la matrice TF-IDF :\", features.shape)"
   ]
  },
  {
   "cell_type": "markdown",
   "id": "47d27321",
   "metadata": {},
   "source": [
    "## Entraînement"
   ]
  },
  {
   "cell_type": "markdown",
   "id": "b682dc09",
   "metadata": {},
   "source": [
    "### 1. Logistic Regression"
   ]
  },
  {
   "cell_type": "code",
   "execution_count": 12,
   "id": "e59d72e8",
   "metadata": {},
   "outputs": [],
   "source": [
    "from sklearn.model_selection import train_test_split\n",
    "from sklearn.linear_model import LogisticRegression\n",
    "from sklearn.metrics import classification_report, accuracy_score"
   ]
  },
  {
   "cell_type": "code",
   "execution_count": 13,
   "id": "13a93072",
   "metadata": {},
   "outputs": [],
   "source": [
    "def train_and_evaluate(features, labels):\n",
    "\t\"\"\"Train and evaluate a logistic regression model.\"\"\"\n",
    "\tX_train, X_test, y_train, y_test = train_test_split(features, labels, test_size=0.25, random_state=42)\n",
    "\tmodel = LogisticRegression(random_state=42)\n",
    "\tmodel.fit(X_train, y_train)\n",
    "\ty_pred = model.predict(X_test)\n",
    "\tprint(\"Accuracy:\", accuracy_score(y_test, y_pred))\n",
    "\tprint(\"Classification Report:\\n\", classification_report(y_test, y_pred))"
   ]
  },
  {
   "cell_type": "code",
   "execution_count": 14,
   "id": "957b0da3",
   "metadata": {},
   "outputs": [
    {
     "name": "stdout",
     "output_type": "stream",
     "text": [
      "Accuracy: 0.8543046357615894\n",
      "Classification Report:\n",
      "               precision    recall  f1-score   support\n",
      "\n",
      "           0       0.81      0.88      0.85        68\n",
      "           1       0.90      0.83      0.86        83\n",
      "\n",
      "    accuracy                           0.85       151\n",
      "   macro avg       0.85      0.86      0.85       151\n",
      "weighted avg       0.86      0.85      0.85       151\n",
      "\n"
     ]
    }
   ],
   "source": [
    "train_and_evaluate(features, reviews_df['label'])"
   ]
  },
  {
   "cell_type": "code",
   "execution_count": null,
   "id": "59cb8cf1",
   "metadata": {},
   "outputs": [],
   "source": []
  }
 ],
 "metadata": {
  "kernelspec": {
   "display_name": "Python 3 (ipykernel)",
   "language": "python",
   "name": "python3"
  },
  "language_info": {
   "codemirror_mode": {
    "name": "ipython",
    "version": 3
   },
   "file_extension": ".py",
   "mimetype": "text/x-python",
   "name": "python",
   "nbconvert_exporter": "python",
   "pygments_lexer": "ipython3",
   "version": "3.10.12"
  }
 },
 "nbformat": 4,
 "nbformat_minor": 5
}
