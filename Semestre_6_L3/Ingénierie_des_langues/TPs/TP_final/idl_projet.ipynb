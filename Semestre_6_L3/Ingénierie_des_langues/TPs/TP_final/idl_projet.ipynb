{
 "cells": [
  {
   "cell_type": "markdown",
   "id": "50761eec-6294-4c42-8942-39ab61de2256",
   "metadata": {},
   "source": [
    "# IDL TP Final `scikit-learn` Projet"
   ]
  },
  {
   "cell_type": "markdown",
   "id": "3680d79d",
   "metadata": {},
   "source": [
    "## Charger les donnés"
   ]
  },
  {
   "cell_type": "code",
   "execution_count": 1,
   "id": "aa9e1078-0c99-4cad-a18c-dcaaa1b6862d",
   "metadata": {},
   "outputs": [],
   "source": [
    "import os\n",
    "import pandas as pd"
   ]
  },
  {
   "cell_type": "code",
   "execution_count": 2,
   "id": "99ee001d",
   "metadata": {},
   "outputs": [],
   "source": [
    "def load_reviews(data_dir):\n",
    "\treviews = []\n",
    "\tlabels = []\n",
    "\tfor label in [\"pos\", \"neg\"]:\n",
    "\t\tdirectory = os.path.join(data_dir, label)\n",
    "\t\tfor filename in os.listdir(directory):\n",
    "\t\t\tif filename.endswith(\".txt\"):\n",
    "\t\t\t\tfile_path = os.path.join(directory, filename)\n",
    "\t\t\t\twith open(file_path, 'r', encoding='utf-8') as file:\n",
    "\t\t\t\t\treviews.append(file.read())\n",
    "\t\t\t\t\tlabels.append(1 if label == \"pos\" else 0)\n",
    "\treturn reviews, labels"
   ]
  },
  {
   "cell_type": "code",
   "execution_count": 3,
   "id": "38e21e8c",
   "metadata": {},
   "outputs": [],
   "source": [
    "data_dir = 'imdb_smol'\n",
    "reviews, labels = load_reviews(data_dir)\n",
    "reviews_df = pd.DataFrame({'review': reviews, 'label': labels})"
   ]
  },
  {
   "cell_type": "code",
   "execution_count": 4,
   "id": "457dc251",
   "metadata": {},
   "outputs": [
    {
     "name": "stdout",
     "output_type": "stream",
     "text": [
      "Nombre de données: 602\n"
     ]
    }
   ],
   "source": [
    "print(\"Nombre de données:\", len(reviews_df))"
   ]
  },
  {
   "cell_type": "code",
   "execution_count": 5,
   "id": "ab96ddae",
   "metadata": {},
   "outputs": [
    {
     "data": {
      "text/html": [
       "<div>\n",
       "<style scoped>\n",
       "    .dataframe tbody tr th:only-of-type {\n",
       "        vertical-align: middle;\n",
       "    }\n",
       "\n",
       "    .dataframe tbody tr th {\n",
       "        vertical-align: top;\n",
       "    }\n",
       "\n",
       "    .dataframe thead th {\n",
       "        text-align: right;\n",
       "    }\n",
       "</style>\n",
       "<table border=\"1\" class=\"dataframe\">\n",
       "  <thead>\n",
       "    <tr style=\"text-align: right;\">\n",
       "      <th></th>\n",
       "      <th>review</th>\n",
       "      <th>label</th>\n",
       "    </tr>\n",
       "  </thead>\n",
       "  <tbody>\n",
       "    <tr>\n",
       "      <th>0</th>\n",
       "      <td>The production quality, cast, premise, authent...</td>\n",
       "      <td>1</td>\n",
       "    </tr>\n",
       "    <tr>\n",
       "      <th>1</th>\n",
       "      <td>This is no art-house film, it's mainstream ent...</td>\n",
       "      <td>1</td>\n",
       "    </tr>\n",
       "    <tr>\n",
       "      <th>2</th>\n",
       "      <td>Two great comedians in a great Neil Simon movi...</td>\n",
       "      <td>1</td>\n",
       "    </tr>\n",
       "    <tr>\n",
       "      <th>3</th>\n",
       "      <td>I'm a fan of TV movies in general and this was...</td>\n",
       "      <td>1</td>\n",
       "    </tr>\n",
       "    <tr>\n",
       "      <th>4</th>\n",
       "      <td>Once upon a time in a castle...... Two little ...</td>\n",
       "      <td>1</td>\n",
       "    </tr>\n",
       "  </tbody>\n",
       "</table>\n",
       "</div>"
      ],
      "text/plain": [
       "                                              review  label\n",
       "0  The production quality, cast, premise, authent...      1\n",
       "1  This is no art-house film, it's mainstream ent...      1\n",
       "2  Two great comedians in a great Neil Simon movi...      1\n",
       "3  I'm a fan of TV movies in general and this was...      1\n",
       "4  Once upon a time in a castle...... Two little ...      1"
      ]
     },
     "execution_count": 5,
     "metadata": {},
     "output_type": "execute_result"
    }
   ],
   "source": [
    "reviews_df.head()"
   ]
  },
  {
   "cell_type": "code",
   "execution_count": 6,
   "id": "a6f6dc37",
   "metadata": {},
   "outputs": [
    {
     "name": "stdout",
     "output_type": "stream",
     "text": [
      "\n",
      "Nombre de notes positives: 301\n",
      "Nombre de notes négatives: 301\n"
     ]
    }
   ],
   "source": [
    "print(\"\\nNombre de notes positives:\", (reviews_df['label'] == 1).sum())\n",
    "print(\"Nombre de notes négatives:\", (reviews_df['label'] == 0).sum())"
   ]
  },
  {
   "cell_type": "code",
   "execution_count": 7,
   "id": "0f6964c0",
   "metadata": {},
   "outputs": [
    {
     "name": "stdout",
     "output_type": "stream",
     "text": [
      "\n",
      "Informations générales sur le DataFrame:\n",
      "<class 'pandas.core.frame.DataFrame'>\n",
      "RangeIndex: 602 entries, 0 to 601\n",
      "Data columns (total 2 columns):\n",
      " #   Column  Non-Null Count  Dtype \n",
      "---  ------  --------------  ----- \n",
      " 0   review  602 non-null    object\n",
      " 1   label   602 non-null    int64 \n",
      "dtypes: int64(1), object(1)\n",
      "memory usage: 9.5+ KB\n",
      "None\n"
     ]
    }
   ],
   "source": [
    "print(\"\\nInformations générales sur le DataFrame:\")\n",
    "print(reviews_df.info())"
   ]
  },
  {
   "cell_type": "code",
   "execution_count": 8,
   "id": "80d0a0c8",
   "metadata": {},
   "outputs": [
    {
     "name": "stdout",
     "output_type": "stream",
     "text": [
      "\n",
      "Index de la note de review: 203 \n",
      "Texte de la note de review:\n",
      " What a fun movie! If you're a Giallo fan, Red Queen Kills 7 Times is a real winner. To begin with, it's hard to go wrong with Barbara Bouchet and Marina Malfatti in the same Giallo. Both are wonderful - especially the wide-eyed innocent Bouchet as the guilt ridden woman fearing for her life. The kill scenes in Red Queen Kills 7 Times are especially nice and feature enough blood to make most fans happy. One of the first murders comes rather unexpectedly and really gets the movie off to a good start. The killer, The Red Queen, is one of the most over-the-top and interesting looking murderers I've seen in an Italian movie. The 70s sets and fashions are wonderful. In fact, all the visuals are interesting with the laughing Red Queen running across the bridge at night being one of my favorite moments in the film. The convoluted plot held my interest throughout. Finally, Bruno Nicolai's score may be the best I've heard from the composer. The main theme is so memorable I haven't been able to get it out of my head for two days.<br /><br />The only two issues I have with Red Queen Kills 7 Times come in the film's finale. First, the person responsible for the murders is far too easy to spot. If you've seen more than a couple Gialli, you won't have any problem determining who is behind the killings. Second, the ending feels a little too rushed and, as a result, is a bit confusing. I'm definitely not one who needs every plot point spelled out to me, but I'll admit to being at a loss to explain it all. A second viewing might just clear this up.\n",
      "Étiquette: Positive\n",
      "\n",
      "Index de la note de review: 203 \n",
      "Texte de la note de review:\n",
      " What a fun movie! If you're a Giallo fan, Red Queen Kills 7 Times is a real winner. To begin with, it's hard to go wrong with Barbara Bouchet and Marina Malfatti in the same Giallo. Both are wonderful - especially the wide-eyed innocent Bouchet as the guilt ridden woman fearing for her life. The kill scenes in Red Queen Kills 7 Times are especially nice and feature enough blood to make most fans happy. One of the first murders comes rather unexpectedly and really gets the movie off to a good start. The killer, The Red Queen, is one of the most over-the-top and interesting looking murderers I've seen in an Italian movie. The 70s sets and fashions are wonderful. In fact, all the visuals are interesting with the laughing Red Queen running across the bridge at night being one of my favorite moments in the film. The convoluted plot held my interest throughout. Finally, Bruno Nicolai's score may be the best I've heard from the composer. The main theme is so memorable I haven't been able to get it out of my head for two days.<br /><br />The only two issues I have with Red Queen Kills 7 Times come in the film's finale. First, the person responsible for the murders is far too easy to spot. If you've seen more than a couple Gialli, you won't have any problem determining who is behind the killings. Second, the ending feels a little too rushed and, as a result, is a bit confusing. I'm definitely not one who needs every plot point spelled out to me, but I'll admit to being at a loss to explain it all. A second viewing might just clear this up.\n",
      "Étiquette: Positive\n",
      "\n",
      "Index de la note de review: 502 \n",
      "Texte de la note de review:\n",
      " \"Spielberg loves the smell of sentiment in the morning. But sentiment at the expense of narrative honesty? Nobody should love that.\" - Lucius Shepard<br /><br />\"The Color Purple\" takes place in the Deep South during the early 1900s, and tells the story of Celie and Nettie, two African American sisters. The film opens with the girls playing in a field of purple flowers, an idyllic haven which is promptly shattered by the appearance of their stepfather. This motif  innocence interrupted by men  permeates the entire film.<br /><br />The film then launches into a series of short sequences. Celie is revealed to have been twice impregnated by her stepfather, gives birth in a dirty barn, has her newborn child taken away and is forced to marry a local widow named Albert Johnson, a violent oaf who rapes her repeatedly, forcing her to cook, clean and look after his children.<br /><br />All these horrific scenes are given little screen time, and are instead surrounded by moments of pixie-dust cinematography, a meddlesome symphonic score, incongruous comedy and overly exuberant camera work. The cumulative effect is like the merging of a Disney cartoon and a rape movie, a jarring aesthetic which caused Stanley Kubrick to remark that \"The Color Purple\" made him so nauseated that he had to turn it off after ten minutes. Ten minutes? He lasted a long time.<br /><br />The film is often said to deal which \"racism\", \"sexism\" and \"black culture\", but this is not true. Alice Walker, the author of the novel upon which the film is based, claims to be a bisexual but is actually a closet lesbian. Her book is a lesbian fantasy, a story of female liberation and self-discovery, which paints men as violent brutes who stymie women. For Walker, the only way out of this maze is for women to bond together in a kind of lesbian utopia, black sisterhood and female independence celebrated.<br /><br />Spielberg's film, however, re-frames Walker's story through the lens of comforting American mythologies. This is a film in which the salvific power of Christianity overcomes the natural cruelty of men. A film in which Albert finds himself in various ridiculous situations, moments of misplaced comedy inserted to make him look like a bumbling fool. A film in which all the characters are derived from racist minstrel shows, the cast comprised of lecherous men (always beaming with devilish smiles and toothy grins), stereotypical fat mammies, jazz bands and gospel choirs. <br /><br />This is a film in which black people are naturally childlike, readily and happily accepting their social conditions. A film in which black people are over-sexed, carnal sensualists dominated by violent passions. A film in which poverty and class issues are entirely invisible (Albert lives in a huge house) and black men are completely inept. This is not the Old South, this is the Old South as derived from \"Gone With The Wind\", MGM Muscals, \"Song of the South\", Warner Cartoons, \"Halleluha!\" and banned Disney movies. In other words, it's the South as seen by a child raised on 50s TV. It's all so cartoonish, so racist in the way it reduces these human beings to one dimensional ethnic stereotypes, that black novelist Ishmael Reed famously likened it to a Nazi conspiracy.<br /><br />Of course, in typical Spielberg fashion the film ends with family bonds being healed. This reconciliation was in Walker's novel, but Spielberg goes further by having every character in the story reconcile with their kin.<br /><br />Beyond Walker's hate letter to black men and Spielberg's bizarre caricaturing of black life, we are shown nothing of the black community. We have only the vaguest ideas as to how any of these characters make a living and no insight into how they interact with others in their community. Instead, Spielberg's camera jumps about, desperately fighting for our attention (one of Celie's kitchen contraptions seems like it belongs in a \"Home Alone\" movie), every emotion over played, the director never stopping to just observe something or to allow a little bit of life to simply pass by. Couple this with Quincy Jones' ridiculously \"white\" music, and you have one of the strangest films in cinema history: an angry feminist tract filmed by a white Jew in the style of Disney and Griffith, scored by a black man trying to emulate John Williams.<br /><br />Problematic too is the lack of white characters. Consider this: the men in this film aren't portrayed as being rough to each other, nor do they dominate women because they are brutalised by a racist society which reduces their manhood. No, they are cruel by nature. And the women, whether quietly suffering like Celie or rebellious and tough like her sister, persevere and survive only because the men are too stupid to destroy them. A better film would not have focused solely on the oppression of women as it occurs among the oppressed, rather, it would have shown that it is societal abuse which has led to spousal abuse, that enslaved black women are forced to perform the very same tasks as their male counterparts (whilst still fulfilling traditional female roles) and that African American domestic violence occurs largely because of economic factors, women unable to support themselves and their children alone.<br /><br />And so there's a hidden ideology at work here. Late in the film one character tells another that since he didn't respect his wife, she wound up getting severely beaten and imprisoned by whites. The implication is that blacks need to return to their African roots to restore their own dignity and that it is their fault that whites unjustly crush them. ie- Respect one another in your poor minority community and you won't run afoul of the dominant white culture. <br /><br />3/10 - A failure to confront sex and lesbianism, inappropriate musical numbers, countless sequence loaded with extraneous visual pizazz, incongruous comic business, emphatic music cues, and wildly hyped emotionality, all contribute to rendering \"The Color Purple\" worthless.\n",
      "Étiquette: Négative\n",
      "\n",
      "Index de la note de review: 502 \n",
      "Texte de la note de review:\n",
      " \"Spielberg loves the smell of sentiment in the morning. But sentiment at the expense of narrative honesty? Nobody should love that.\" - Lucius Shepard<br /><br />\"The Color Purple\" takes place in the Deep South during the early 1900s, and tells the story of Celie and Nettie, two African American sisters. The film opens with the girls playing in a field of purple flowers, an idyllic haven which is promptly shattered by the appearance of their stepfather. This motif  innocence interrupted by men  permeates the entire film.<br /><br />The film then launches into a series of short sequences. Celie is revealed to have been twice impregnated by her stepfather, gives birth in a dirty barn, has her newborn child taken away and is forced to marry a local widow named Albert Johnson, a violent oaf who rapes her repeatedly, forcing her to cook, clean and look after his children.<br /><br />All these horrific scenes are given little screen time, and are instead surrounded by moments of pixie-dust cinematography, a meddlesome symphonic score, incongruous comedy and overly exuberant camera work. The cumulative effect is like the merging of a Disney cartoon and a rape movie, a jarring aesthetic which caused Stanley Kubrick to remark that \"The Color Purple\" made him so nauseated that he had to turn it off after ten minutes. Ten minutes? He lasted a long time.<br /><br />The film is often said to deal which \"racism\", \"sexism\" and \"black culture\", but this is not true. Alice Walker, the author of the novel upon which the film is based, claims to be a bisexual but is actually a closet lesbian. Her book is a lesbian fantasy, a story of female liberation and self-discovery, which paints men as violent brutes who stymie women. For Walker, the only way out of this maze is for women to bond together in a kind of lesbian utopia, black sisterhood and female independence celebrated.<br /><br />Spielberg's film, however, re-frames Walker's story through the lens of comforting American mythologies. This is a film in which the salvific power of Christianity overcomes the natural cruelty of men. A film in which Albert finds himself in various ridiculous situations, moments of misplaced comedy inserted to make him look like a bumbling fool. A film in which all the characters are derived from racist minstrel shows, the cast comprised of lecherous men (always beaming with devilish smiles and toothy grins), stereotypical fat mammies, jazz bands and gospel choirs. <br /><br />This is a film in which black people are naturally childlike, readily and happily accepting their social conditions. A film in which black people are over-sexed, carnal sensualists dominated by violent passions. A film in which poverty and class issues are entirely invisible (Albert lives in a huge house) and black men are completely inept. This is not the Old South, this is the Old South as derived from \"Gone With The Wind\", MGM Muscals, \"Song of the South\", Warner Cartoons, \"Halleluha!\" and banned Disney movies. In other words, it's the South as seen by a child raised on 50s TV. It's all so cartoonish, so racist in the way it reduces these human beings to one dimensional ethnic stereotypes, that black novelist Ishmael Reed famously likened it to a Nazi conspiracy.<br /><br />Of course, in typical Spielberg fashion the film ends with family bonds being healed. This reconciliation was in Walker's novel, but Spielberg goes further by having every character in the story reconcile with their kin.<br /><br />Beyond Walker's hate letter to black men and Spielberg's bizarre caricaturing of black life, we are shown nothing of the black community. We have only the vaguest ideas as to how any of these characters make a living and no insight into how they interact with others in their community. Instead, Spielberg's camera jumps about, desperately fighting for our attention (one of Celie's kitchen contraptions seems like it belongs in a \"Home Alone\" movie), every emotion over played, the director never stopping to just observe something or to allow a little bit of life to simply pass by. Couple this with Quincy Jones' ridiculously \"white\" music, and you have one of the strangest films in cinema history: an angry feminist tract filmed by a white Jew in the style of Disney and Griffith, scored by a black man trying to emulate John Williams.<br /><br />Problematic too is the lack of white characters. Consider this: the men in this film aren't portrayed as being rough to each other, nor do they dominate women because they are brutalised by a racist society which reduces their manhood. No, they are cruel by nature. And the women, whether quietly suffering like Celie or rebellious and tough like her sister, persevere and survive only because the men are too stupid to destroy them. A better film would not have focused solely on the oppression of women as it occurs among the oppressed, rather, it would have shown that it is societal abuse which has led to spousal abuse, that enslaved black women are forced to perform the very same tasks as their male counterparts (whilst still fulfilling traditional female roles) and that African American domestic violence occurs largely because of economic factors, women unable to support themselves and their children alone.<br /><br />And so there's a hidden ideology at work here. Late in the film one character tells another that since he didn't respect his wife, she wound up getting severely beaten and imprisoned by whites. The implication is that blacks need to return to their African roots to restore their own dignity and that it is their fault that whites unjustly crush them. ie- Respect one another in your poor minority community and you won't run afoul of the dominant white culture. <br /><br />3/10 - A failure to confront sex and lesbianism, inappropriate musical numbers, countless sequence loaded with extraneous visual pizazz, incongruous comic business, emphatic music cues, and wildly hyped emotionality, all contribute to rendering \"The Color Purple\" worthless.\n",
      "Étiquette: Négative\n",
      "\n",
      "Index de la note de review: 276 \n",
      "Texte de la note de review:\n",
      " This film is, in short, a cinematic masterpiece. The film is moved along brilliantly by intense images that deeply move the sensitive viewer. The film opens during the Spanish Civil War as a group of children seek their revenge on another child. In fact, they are acting out in their world a version of what they have witnessed in the adult world around them. Later we meet three of these children again as adults at a sanatorium. Here we see what life has wrought on each of them. One is a reclusive sexually repressed patient. Another man is a hustler who has become ill. The third child, a young lady, has become a nun and is serving at the sanatorium. This film is an allegory about the effect of violence on the psyche.<br /><br />This film has a climax that is definitely not for the squeamish members of the viewing audience but it is logical as well as profoundly moving. The acting is excellent and the script is quite well written. There is a musical score that provides an undercurrent of dread throughout this film. This is not a film for thrill seekers but a film for a thoughtful audience.\n",
      "Étiquette: Positive\n",
      "\n",
      "Index de la note de review: 276 \n",
      "Texte de la note de review:\n",
      " This film is, in short, a cinematic masterpiece. The film is moved along brilliantly by intense images that deeply move the sensitive viewer. The film opens during the Spanish Civil War as a group of children seek their revenge on another child. In fact, they are acting out in their world a version of what they have witnessed in the adult world around them. Later we meet three of these children again as adults at a sanatorium. Here we see what life has wrought on each of them. One is a reclusive sexually repressed patient. Another man is a hustler who has become ill. The third child, a young lady, has become a nun and is serving at the sanatorium. This film is an allegory about the effect of violence on the psyche.<br /><br />This film has a climax that is definitely not for the squeamish members of the viewing audience but it is logical as well as profoundly moving. The acting is excellent and the script is quite well written. There is a musical score that provides an undercurrent of dread throughout this film. This is not a film for thrill seekers but a film for a thoughtful audience.\n",
      "Étiquette: Positive\n",
      "\n",
      "Index de la note de review: 493 \n",
      "Texte de la note de review:\n",
      " I am not so much like Love Sick as I image. Finally the film express sexual relationship of Alex, kik, Sandu their triangle love were full of intenseness, frustration and jealous, at last, Alex waked up and realized that they would not have result and future.Ending up was sad.<br /><br />The director Tudor Giurgiu was in AMC theatre on Sunday 12:00PM on 08/10/06, with us watched the movie together. After the movie he told the audiences that the purposed to create this film which was to express the sexual relationships of Romanian were kind of complicate.<br /><br />On my point of view sexual life is always complicated in everywhere, I don't feel any particular impression and effect from the movie. The love proceeding of Alex and Kiki, and Kiki and her brother Sandu were kind of next door neighborhood story.<br /><br />The two main reasons I don't like this movie are, firstly, the film didn't told us how they started to fall in love? Sounds like after Alex moved into the building which Kiki was living, then two girls are fall in love. It doesn't make sense at all. How a girl would fall in love with another girl instead of a man. Too much fragments, you need to image and connect those stories by your mind. Secondly, The whole film didn't have a scene of Alex and Kik's sexual intercourse, that 's what I was waiting for. However, it still had some parts were deserved to recommend. The \"ear piercing \" part was kind of interesting. Alex was willing to suffer the pain of ear piercing to appreciate kik's love. That was a touching scene which gave you a little idea of their love. Also, the scene of they were lying in the soccer field, the conversation express their loves were truthful and passionate.\n",
      "Étiquette: Négative\n",
      "\n",
      "Index de la note de review: 493 \n",
      "Texte de la note de review:\n",
      " I am not so much like Love Sick as I image. Finally the film express sexual relationship of Alex, kik, Sandu their triangle love were full of intenseness, frustration and jealous, at last, Alex waked up and realized that they would not have result and future.Ending up was sad.<br /><br />The director Tudor Giurgiu was in AMC theatre on Sunday 12:00PM on 08/10/06, with us watched the movie together. After the movie he told the audiences that the purposed to create this film which was to express the sexual relationships of Romanian were kind of complicate.<br /><br />On my point of view sexual life is always complicated in everywhere, I don't feel any particular impression and effect from the movie. The love proceeding of Alex and Kiki, and Kiki and her brother Sandu were kind of next door neighborhood story.<br /><br />The two main reasons I don't like this movie are, firstly, the film didn't told us how they started to fall in love? Sounds like after Alex moved into the building which Kiki was living, then two girls are fall in love. It doesn't make sense at all. How a girl would fall in love with another girl instead of a man. Too much fragments, you need to image and connect those stories by your mind. Secondly, The whole film didn't have a scene of Alex and Kik's sexual intercourse, that 's what I was waiting for. However, it still had some parts were deserved to recommend. The \"ear piercing \" part was kind of interesting. Alex was willing to suffer the pain of ear piercing to appreciate kik's love. That was a touching scene which gave you a little idea of their love. Also, the scene of they were lying in the soccer field, the conversation express their loves were truthful and passionate.\n",
      "Étiquette: Négative\n",
      "\n",
      "Index de la note de review: 555 \n",
      "Texte de la note de review:\n",
      " This is the first time I ever saw a movie with Jamie Foxx, and I bet it will be my last. I failed to see why he was funny, although people in the audience thought it was very funny when he made a face to the camera, or for saying \"I am going to take a shower\".<br /><br />The plot is completely predictable. The bad guy comes after the good guy. The good guy has a woman, so the bad guy uses her. In between, the officials screwing up. The final scenes are utterly unbelievable. You spend 2 years and millions of dollars chasing a guy, but you don't do your home work to solve a trivial riddle?<br /><br />There's no great acting, there isn't much of a plot or storyline, and the shooting is done MTV style. Don't waste your money on this one.<br /><br />\n",
      "Étiquette: Négative\n",
      "\n",
      "Index de la note de review: 555 \n",
      "Texte de la note de review:\n",
      " This is the first time I ever saw a movie with Jamie Foxx, and I bet it will be my last. I failed to see why he was funny, although people in the audience thought it was very funny when he made a face to the camera, or for saying \"I am going to take a shower\".<br /><br />The plot is completely predictable. The bad guy comes after the good guy. The good guy has a woman, so the bad guy uses her. In between, the officials screwing up. The final scenes are utterly unbelievable. You spend 2 years and millions of dollars chasing a guy, but you don't do your home work to solve a trivial riddle?<br /><br />There's no great acting, there isn't much of a plot or storyline, and the shooting is done MTV style. Don't waste your money on this one.<br /><br />\n",
      "Étiquette: Négative\n"
     ]
    }
   ],
   "source": [
    "for index, row in reviews_df.sample(5).iterrows():\n",
    "\tprint(\"\\nIndex de la note de review:\", index, \"\\nTexte de la note de review:\\n\", row['review'])\n",
    "\tprint(\"Étiquette:\", \"Positive\" if row['label'] == 1 else \"Négative\")\n",
    "\n",
    "\tprint(\"\\nIndex de la note de review:\", index, \"\\nTexte de la note de review:\\n\", row['review'])\n",
    "\tprint(\"Étiquette:\", \"Positive\" if row['label'] == 1 else \"Négative\")"
   ]
  },
  {
   "cell_type": "markdown",
   "id": "20f27708",
   "metadata": {},
   "source": [
    "## Vectorisation"
   ]
  },
  {
   "cell_type": "code",
   "execution_count": 9,
   "id": "17184c79",
   "metadata": {},
   "outputs": [],
   "source": [
    "from sklearn.feature_extraction.text import TfidfVectorizer, CountVectorizer"
   ]
  },
  {
   "cell_type": "code",
   "execution_count": 10,
   "id": "685f1f1a",
   "metadata": {},
   "outputs": [],
   "source": [
    "def vectorize_text(data, vectorizer):\n",
    "\t\"\"\"Vectorize text data using specified vectorizer.\"\"\"\n",
    "\tvectorized_data = vectorizer.fit_transform(data)\n",
    "\treturn vectorized_data, vectorizer"
   ]
  },
  {
   "cell_type": "code",
   "execution_count": 11,
   "id": "a67a5acd",
   "metadata": {},
   "outputs": [],
   "source": [
    "tfidf_vectorizer = TfidfVectorizer(stop_words='english', max_features=5000)"
   ]
  },
  {
   "cell_type": "code",
   "execution_count": 12,
   "id": "8877af3e",
   "metadata": {},
   "outputs": [],
   "source": [
    "count_vectorizer = CountVectorizer(stop_words='english', max_features=5000)"
   ]
  },
  {
   "cell_type": "code",
   "execution_count": 13,
   "id": "19ef4435",
   "metadata": {},
   "outputs": [
    {
     "name": "stdout",
     "output_type": "stream",
     "text": [
      "Forme de la matrice TF-IDF : (602, 5000)\n"
     ]
    }
   ],
   "source": [
    "features, current_vectorizer = vectorize_text(reviews_df['review'], tfidf_vectorizer)\n",
    "print(\"Forme de la matrice TF-IDF :\", features.shape)"
   ]
  },
  {
   "cell_type": "code",
   "execution_count": 14,
   "id": "a469aa6f",
   "metadata": {},
   "outputs": [
    {
     "name": "stdout",
     "output_type": "stream",
     "text": [
      "Forme de la matrice Count : (602, 5000)\n"
     ]
    }
   ],
   "source": [
    "features_count, _ = vectorize_text(reviews_df['review'], count_vectorizer)\n",
    "print(\"Forme de la matrice Count :\", features_count.shape)"
   ]
  },
  {
   "cell_type": "markdown",
   "id": "47d27321",
   "metadata": {},
   "source": [
    "## Entraînement"
   ]
  },
  {
   "cell_type": "markdown",
   "id": "b682dc09",
   "metadata": {},
   "source": [
    "### 1. Logistic Regression"
   ]
  },
  {
   "cell_type": "code",
   "execution_count": 15,
   "id": "e59d72e8",
   "metadata": {},
   "outputs": [],
   "source": [
    "from sklearn.model_selection import train_test_split\n",
    "from sklearn.linear_model import LogisticRegression\n",
    "from sklearn.metrics import classification_report, accuracy_score"
   ]
  },
  {
   "cell_type": "code",
   "execution_count": 16,
   "id": "13a93072",
   "metadata": {},
   "outputs": [],
   "source": [
    "def train_and_evaluate(features, labels):\n",
    "\t\"\"\"Train and evaluate a logistic regression model.\"\"\"\n",
    "\tX_train, X_test, y_train, y_test = train_test_split(features, labels, test_size=0.25, random_state=42)\n",
    "\tmodel = LogisticRegression(random_state=42)\n",
    "\tmodel.fit(X_train, y_train)\n",
    "\ty_pred = model.predict(X_test)\n",
    "\tprint(\"Accuracy:\", accuracy_score(y_test, y_pred))\n",
    "\tprint(\"Classification Report:\\n\", classification_report(y_test, y_pred))"
   ]
  },
  {
   "cell_type": "code",
   "execution_count": 17,
   "id": "957b0da3",
   "metadata": {},
   "outputs": [
    {
     "name": "stdout",
     "output_type": "stream",
     "text": [
      "Accuracy: 0.8543046357615894\n",
      "Classification Report:\n",
      "               precision    recall  f1-score   support\n",
      "\n",
      "           0       0.81      0.88      0.85        68\n",
      "           1       0.90      0.83      0.86        83\n",
      "\n",
      "    accuracy                           0.85       151\n",
      "   macro avg       0.85      0.86      0.85       151\n",
      "weighted avg       0.86      0.85      0.85       151\n",
      "\n"
     ]
    }
   ],
   "source": [
    "train_and_evaluate(features, reviews_df['label'])"
   ]
  },
  {
   "cell_type": "code",
   "execution_count": 18,
   "id": "b29ce041",
   "metadata": {},
   "outputs": [
    {
     "name": "stdout",
     "output_type": "stream",
     "text": [
      "Accuracy: 0.8079470198675497\n",
      "Classification Report:\n",
      "               precision    recall  f1-score   support\n",
      "\n",
      "           0       0.79      0.78      0.79        68\n",
      "           1       0.82      0.83      0.83        83\n",
      "\n",
      "    accuracy                           0.81       151\n",
      "   macro avg       0.81      0.81      0.81       151\n",
      "weighted avg       0.81      0.81      0.81       151\n",
      "\n"
     ]
    }
   ],
   "source": [
    "train_and_evaluate(features_count, reviews_df['label'])"
   ]
  },
  {
   "cell_type": "markdown",
   "id": "f44d1335",
   "metadata": {},
   "source": [
    "### 2. SVM & GridSearchCV"
   ]
  },
  {
   "cell_type": "code",
   "execution_count": 19,
   "id": "59cb8cf1",
   "metadata": {},
   "outputs": [],
   "source": [
    "from sklearn.svm import SVC\n",
    "from sklearn.model_selection import GridSearchCV"
   ]
  },
  {
   "cell_type": "code",
   "execution_count": 20,
   "id": "219b505f",
   "metadata": {},
   "outputs": [],
   "source": [
    "def train_and_evaluate_svm(X_train, y_train, X_test, y_test):\n",
    "\tparam_grid = {\n",
    "\t\t'C': [0.1, 1, 10, 100],\n",
    "\t\t'kernel': ['linear', 'rbf'],\n",
    "\t\t'gamma': ['scale', 'auto']\n",
    "\t}\n",
    "\tgrid_search = GridSearchCV(SVC(), param_grid, cv=5, scoring='accuracy', verbose=1)\n",
    "\tgrid_search.fit(X_train, y_train)\n",
    "\tprint(\"Best parameters:\", grid_search.best_params_)\n",
    "\tbest_model = grid_search.best_estimator_\n",
    "\ty_pred = best_model.predict(y_test)\n",
    "\tprint(\"Accuracy:\", accuracy_score(y_test, y_pred))\n",
    "\tprint(\"Classification Report:\\n\", classification_report(y_test, y_pred))"
   ]
  },
  {
   "cell_type": "code",
   "execution_count": 21,
   "id": "4a11372f",
   "metadata": {},
   "outputs": [
    {
     "name": "stdout",
     "output_type": "stream",
     "text": [
      "Fitting 5 folds for each of 16 candidates, totalling 80 fits\n",
      "Best parameters: {'C': 10, 'gamma': 'scale', 'kernel': 'rbf'}\n"
     ]
    },
    {
     "ename": "ValueError",
     "evalue": "Expected a 2-dimensional container but got <class 'pandas.core.series.Series'> instead. Pass a DataFrame containing a single row (i.e. single sample) or a single column (i.e. single feature) instead.",
     "output_type": "error",
     "traceback": [
      "\u001b[0;31m---------------------------------------------------------------------------\u001b[0m",
      "\u001b[0;31mValueError\u001b[0m                                Traceback (most recent call last)",
      "Cell \u001b[0;32mIn[21], line 1\u001b[0m\n\u001b[0;32m----> 1\u001b[0m \u001b[43mtrain_and_evaluate_svm\u001b[49m\u001b[43m(\u001b[49m\u001b[43mfeatures\u001b[49m\u001b[43m,\u001b[49m\u001b[43m \u001b[49m\u001b[43mreviews_df\u001b[49m\u001b[43m[\u001b[49m\u001b[38;5;124;43m'\u001b[39;49m\u001b[38;5;124;43mlabel\u001b[39;49m\u001b[38;5;124;43m'\u001b[39;49m\u001b[43m]\u001b[49m\u001b[43m,\u001b[49m\u001b[43m \u001b[49m\u001b[43mfeatures\u001b[49m\u001b[43m,\u001b[49m\u001b[43m \u001b[49m\u001b[43mreviews_df\u001b[49m\u001b[43m[\u001b[49m\u001b[38;5;124;43m'\u001b[39;49m\u001b[38;5;124;43mlabel\u001b[39;49m\u001b[38;5;124;43m'\u001b[39;49m\u001b[43m]\u001b[49m\u001b[43m)\u001b[49m\n",
      "Cell \u001b[0;32mIn[20], line 11\u001b[0m, in \u001b[0;36mtrain_and_evaluate_svm\u001b[0;34m(X_train, y_train, X_test, y_test)\u001b[0m\n\u001b[1;32m      9\u001b[0m \u001b[38;5;28mprint\u001b[39m(\u001b[38;5;124m\"\u001b[39m\u001b[38;5;124mBest parameters:\u001b[39m\u001b[38;5;124m\"\u001b[39m, grid_search\u001b[38;5;241m.\u001b[39mbest_params_)\n\u001b[1;32m     10\u001b[0m best_model \u001b[38;5;241m=\u001b[39m grid_search\u001b[38;5;241m.\u001b[39mbest_estimator_\n\u001b[0;32m---> 11\u001b[0m y_pred \u001b[38;5;241m=\u001b[39m \u001b[43mbest_model\u001b[49m\u001b[38;5;241;43m.\u001b[39;49m\u001b[43mpredict\u001b[49m\u001b[43m(\u001b[49m\u001b[43my_test\u001b[49m\u001b[43m)\u001b[49m\n\u001b[1;32m     12\u001b[0m \u001b[38;5;28mprint\u001b[39m(\u001b[38;5;124m\"\u001b[39m\u001b[38;5;124mAccuracy:\u001b[39m\u001b[38;5;124m\"\u001b[39m, accuracy_score(y_test, y_pred))\n\u001b[1;32m     13\u001b[0m \u001b[38;5;28mprint\u001b[39m(\u001b[38;5;124m\"\u001b[39m\u001b[38;5;124mClassification Report:\u001b[39m\u001b[38;5;130;01m\\n\u001b[39;00m\u001b[38;5;124m\"\u001b[39m, classification_report(y_test, y_pred))\n",
      "File \u001b[0;32m~/.local/lib/python3.10/site-packages/sklearn/svm/_base.py:814\u001b[0m, in \u001b[0;36mBaseSVC.predict\u001b[0;34m(self, X)\u001b[0m\n\u001b[1;32m    812\u001b[0m     y \u001b[38;5;241m=\u001b[39m np\u001b[38;5;241m.\u001b[39margmax(\u001b[38;5;28mself\u001b[39m\u001b[38;5;241m.\u001b[39mdecision_function(X), axis\u001b[38;5;241m=\u001b[39m\u001b[38;5;241m1\u001b[39m)\n\u001b[1;32m    813\u001b[0m \u001b[38;5;28;01melse\u001b[39;00m:\n\u001b[0;32m--> 814\u001b[0m     y \u001b[38;5;241m=\u001b[39m \u001b[38;5;28;43msuper\u001b[39;49m\u001b[43m(\u001b[49m\u001b[43m)\u001b[49m\u001b[38;5;241;43m.\u001b[39;49m\u001b[43mpredict\u001b[49m\u001b[43m(\u001b[49m\u001b[43mX\u001b[49m\u001b[43m)\u001b[49m\n\u001b[1;32m    815\u001b[0m \u001b[38;5;28;01mreturn\u001b[39;00m \u001b[38;5;28mself\u001b[39m\u001b[38;5;241m.\u001b[39mclasses_\u001b[38;5;241m.\u001b[39mtake(np\u001b[38;5;241m.\u001b[39masarray(y, dtype\u001b[38;5;241m=\u001b[39mnp\u001b[38;5;241m.\u001b[39mintp))\n",
      "File \u001b[0;32m~/.local/lib/python3.10/site-packages/sklearn/svm/_base.py:429\u001b[0m, in \u001b[0;36mBaseLibSVM.predict\u001b[0;34m(self, X)\u001b[0m\n\u001b[1;32m    413\u001b[0m \u001b[38;5;28;01mdef\u001b[39;00m \u001b[38;5;21mpredict\u001b[39m(\u001b[38;5;28mself\u001b[39m, X):\n\u001b[1;32m    414\u001b[0m \u001b[38;5;250m    \u001b[39m\u001b[38;5;124;03m\"\"\"Perform regression on samples in X.\u001b[39;00m\n\u001b[1;32m    415\u001b[0m \n\u001b[1;32m    416\u001b[0m \u001b[38;5;124;03m    For an one-class model, +1 (inlier) or -1 (outlier) is returned.\u001b[39;00m\n\u001b[0;32m   (...)\u001b[0m\n\u001b[1;32m    427\u001b[0m \u001b[38;5;124;03m        The predicted values.\u001b[39;00m\n\u001b[1;32m    428\u001b[0m \u001b[38;5;124;03m    \"\"\"\u001b[39;00m\n\u001b[0;32m--> 429\u001b[0m     X \u001b[38;5;241m=\u001b[39m \u001b[38;5;28;43mself\u001b[39;49m\u001b[38;5;241;43m.\u001b[39;49m\u001b[43m_validate_for_predict\u001b[49m\u001b[43m(\u001b[49m\u001b[43mX\u001b[49m\u001b[43m)\u001b[49m\n\u001b[1;32m    430\u001b[0m     predict \u001b[38;5;241m=\u001b[39m \u001b[38;5;28mself\u001b[39m\u001b[38;5;241m.\u001b[39m_sparse_predict \u001b[38;5;28;01mif\u001b[39;00m \u001b[38;5;28mself\u001b[39m\u001b[38;5;241m.\u001b[39m_sparse \u001b[38;5;28;01melse\u001b[39;00m \u001b[38;5;28mself\u001b[39m\u001b[38;5;241m.\u001b[39m_dense_predict\n\u001b[1;32m    431\u001b[0m     \u001b[38;5;28;01mreturn\u001b[39;00m predict(X)\n",
      "File \u001b[0;32m~/.local/lib/python3.10/site-packages/sklearn/svm/_base.py:607\u001b[0m, in \u001b[0;36mBaseLibSVM._validate_for_predict\u001b[0;34m(self, X)\u001b[0m\n\u001b[1;32m    604\u001b[0m check_is_fitted(\u001b[38;5;28mself\u001b[39m)\n\u001b[1;32m    606\u001b[0m \u001b[38;5;28;01mif\u001b[39;00m \u001b[38;5;129;01mnot\u001b[39;00m \u001b[38;5;28mcallable\u001b[39m(\u001b[38;5;28mself\u001b[39m\u001b[38;5;241m.\u001b[39mkernel):\n\u001b[0;32m--> 607\u001b[0m     X \u001b[38;5;241m=\u001b[39m \u001b[38;5;28;43mself\u001b[39;49m\u001b[38;5;241;43m.\u001b[39;49m\u001b[43m_validate_data\u001b[49m\u001b[43m(\u001b[49m\n\u001b[1;32m    608\u001b[0m \u001b[43m        \u001b[49m\u001b[43mX\u001b[49m\u001b[43m,\u001b[49m\n\u001b[1;32m    609\u001b[0m \u001b[43m        \u001b[49m\u001b[43maccept_sparse\u001b[49m\u001b[38;5;241;43m=\u001b[39;49m\u001b[38;5;124;43m\"\u001b[39;49m\u001b[38;5;124;43mcsr\u001b[39;49m\u001b[38;5;124;43m\"\u001b[39;49m\u001b[43m,\u001b[49m\n\u001b[1;32m    610\u001b[0m \u001b[43m        \u001b[49m\u001b[43mdtype\u001b[49m\u001b[38;5;241;43m=\u001b[39;49m\u001b[43mnp\u001b[49m\u001b[38;5;241;43m.\u001b[39;49m\u001b[43mfloat64\u001b[49m\u001b[43m,\u001b[49m\n\u001b[1;32m    611\u001b[0m \u001b[43m        \u001b[49m\u001b[43morder\u001b[49m\u001b[38;5;241;43m=\u001b[39;49m\u001b[38;5;124;43m\"\u001b[39;49m\u001b[38;5;124;43mC\u001b[39;49m\u001b[38;5;124;43m\"\u001b[39;49m\u001b[43m,\u001b[49m\n\u001b[1;32m    612\u001b[0m \u001b[43m        \u001b[49m\u001b[43maccept_large_sparse\u001b[49m\u001b[38;5;241;43m=\u001b[39;49m\u001b[38;5;28;43;01mFalse\u001b[39;49;00m\u001b[43m,\u001b[49m\n\u001b[1;32m    613\u001b[0m \u001b[43m        \u001b[49m\u001b[43mreset\u001b[49m\u001b[38;5;241;43m=\u001b[39;49m\u001b[38;5;28;43;01mFalse\u001b[39;49;00m\u001b[43m,\u001b[49m\n\u001b[1;32m    614\u001b[0m \u001b[43m    \u001b[49m\u001b[43m)\u001b[49m\n\u001b[1;32m    616\u001b[0m \u001b[38;5;28;01mif\u001b[39;00m \u001b[38;5;28mself\u001b[39m\u001b[38;5;241m.\u001b[39m_sparse \u001b[38;5;129;01mand\u001b[39;00m \u001b[38;5;129;01mnot\u001b[39;00m sp\u001b[38;5;241m.\u001b[39missparse(X):\n\u001b[1;32m    617\u001b[0m     X \u001b[38;5;241m=\u001b[39m sp\u001b[38;5;241m.\u001b[39mcsr_matrix(X)\n",
      "File \u001b[0;32m~/.local/lib/python3.10/site-packages/sklearn/base.py:633\u001b[0m, in \u001b[0;36mBaseEstimator._validate_data\u001b[0;34m(self, X, y, reset, validate_separately, cast_to_ndarray, **check_params)\u001b[0m\n\u001b[1;32m    631\u001b[0m         out \u001b[38;5;241m=\u001b[39m X, y\n\u001b[1;32m    632\u001b[0m \u001b[38;5;28;01melif\u001b[39;00m \u001b[38;5;129;01mnot\u001b[39;00m no_val_X \u001b[38;5;129;01mand\u001b[39;00m no_val_y:\n\u001b[0;32m--> 633\u001b[0m     out \u001b[38;5;241m=\u001b[39m \u001b[43mcheck_array\u001b[49m\u001b[43m(\u001b[49m\u001b[43mX\u001b[49m\u001b[43m,\u001b[49m\u001b[43m \u001b[49m\u001b[43minput_name\u001b[49m\u001b[38;5;241;43m=\u001b[39;49m\u001b[38;5;124;43m\"\u001b[39;49m\u001b[38;5;124;43mX\u001b[39;49m\u001b[38;5;124;43m\"\u001b[39;49m\u001b[43m,\u001b[49m\u001b[43m \u001b[49m\u001b[38;5;241;43m*\u001b[39;49m\u001b[38;5;241;43m*\u001b[39;49m\u001b[43mcheck_params\u001b[49m\u001b[43m)\u001b[49m\n\u001b[1;32m    634\u001b[0m \u001b[38;5;28;01melif\u001b[39;00m no_val_X \u001b[38;5;129;01mand\u001b[39;00m \u001b[38;5;129;01mnot\u001b[39;00m no_val_y:\n\u001b[1;32m    635\u001b[0m     out \u001b[38;5;241m=\u001b[39m _check_y(y, \u001b[38;5;241m*\u001b[39m\u001b[38;5;241m*\u001b[39mcheck_params)\n",
      "File \u001b[0;32m~/.local/lib/python3.10/site-packages/sklearn/utils/validation.py:989\u001b[0m, in \u001b[0;36mcheck_array\u001b[0;34m(array, accept_sparse, accept_large_sparse, dtype, order, copy, force_all_finite, ensure_2d, allow_nd, ensure_min_samples, ensure_min_features, estimator, input_name)\u001b[0m\n\u001b[1;32m    982\u001b[0m         \u001b[38;5;28;01melse\u001b[39;00m:\n\u001b[1;32m    983\u001b[0m             msg \u001b[38;5;241m=\u001b[39m (\n\u001b[1;32m    984\u001b[0m                 \u001b[38;5;124mf\u001b[39m\u001b[38;5;124m\"\u001b[39m\u001b[38;5;124mExpected 2D array, got 1D array instead:\u001b[39m\u001b[38;5;130;01m\\n\u001b[39;00m\u001b[38;5;124marray=\u001b[39m\u001b[38;5;132;01m{\u001b[39;00marray\u001b[38;5;132;01m}\u001b[39;00m\u001b[38;5;124m.\u001b[39m\u001b[38;5;130;01m\\n\u001b[39;00m\u001b[38;5;124m\"\u001b[39m\n\u001b[1;32m    985\u001b[0m                 \u001b[38;5;124m\"\u001b[39m\u001b[38;5;124mReshape your data either using array.reshape(-1, 1) if \u001b[39m\u001b[38;5;124m\"\u001b[39m\n\u001b[1;32m    986\u001b[0m                 \u001b[38;5;124m\"\u001b[39m\u001b[38;5;124myour data has a single feature or array.reshape(1, -1) \u001b[39m\u001b[38;5;124m\"\u001b[39m\n\u001b[1;32m    987\u001b[0m                 \u001b[38;5;124m\"\u001b[39m\u001b[38;5;124mif it contains a single sample.\u001b[39m\u001b[38;5;124m\"\u001b[39m\n\u001b[1;32m    988\u001b[0m             )\n\u001b[0;32m--> 989\u001b[0m         \u001b[38;5;28;01mraise\u001b[39;00m \u001b[38;5;167;01mValueError\u001b[39;00m(msg)\n\u001b[1;32m    991\u001b[0m \u001b[38;5;28;01mif\u001b[39;00m dtype_numeric \u001b[38;5;129;01mand\u001b[39;00m \u001b[38;5;28mhasattr\u001b[39m(array\u001b[38;5;241m.\u001b[39mdtype, \u001b[38;5;124m\"\u001b[39m\u001b[38;5;124mkind\u001b[39m\u001b[38;5;124m\"\u001b[39m) \u001b[38;5;129;01mand\u001b[39;00m array\u001b[38;5;241m.\u001b[39mdtype\u001b[38;5;241m.\u001b[39mkind \u001b[38;5;129;01min\u001b[39;00m \u001b[38;5;124m\"\u001b[39m\u001b[38;5;124mUSV\u001b[39m\u001b[38;5;124m\"\u001b[39m:\n\u001b[1;32m    992\u001b[0m     \u001b[38;5;28;01mraise\u001b[39;00m \u001b[38;5;167;01mValueError\u001b[39;00m(\n\u001b[1;32m    993\u001b[0m         \u001b[38;5;124m\"\u001b[39m\u001b[38;5;124mdtype=\u001b[39m\u001b[38;5;124m'\u001b[39m\u001b[38;5;124mnumeric\u001b[39m\u001b[38;5;124m'\u001b[39m\u001b[38;5;124m is not compatible with arrays of bytes/strings.\u001b[39m\u001b[38;5;124m\"\u001b[39m\n\u001b[1;32m    994\u001b[0m         \u001b[38;5;124m\"\u001b[39m\u001b[38;5;124mConvert your data to numeric values explicitly instead.\u001b[39m\u001b[38;5;124m\"\u001b[39m\n\u001b[1;32m    995\u001b[0m     )\n",
      "\u001b[0;31mValueError\u001b[0m: Expected a 2-dimensional container but got <class 'pandas.core.series.Series'> instead. Pass a DataFrame containing a single row (i.e. single sample) or a single column (i.e. single feature) instead."
     ]
    }
   ],
   "source": [
    "train_and_evaluate_svm(features, reviews_df['label'], features, reviews_df['label'])"
   ]
  },
  {
   "cell_type": "code",
   "execution_count": null,
   "id": "e74daa46",
   "metadata": {},
   "outputs": [
    {
     "name": "stdout",
     "output_type": "stream",
     "text": [
      "Fitting 5 folds for each of 16 candidates, totalling 80 fits\n",
      "Best parameters: {'C': 100, 'gamma': 'auto', 'kernel': 'rbf'}\n",
      "Accuracy: 1.0\n",
      "Classification Report:\n",
      "               precision    recall  f1-score   support\n",
      "\n",
      "           0       1.00      1.00      1.00       301\n",
      "           1       1.00      1.00      1.00       301\n",
      "\n",
      "    accuracy                           1.00       602\n",
      "   macro avg       1.00      1.00      1.00       602\n",
      "weighted avg       1.00      1.00      1.00       602\n",
      "\n"
     ]
    }
   ],
   "source": [
    "train_and_evaluate_svm(features_count, reviews_df['label'], features_count, reviews_df['label'])"
   ]
  },
  {
   "cell_type": "markdown",
   "id": "9d1eedc1",
   "metadata": {},
   "source": [
    "### 3. Random Forest"
   ]
  },
  {
   "cell_type": "code",
   "execution_count": null,
   "id": "f5ccd2b1",
   "metadata": {},
   "outputs": [],
   "source": [
    "from sklearn.ensemble import RandomForestClassifier"
   ]
  },
  {
   "cell_type": "code",
   "execution_count": null,
   "id": "c016a6bd",
   "metadata": {},
   "outputs": [],
   "source": [
    "def train_and_evaluate_rf(features, labels):\n",
    "\tX_train, X_test, y_train, y_test = train_test_split(features, labels, test_size=0.25, random_state=42)\n",
    "\tmodel = RandomForestClassifier(n_estimators=100, random_state=42)\n",
    "\tmodel.fit(X_train, y_train)\n",
    "\ty_pred = model.predict(X_test)\n",
    "\tprint(\"Accuracy:\", accuracy_score(y_test, y_pred))\n",
    "\tprint(\"Classification Report:\\n\", classification_report(y_test, y_pred))"
   ]
  },
  {
   "cell_type": "code",
   "execution_count": null,
   "id": "3f5e0366",
   "metadata": {},
   "outputs": [
    {
     "name": "stdout",
     "output_type": "stream",
     "text": [
      "Accuracy: 0.7549668874172185\n",
      "Classification Report:\n",
      "               precision    recall  f1-score   support\n",
      "\n",
      "           0       0.70      0.81      0.75        68\n",
      "           1       0.82      0.71      0.76        83\n",
      "\n",
      "    accuracy                           0.75       151\n",
      "   macro avg       0.76      0.76      0.75       151\n",
      "weighted avg       0.76      0.75      0.76       151\n",
      "\n"
     ]
    }
   ],
   "source": [
    "train_and_evaluate_rf(features, reviews_df['label'])"
   ]
  },
  {
   "cell_type": "code",
   "execution_count": null,
   "id": "2816870d",
   "metadata": {},
   "outputs": [
    {
     "name": "stdout",
     "output_type": "stream",
     "text": [
      "Accuracy: 0.7549668874172185\n",
      "Classification Report:\n",
      "               precision    recall  f1-score   support\n",
      "\n",
      "           0       0.68      0.87      0.76        68\n",
      "           1       0.86      0.66      0.75        83\n",
      "\n",
      "    accuracy                           0.75       151\n",
      "   macro avg       0.77      0.77      0.75       151\n",
      "weighted avg       0.78      0.75      0.75       151\n",
      "\n"
     ]
    }
   ],
   "source": [
    "train_and_evaluate_rf(features_count, reviews_df['label'])"
   ]
  },
  {
   "cell_type": "markdown",
   "id": "136eef3b",
   "metadata": {},
   "source": [
    "### 4. Naive Bayes"
   ]
  },
  {
   "cell_type": "code",
   "execution_count": null,
   "id": "d91951a4",
   "metadata": {},
   "outputs": [],
   "source": [
    "from sklearn.naive_bayes import MultinomialNB"
   ]
  },
  {
   "cell_type": "code",
   "execution_count": null,
   "id": "d21592da",
   "metadata": {},
   "outputs": [],
   "source": [
    "def train_and_evaluate_nb(features, labels):\n",
    "\tX_train, X_test, y_train, y_test = train_test_split(features, labels, test_size=0.25, random_state=42)\n",
    "\tmodel = MultinomialNB()\n",
    "\tmodel.fit(X_train, y_train)\n",
    "\ty_pred = model.predict(X_test)\n",
    "\tprint(\"Accuracy:\", accuracy_score(y_test, y_pred))\n",
    "\tprint(\"Classification Report:\\n\", classification_report(y_test, y_pred))"
   ]
  },
  {
   "cell_type": "code",
   "execution_count": null,
   "id": "a93cd680",
   "metadata": {},
   "outputs": [
    {
     "name": "stdout",
     "output_type": "stream",
     "text": [
      "Accuracy: 0.8145695364238411\n",
      "Classification Report:\n",
      "               precision    recall  f1-score   support\n",
      "\n",
      "           0       0.74      0.91      0.82        68\n",
      "           1       0.91      0.73      0.81        83\n",
      "\n",
      "    accuracy                           0.81       151\n",
      "   macro avg       0.82      0.82      0.81       151\n",
      "weighted avg       0.83      0.81      0.81       151\n",
      "\n"
     ]
    }
   ],
   "source": [
    "train_and_evaluate_nb(features, reviews_df['label'])"
   ]
  },
  {
   "cell_type": "code",
   "execution_count": null,
   "id": "43baf8d8",
   "metadata": {},
   "outputs": [
    {
     "name": "stdout",
     "output_type": "stream",
     "text": [
      "Accuracy: 0.8410596026490066\n",
      "Classification Report:\n",
      "               precision    recall  f1-score   support\n",
      "\n",
      "           0       0.78      0.91      0.84        68\n",
      "           1       0.92      0.78      0.84        83\n",
      "\n",
      "    accuracy                           0.84       151\n",
      "   macro avg       0.85      0.85      0.84       151\n",
      "weighted avg       0.85      0.84      0.84       151\n",
      "\n"
     ]
    }
   ],
   "source": [
    "train_and_evaluate_nb(features_count, reviews_df['label'])"
   ]
  },
  {
   "cell_type": "markdown",
   "id": "3bf8439b",
   "metadata": {},
   "source": [
    "### 5. Decision Tree"
   ]
  },
  {
   "cell_type": "code",
   "execution_count": null,
   "id": "b9425afd",
   "metadata": {},
   "outputs": [],
   "source": [
    "from sklearn.tree import DecisionTreeClassifier"
   ]
  },
  {
   "cell_type": "code",
   "execution_count": null,
   "id": "c2140ff0",
   "metadata": {},
   "outputs": [],
   "source": [
    "def train_and_evaluate_dt(features, labels):\n",
    "\tX_train, X_test, y_train, y_test = train_test_split(features, labels, test_size=0.25, random_state=42)\n",
    "\tmodel = DecisionTreeClassifier(random_state=42)\n",
    "\tmodel.fit(X_train, y_train)\n",
    "\ty_pred = model.predict(X_test)\n",
    "\tprint(\"Accuracy:\", accuracy_score(y_test, y_pred))\n",
    "\tprint(\"Classification Report:\\n\", classification_report(y_test, y_pred))"
   ]
  },
  {
   "cell_type": "code",
   "execution_count": null,
   "id": "863bee4e",
   "metadata": {},
   "outputs": [
    {
     "name": "stdout",
     "output_type": "stream",
     "text": [
      "Accuracy: 0.6622516556291391\n",
      "Classification Report:\n",
      "               precision    recall  f1-score   support\n",
      "\n",
      "           0       0.62      0.66      0.64        68\n",
      "           1       0.71      0.66      0.68        83\n",
      "\n",
      "    accuracy                           0.66       151\n",
      "   macro avg       0.66      0.66      0.66       151\n",
      "weighted avg       0.67      0.66      0.66       151\n",
      "\n"
     ]
    }
   ],
   "source": [
    "train_and_evaluate_dt(features, reviews_df['label'])"
   ]
  },
  {
   "cell_type": "code",
   "execution_count": null,
   "id": "04f5c11a",
   "metadata": {},
   "outputs": [
    {
     "name": "stdout",
     "output_type": "stream",
     "text": [
      "Accuracy: 0.6291390728476821\n",
      "Classification Report:\n",
      "               precision    recall  f1-score   support\n",
      "\n",
      "           0       0.58      0.63      0.61        68\n",
      "           1       0.68      0.63      0.65        83\n",
      "\n",
      "    accuracy                           0.63       151\n",
      "   macro avg       0.63      0.63      0.63       151\n",
      "weighted avg       0.63      0.63      0.63       151\n",
      "\n"
     ]
    }
   ],
   "source": [
    "train_and_evaluate_dt(features_count, reviews_df['label'])"
   ]
  },
  {
   "cell_type": "markdown",
   "id": "5e564e79",
   "metadata": {},
   "source": [
    "### 6. K-Nearest Neighbors"
   ]
  },
  {
   "cell_type": "code",
   "execution_count": null,
   "id": "f0013580",
   "metadata": {},
   "outputs": [],
   "source": [
    "from sklearn.neighbors import KNeighborsClassifier"
   ]
  },
  {
   "cell_type": "code",
   "execution_count": null,
   "id": "bba190b3",
   "metadata": {},
   "outputs": [],
   "source": [
    "def train_and_evaluate_knn(features, labels):\n",
    "\tX_train, X_test, y_train, y_test = train_test_split(features, labels, test_size=0.25, random_state=42)\n",
    "\tmodel = KNeighborsClassifier()\n",
    "\tmodel.fit(X_train, y_train)\n",
    "\ty_pred = model.predict(X_test)\n",
    "\tprint(\"Accuracy:\", accuracy_score(y_test, y_pred))\n",
    "\tprint(\"Classification Report:\\n\", classification_report(y_test, y_pred))"
   ]
  },
  {
   "cell_type": "code",
   "execution_count": null,
   "id": "45967466",
   "metadata": {},
   "outputs": [
    {
     "name": "stdout",
     "output_type": "stream",
     "text": [
      "Accuracy: 0.8675496688741722\n",
      "Classification Report:\n",
      "               precision    recall  f1-score   support\n",
      "\n",
      "           0       0.85      0.85      0.85        68\n",
      "           1       0.88      0.88      0.88        83\n",
      "\n",
      "    accuracy                           0.87       151\n",
      "   macro avg       0.87      0.87      0.87       151\n",
      "weighted avg       0.87      0.87      0.87       151\n",
      "\n"
     ]
    }
   ],
   "source": [
    "train_and_evaluate_knn(features, reviews_df['label'])"
   ]
  },
  {
   "cell_type": "code",
   "execution_count": null,
   "id": "9fde0582",
   "metadata": {},
   "outputs": [
    {
     "name": "stdout",
     "output_type": "stream",
     "text": [
      "Accuracy: 0.6291390728476821\n",
      "Classification Report:\n",
      "               precision    recall  f1-score   support\n",
      "\n",
      "           0       0.60      0.53      0.56        68\n",
      "           1       0.65      0.71      0.68        83\n",
      "\n",
      "    accuracy                           0.63       151\n",
      "   macro avg       0.62      0.62      0.62       151\n",
      "weighted avg       0.63      0.63      0.63       151\n",
      "\n"
     ]
    }
   ],
   "source": [
    "train_and_evaluate_knn(features_count, reviews_df['label'])"
   ]
  },
  {
   "cell_type": "markdown",
   "id": "b0a58446",
   "metadata": {},
   "source": [
    "### 7. XGBoost"
   ]
  },
  {
   "cell_type": "code",
   "execution_count": null,
   "id": "36519b6e",
   "metadata": {},
   "outputs": [],
   "source": [
    "from xgboost import XGBClassifier"
   ]
  },
  {
   "cell_type": "code",
   "execution_count": null,
   "id": "995c1f5b",
   "metadata": {},
   "outputs": [],
   "source": [
    "def train_and_evaluate_xgb(features, labels):\n",
    "\tX_train, X_test, y_train, y_test = train_test_split(features, labels, test_size=0.25, random_state=42)\n",
    "\tmodel = XGBClassifier()\n",
    "\tmodel.fit(X_train, y_train)\n",
    "\ty_pred = model.predict(X_test)\n",
    "\tprint(\"Accuracy:\", accuracy_score(y_test, y_pred))\n",
    "\tprint(\"Classification Report:\\n\", classification_report(y_test, y_pred))"
   ]
  },
  {
   "cell_type": "code",
   "execution_count": null,
   "id": "3e795a2d",
   "metadata": {},
   "outputs": [
    {
     "name": "stdout",
     "output_type": "stream",
     "text": [
      "Accuracy: 0.7417218543046358\n",
      "Classification Report:\n",
      "               precision    recall  f1-score   support\n",
      "\n",
      "           0       0.71      0.72      0.72        68\n",
      "           1       0.77      0.76      0.76        83\n",
      "\n",
      "    accuracy                           0.74       151\n",
      "   macro avg       0.74      0.74      0.74       151\n",
      "weighted avg       0.74      0.74      0.74       151\n",
      "\n"
     ]
    }
   ],
   "source": [
    "train_and_evaluate_xgb(features, reviews_df['label'])"
   ]
  },
  {
   "cell_type": "code",
   "execution_count": null,
   "id": "50b11a0a",
   "metadata": {},
   "outputs": [
    {
     "name": "stdout",
     "output_type": "stream",
     "text": [
      "Accuracy: 0.7483443708609272\n",
      "Classification Report:\n",
      "               precision    recall  f1-score   support\n",
      "\n",
      "           0       0.70      0.76      0.73        68\n",
      "           1       0.79      0.73      0.76        83\n",
      "\n",
      "    accuracy                           0.75       151\n",
      "   macro avg       0.75      0.75      0.75       151\n",
      "weighted avg       0.75      0.75      0.75       151\n",
      "\n"
     ]
    }
   ],
   "source": [
    "train_and_evaluate_xgb(features_count, reviews_df['label'])"
   ]
  },
  {
   "cell_type": "markdown",
   "id": "bd4d686f",
   "metadata": {},
   "source": [
    "## Evaluation"
   ]
  },
  {
   "cell_type": "code",
   "execution_count": null,
   "id": "e99d5bb3",
   "metadata": {},
   "outputs": [],
   "source": [
    "comparison_data = {\n",
    "    \"Model\": [],\n",
    "    \"Vectorization\": [],\n",
    "    \"Accuracy\": [],\n",
    "    \"Precision (macro)\": [],\n",
    "    \"Recall (macro)\": [],\n",
    "    \"F1-score (macro)\": [],\n",
    "}"
   ]
  },
  {
   "cell_type": "code",
   "execution_count": null,
   "id": "0291ada4",
   "metadata": {},
   "outputs": [],
   "source": [
    "def add_to_comparison(model_name, vectorization, accuracy, report):\n",
    "\t\"\"\"Add data to the comparison table.\"\"\"\n",
    "\tcomparison_data[\"Model\"].append(model_name)\n",
    "\tcomparison_data[\"Vectorization\"].append(vectorization)\n",
    "\tcomparison_data[\"Accuracy\"].append(accuracy)\n",
    "\tcomparison_data[\"Precision (macro)\"].append(report[\"macro avg\"][\"precision\"])\n",
    "\tcomparison_data[\"Recall (macro)\"].append(report[\"macro avg\"][\"recall\"])\n",
    "\tcomparison_data[\"F1-score (macro)\"].append(report[\"macro avg\"][\"f1-score\"])"
   ]
  },
  {
   "cell_type": "code",
   "execution_count": null,
   "id": "44d908c6",
   "metadata": {},
   "outputs": [],
   "source": [
    "def run_and_add_to_comparison(features, labels, model_name, model, vectorization_type):\n",
    "\t\"\"\"Run the model and add it to the comparison table.\"\"\"\n",
    "\tX_train, X_test, y_train, y_test = train_test_split(features, labels, test_size=0.25, random_state=42)\n",
    "\tmodel.fit(X_train, y_train)\n",
    "\ty_pred = model.predict(X_test)\n",
    "\taccuracy = accuracy_score(y_test, y_pred)\n",
    "\treport = classification_report(y_test, y_pred, output_dict=True)\n",
    "\tadd_to_comparison(model_name, vectorization_type, accuracy, report)"
   ]
  },
  {
   "cell_type": "code",
   "execution_count": null,
   "id": "a16f7dbd",
   "metadata": {},
   "outputs": [],
   "source": [
    "run_and_add_to_comparison(features, reviews_df['label'], \"Logistic Regression\", LogisticRegression(random_state=42), \"TF-IDF\")\n",
    "run_and_add_to_comparison(features_count, reviews_df['label'], \"Logistic Regression\", LogisticRegression(random_state=42), \"Count\")\n",
    "\n",
    "run_and_add_to_comparison(features, reviews_df['label'], \"Random Forest\", RandomForestClassifier(n_estimators=100, random_state=42), \"TF-IDF\")\n",
    "run_and_add_to_comparison(features_count, reviews_df['label'], \"Random Forest\", RandomForestClassifier(n_estimators=100, random_state=42), \"Count\")\n",
    "\n",
    "run_and_add_to_comparison(features, reviews_df['label'], \"Naive Bayes\", MultinomialNB(), \"TF-IDF\")\n",
    "run_and_add_to_comparison(features_count, reviews_df['label'], \"Naive Bayes\", MultinomialNB(), \"Count\")\n",
    "\n",
    "run_and_add_to_comparison(features, reviews_df['label'], \"SVM\", SVC(), \"TF-IDF\")\n",
    "run_and_add_to_comparison(features_count, reviews_df['label'], \"SVM\", SVC(), \"Count\")\n",
    "\n",
    "run_and_add_to_comparison(features, reviews_df['label'], \"Decision Tree\", DecisionTreeClassifier(random_state=42), \"TF-IDF\")\n",
    "run_and_add_to_comparison(features_count, reviews_df['label'], \"Decision Tree\", DecisionTreeClassifier(random_state=42), \"Count\")\n",
    "\n",
    "run_and_add_to_comparison(features, reviews_df['label'], \"KNN\", KNeighborsClassifier(), \"TF-IDF\")\n",
    "run_and_add_to_comparison(features_count, reviews_df['label'], \"KNN\", KNeighborsClassifier(), \"Count\")\n",
    "\n",
    "run_and_add_to_comparison(features, reviews_df['label'], \"XGBoost\", XGBClassifier(), \"TF-IDF\")\n",
    "run_and_add_to_comparison(features_count, reviews_df['label'], \"XGBoost\", XGBClassifier(), \"Count\")"
   ]
  },
  {
   "cell_type": "code",
   "execution_count": null,
   "id": "399b99cd",
   "metadata": {},
   "outputs": [
    {
     "data": {
      "text/html": [
       "<div>\n",
       "<style scoped>\n",
       "    .dataframe tbody tr th:only-of-type {\n",
       "        vertical-align: middle;\n",
       "    }\n",
       "\n",
       "    .dataframe tbody tr th {\n",
       "        vertical-align: top;\n",
       "    }\n",
       "\n",
       "    .dataframe thead th {\n",
       "        text-align: right;\n",
       "    }\n",
       "</style>\n",
       "<table border=\"1\" class=\"dataframe\">\n",
       "  <thead>\n",
       "    <tr style=\"text-align: right;\">\n",
       "      <th></th>\n",
       "      <th>Model</th>\n",
       "      <th>Vectorization</th>\n",
       "      <th>Accuracy</th>\n",
       "      <th>Precision (macro)</th>\n",
       "      <th>Recall (macro)</th>\n",
       "      <th>F1-score (macro)</th>\n",
       "    </tr>\n",
       "  </thead>\n",
       "  <tbody>\n",
       "    <tr>\n",
       "      <th>0</th>\n",
       "      <td>Logistic Regression</td>\n",
       "      <td>TF-IDF</td>\n",
       "      <td>0.854305</td>\n",
       "      <td>0.853457</td>\n",
       "      <td>0.856839</td>\n",
       "      <td>0.853785</td>\n",
       "    </tr>\n",
       "    <tr>\n",
       "      <th>1</th>\n",
       "      <td>Logistic Regression</td>\n",
       "      <td>Count</td>\n",
       "      <td>0.807947</td>\n",
       "      <td>0.806237</td>\n",
       "      <td>0.805369</td>\n",
       "      <td>0.805766</td>\n",
       "    </tr>\n",
       "    <tr>\n",
       "      <th>2</th>\n",
       "      <td>Random Forest</td>\n",
       "      <td>TF-IDF</td>\n",
       "      <td>0.754967</td>\n",
       "      <td>0.757823</td>\n",
       "      <td>0.759833</td>\n",
       "      <td>0.754795</td>\n",
       "    </tr>\n",
       "    <tr>\n",
       "      <th>3</th>\n",
       "      <td>Random Forest</td>\n",
       "      <td>Count</td>\n",
       "      <td>0.754967</td>\n",
       "      <td>0.768768</td>\n",
       "      <td>0.765149</td>\n",
       "      <td>0.754795</td>\n",
       "    </tr>\n",
       "    <tr>\n",
       "      <th>4</th>\n",
       "      <td>Naive Bayes</td>\n",
       "      <td>TF-IDF</td>\n",
       "      <td>0.814570</td>\n",
       "      <td>0.824271</td>\n",
       "      <td>0.823352</td>\n",
       "      <td>0.814561</td>\n",
       "    </tr>\n",
       "    <tr>\n",
       "      <th>5</th>\n",
       "      <td>Naive Bayes</td>\n",
       "      <td>Count</td>\n",
       "      <td>0.841060</td>\n",
       "      <td>0.845246</td>\n",
       "      <td>0.847449</td>\n",
       "      <td>0.840997</td>\n",
       "    </tr>\n",
       "    <tr>\n",
       "      <th>6</th>\n",
       "      <td>SVM</td>\n",
       "      <td>TF-IDF</td>\n",
       "      <td>0.854305</td>\n",
       "      <td>0.856340</td>\n",
       "      <td>0.859497</td>\n",
       "      <td>0.854145</td>\n",
       "    </tr>\n",
       "    <tr>\n",
       "      <th>7</th>\n",
       "      <td>SVM</td>\n",
       "      <td>Count</td>\n",
       "      <td>0.761589</td>\n",
       "      <td>0.762454</td>\n",
       "      <td>0.753898</td>\n",
       "      <td>0.755927</td>\n",
       "    </tr>\n",
       "    <tr>\n",
       "      <th>8</th>\n",
       "      <td>Decision Tree</td>\n",
       "      <td>TF-IDF</td>\n",
       "      <td>0.662252</td>\n",
       "      <td>0.660783</td>\n",
       "      <td>0.662208</td>\n",
       "      <td>0.660764</td>\n",
       "    </tr>\n",
       "    <tr>\n",
       "      <th>9</th>\n",
       "      <td>Decision Tree</td>\n",
       "      <td>Count</td>\n",
       "      <td>0.629139</td>\n",
       "      <td>0.628203</td>\n",
       "      <td>0.629429</td>\n",
       "      <td>0.627817</td>\n",
       "    </tr>\n",
       "    <tr>\n",
       "      <th>10</th>\n",
       "      <td>KNN</td>\n",
       "      <td>TF-IDF</td>\n",
       "      <td>0.867550</td>\n",
       "      <td>0.866230</td>\n",
       "      <td>0.866230</td>\n",
       "      <td>0.866230</td>\n",
       "    </tr>\n",
       "    <tr>\n",
       "      <th>11</th>\n",
       "      <td>KNN</td>\n",
       "      <td>Count</td>\n",
       "      <td>0.629139</td>\n",
       "      <td>0.624176</td>\n",
       "      <td>0.620128</td>\n",
       "      <td>0.620330</td>\n",
       "    </tr>\n",
       "    <tr>\n",
       "      <th>12</th>\n",
       "      <td>XGBoost</td>\n",
       "      <td>TF-IDF</td>\n",
       "      <td>0.741722</td>\n",
       "      <td>0.739219</td>\n",
       "      <td>0.739812</td>\n",
       "      <td>0.739482</td>\n",
       "    </tr>\n",
       "    <tr>\n",
       "      <th>13</th>\n",
       "      <td>XGBoost</td>\n",
       "      <td>Count</td>\n",
       "      <td>0.748344</td>\n",
       "      <td>0.747455</td>\n",
       "      <td>0.749823</td>\n",
       "      <td>0.747447</td>\n",
       "    </tr>\n",
       "  </tbody>\n",
       "</table>\n",
       "</div>"
      ],
      "text/plain": [
       "                  Model Vectorization  Accuracy  Precision (macro)  \\\n",
       "0   Logistic Regression        TF-IDF  0.854305           0.853457   \n",
       "1   Logistic Regression         Count  0.807947           0.806237   \n",
       "2         Random Forest        TF-IDF  0.754967           0.757823   \n",
       "3         Random Forest         Count  0.754967           0.768768   \n",
       "4           Naive Bayes        TF-IDF  0.814570           0.824271   \n",
       "5           Naive Bayes         Count  0.841060           0.845246   \n",
       "6                   SVM        TF-IDF  0.854305           0.856340   \n",
       "7                   SVM         Count  0.761589           0.762454   \n",
       "8         Decision Tree        TF-IDF  0.662252           0.660783   \n",
       "9         Decision Tree         Count  0.629139           0.628203   \n",
       "10                  KNN        TF-IDF  0.867550           0.866230   \n",
       "11                  KNN         Count  0.629139           0.624176   \n",
       "12              XGBoost        TF-IDF  0.741722           0.739219   \n",
       "13              XGBoost         Count  0.748344           0.747455   \n",
       "\n",
       "    Recall (macro)  F1-score (macro)  \n",
       "0         0.856839          0.853785  \n",
       "1         0.805369          0.805766  \n",
       "2         0.759833          0.754795  \n",
       "3         0.765149          0.754795  \n",
       "4         0.823352          0.814561  \n",
       "5         0.847449          0.840997  \n",
       "6         0.859497          0.854145  \n",
       "7         0.753898          0.755927  \n",
       "8         0.662208          0.660764  \n",
       "9         0.629429          0.627817  \n",
       "10        0.866230          0.866230  \n",
       "11        0.620128          0.620330  \n",
       "12        0.739812          0.739482  \n",
       "13        0.749823          0.747447  "
      ]
     },
     "execution_count": 47,
     "metadata": {},
     "output_type": "execute_result"
    }
   ],
   "source": [
    "comparison_df = pd.DataFrame(comparison_data)\n",
    "comparison_df.head(20)"
   ]
  },
  {
   "cell_type": "code",
   "execution_count": null,
   "id": "43c9bfdb",
   "metadata": {},
   "outputs": [],
   "source": []
  }
 ],
 "metadata": {
  "kernelspec": {
   "display_name": "Python 3 (ipykernel)",
   "language": "python",
   "name": "python3"
  },
  "language_info": {
   "codemirror_mode": {
    "name": "ipython",
    "version": 3
   },
   "file_extension": ".py",
   "mimetype": "text/x-python",
   "name": "python",
   "nbconvert_exporter": "python",
   "pygments_lexer": "ipython3",
   "version": "3.10.12"
  }
 },
 "nbformat": 4,
 "nbformat_minor": 5
}
