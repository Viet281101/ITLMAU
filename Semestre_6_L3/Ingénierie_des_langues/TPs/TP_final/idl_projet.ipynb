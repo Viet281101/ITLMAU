{
 "cells": [
  {
   "cell_type": "markdown",
   "id": "50761eec-6294-4c42-8942-39ab61de2256",
   "metadata": {},
   "source": [
    "# IDL TP Final `scikit-learn` Projet"
   ]
  },
  {
   "cell_type": "markdown",
   "id": "3680d79d",
   "metadata": {},
   "source": [
    "## Charger les donnés"
   ]
  },
  {
   "cell_type": "code",
   "execution_count": 1,
   "id": "aa9e1078-0c99-4cad-a18c-dcaaa1b6862d",
   "metadata": {},
   "outputs": [],
   "source": [
    "import os\n",
    "import pandas as pd"
   ]
  },
  {
   "cell_type": "code",
   "execution_count": 2,
   "id": "99ee001d",
   "metadata": {},
   "outputs": [],
   "source": [
    "def load_reviews(data_dir):\n",
    "\treviews = []\n",
    "\tlabels = []\n",
    "\tfor label in [\"pos\", \"neg\"]:\n",
    "\t\tdirectory = os.path.join(data_dir, label)\n",
    "\t\tfor filename in os.listdir(directory):\n",
    "\t\t\tif filename.endswith(\".txt\"):\n",
    "\t\t\t\tfile_path = os.path.join(directory, filename)\n",
    "\t\t\t\twith open(file_path, 'r', encoding='utf-8') as file:\n",
    "\t\t\t\t\treviews.append(file.read())\n",
    "\t\t\t\t\tlabels.append(1 if label == \"pos\" else 0)\n",
    "\treturn reviews, labels"
   ]
  },
  {
   "cell_type": "code",
   "execution_count": 3,
   "id": "38e21e8c",
   "metadata": {},
   "outputs": [],
   "source": [
    "data_dir = 'imdb_smol'\n",
    "reviews, labels = load_reviews(data_dir)\n",
    "reviews_df = pd.DataFrame({'review': reviews, 'label': labels})"
   ]
  },
  {
   "cell_type": "code",
   "execution_count": 4,
   "id": "ab96ddae",
   "metadata": {},
   "outputs": [
    {
     "name": "stdout",
     "output_type": "stream",
     "text": [
      "                                              review  label\n",
      "0  The production quality, cast, premise, authent...      1\n",
      "1  This is no art-house film, it's mainstream ent...      1\n",
      "2  Two great comedians in a great Neil Simon movi...      1\n",
      "3  I'm a fan of TV movies in general and this was...      1\n",
      "4  Once upon a time in a castle...... Two little ...      1\n"
     ]
    }
   ],
   "source": [
    "print(reviews_df.head())"
   ]
  },
  {
   "cell_type": "code",
   "execution_count": 5,
   "id": "a6f6dc37",
   "metadata": {},
   "outputs": [
    {
     "name": "stdout",
     "output_type": "stream",
     "text": [
      "\n",
      "Nombre de notes positives: 301\n",
      "Nombre de notes négatives: 301\n"
     ]
    }
   ],
   "source": [
    "print(\"\\nNombre de notes positives:\", (reviews_df['label'] == 1).sum())\n",
    "print(\"Nombre de notes négatives:\", (reviews_df['label'] == 0).sum())"
   ]
  },
  {
   "cell_type": "code",
   "execution_count": 6,
   "id": "0f6964c0",
   "metadata": {},
   "outputs": [
    {
     "name": "stdout",
     "output_type": "stream",
     "text": [
      "\n",
      "Informations générales sur le DataFrame:\n",
      "<class 'pandas.core.frame.DataFrame'>\n",
      "RangeIndex: 602 entries, 0 to 601\n",
      "Data columns (total 2 columns):\n",
      " #   Column  Non-Null Count  Dtype \n",
      "---  ------  --------------  ----- \n",
      " 0   review  602 non-null    object\n",
      " 1   label   602 non-null    int64 \n",
      "dtypes: int64(1), object(1)\n",
      "memory usage: 9.5+ KB\n",
      "None\n"
     ]
    }
   ],
   "source": [
    "print(\"\\nInformations générales sur le DataFrame:\")\n",
    "print(reviews_df.info())"
   ]
  },
  {
   "cell_type": "code",
   "execution_count": 7,
   "id": "80d0a0c8",
   "metadata": {},
   "outputs": [
    {
     "name": "stdout",
     "output_type": "stream",
     "text": [
      "\n",
      "Index de la note de review: 591 \n",
      "Texte de la note de review:\n",
      " The perfect murder is foiled when a wife(played by Mary Ellen Trainor, once the wife to director Robert Zemeckis, who helmed this episode), who murders her husband with a poker, has the misfortune of receiving a visitor as she is about to move the body outside..an escaped insane madman dressed in a Santa Claus suit(played by a deviously hideous Larry Drake). She fends for her life while trying to find a way of hiding her husband's corpse. She decides to use an ax, once she downs the Santa killer who misses several chances to chop off the woman's head, to frame the killer for her husband's murder. Santa killer locks her in a closet and pursues the woman's daughter as she tries desperate to free herself to save the child.<br /><br />This episode of TALES FROM THE CRYPT just recycles tired material involving the old \"Santa kills\" theme while also adding the oft-used(add nauseum)woman-murders-her-husband-for-a-man-she's-been-cheating-with routine. It's essentially Trainor trying to find a way to avoid being caught with a dead body she kills while also keeping a safe distance from a maniac. There's nothing refreshing or new about this plot which pretty much goes through the motions. Not one of the show's highlights.\n",
      "Étiquette: Négative\n",
      "\n",
      "Index de la note de review: 591 \n",
      "Texte de la note de review:\n",
      " The perfect murder is foiled when a wife(played by Mary Ellen Trainor, once the wife to director Robert Zemeckis, who helmed this episode), who murders her husband with a poker, has the misfortune of receiving a visitor as she is about to move the body outside..an escaped insane madman dressed in a Santa Claus suit(played by a deviously hideous Larry Drake). She fends for her life while trying to find a way of hiding her husband's corpse. She decides to use an ax, once she downs the Santa killer who misses several chances to chop off the woman's head, to frame the killer for her husband's murder. Santa killer locks her in a closet and pursues the woman's daughter as she tries desperate to free herself to save the child.<br /><br />This episode of TALES FROM THE CRYPT just recycles tired material involving the old \"Santa kills\" theme while also adding the oft-used(add nauseum)woman-murders-her-husband-for-a-man-she's-been-cheating-with routine. It's essentially Trainor trying to find a way to avoid being caught with a dead body she kills while also keeping a safe distance from a maniac. There's nothing refreshing or new about this plot which pretty much goes through the motions. Not one of the show's highlights.\n",
      "Étiquette: Négative\n",
      "\n",
      "Index de la note de review: 281 \n",
      "Texte de la note de review:\n",
      " The Sunshine Boys is a terrific comedy about two ex-vaudevillians who reluctantly reunite for a TV special despite the fact that they despise each other.<br /><br />The comic genius of two masters at work, George Burns and Walter Matthau are stellar! Some of the best scenes are when the duo is fighting over the silliest little trivial things! The material is fast-paced and witty, appealing to all ages.<br /><br />MILD SPOILER ALERT: There are some mildly sad moments toward the end of the movie that deal indirectly with the affects of aging that gives the film a soft, sincere, tenderness that shows to this reviewer that what the pair really need the most for success, are each other.<br /><br />If anyone loves The Odd Couple, you'll adore this movie. An excellent film!\n",
      "Étiquette: Positive\n",
      "\n",
      "Index de la note de review: 281 \n",
      "Texte de la note de review:\n",
      " The Sunshine Boys is a terrific comedy about two ex-vaudevillians who reluctantly reunite for a TV special despite the fact that they despise each other.<br /><br />The comic genius of two masters at work, George Burns and Walter Matthau are stellar! Some of the best scenes are when the duo is fighting over the silliest little trivial things! The material is fast-paced and witty, appealing to all ages.<br /><br />MILD SPOILER ALERT: There are some mildly sad moments toward the end of the movie that deal indirectly with the affects of aging that gives the film a soft, sincere, tenderness that shows to this reviewer that what the pair really need the most for success, are each other.<br /><br />If anyone loves The Odd Couple, you'll adore this movie. An excellent film!\n",
      "Étiquette: Positive\n",
      "\n",
      "Index de la note de review: 279 \n",
      "Texte de la note de review:\n",
      " For a danish movie, I have to say, that this is very good movie.<br /><br />It's in a class of its own, yet it has an international potential.<br /><br />The movie has a big budget, and is starring famous danish actors, and a few newcomers, who play very well. It can be watched by anyone who like adventures, and a little bit of 'ghost' movie.<br /><br />Don't be afraid, be thrilled!\n",
      "Étiquette: Positive\n",
      "\n",
      "Index de la note de review: 279 \n",
      "Texte de la note de review:\n",
      " For a danish movie, I have to say, that this is very good movie.<br /><br />It's in a class of its own, yet it has an international potential.<br /><br />The movie has a big budget, and is starring famous danish actors, and a few newcomers, who play very well. It can be watched by anyone who like adventures, and a little bit of 'ghost' movie.<br /><br />Don't be afraid, be thrilled!\n",
      "Étiquette: Positive\n",
      "\n",
      "Index de la note de review: 98 \n",
      "Texte de la note de review:\n",
      " in one of Neil Simon's best plays. Creaky, cranky ex-Vaudeville stars played by Walter Matthau and George Burns are teaming up for a TV comedy special. The problem is they haven't even SEEN each other in over a decade. Full of zippy one liners and inside showbiz jokes, this story flies along with a steady stream of humor. Good work also by Richard Benjamin as the harried nephew, Rosetta LeNoire as the nurse, and Howard Hesseman as the TV commercial director. Steve Allen and Phyllis Diller appear as themselves. Trivia note: The opening montage contains footage from Hollywood Revue of 1929 and shows Marie Dressler, Bessie Love, Polly Moran, Cliff Edwards, Charles King, Gus Edwards, and the singing Brox Sisters.\n",
      "Étiquette: Positive\n",
      "\n",
      "Index de la note de review: 98 \n",
      "Texte de la note de review:\n",
      " in one of Neil Simon's best plays. Creaky, cranky ex-Vaudeville stars played by Walter Matthau and George Burns are teaming up for a TV comedy special. The problem is they haven't even SEEN each other in over a decade. Full of zippy one liners and inside showbiz jokes, this story flies along with a steady stream of humor. Good work also by Richard Benjamin as the harried nephew, Rosetta LeNoire as the nurse, and Howard Hesseman as the TV commercial director. Steve Allen and Phyllis Diller appear as themselves. Trivia note: The opening montage contains footage from Hollywood Revue of 1929 and shows Marie Dressler, Bessie Love, Polly Moran, Cliff Edwards, Charles King, Gus Edwards, and the singing Brox Sisters.\n",
      "Étiquette: Positive\n",
      "\n",
      "Index de la note de review: 18 \n",
      "Texte de la note de review:\n",
      " Working-class romantic drama from director Martin Ritt is as unbelievable as they come, yet there are moments of pleasure due mostly to the charisma of stars Jane Fonda and Robert De Niro (both terrific). She's a widow who can't move on, he's illiterate and a closet-inventor--you can probably guess the rest. Adaptation of Pat Barker's novel \"Union Street\" (a better title!) is so laid-back it verges on bland, and the film's editing is a mess, but it's still pleasant; a rosy-hued blue-collar fantasy. There are no overtures to serious issues (even the illiteracy angle is just a plot-tool for the ensuing love story) and no real fireworks, though the characters are intentionally a bit colorless and the leads are toned down to an interesting degree. The finale is pure fluff--and cynics will find it difficult to swallow--though these two characters deserve a happy ending and the picture wouldn't really be satisfying any other way. *** from ****\n",
      "Étiquette: Positive\n",
      "\n",
      "Index de la note de review: 18 \n",
      "Texte de la note de review:\n",
      " Working-class romantic drama from director Martin Ritt is as unbelievable as they come, yet there are moments of pleasure due mostly to the charisma of stars Jane Fonda and Robert De Niro (both terrific). She's a widow who can't move on, he's illiterate and a closet-inventor--you can probably guess the rest. Adaptation of Pat Barker's novel \"Union Street\" (a better title!) is so laid-back it verges on bland, and the film's editing is a mess, but it's still pleasant; a rosy-hued blue-collar fantasy. There are no overtures to serious issues (even the illiteracy angle is just a plot-tool for the ensuing love story) and no real fireworks, though the characters are intentionally a bit colorless and the leads are toned down to an interesting degree. The finale is pure fluff--and cynics will find it difficult to swallow--though these two characters deserve a happy ending and the picture wouldn't really be satisfying any other way. *** from ****\n",
      "Étiquette: Positive\n"
     ]
    }
   ],
   "source": [
    "for index, row in reviews_df.sample(5).iterrows():\n",
    "\tprint(\"\\nIndex de la note de review:\", index, \"\\nTexte de la note de review:\\n\", row['review'])\n",
    "\tprint(\"Étiquette:\", \"Positive\" if row['label'] == 1 else \"Négative\")\n",
    "\n",
    "\tprint(\"\\nIndex de la note de review:\", index, \"\\nTexte de la note de review:\\n\", row['review'])\n",
    "\tprint(\"Étiquette:\", \"Positive\" if row['label'] == 1 else \"Négative\")"
   ]
  },
  {
   "cell_type": "markdown",
   "id": "20f27708",
   "metadata": {},
   "source": [
    "## Vectorisation"
   ]
  },
  {
   "cell_type": "code",
   "execution_count": 8,
   "id": "17184c79",
   "metadata": {},
   "outputs": [],
   "source": [
    "from sklearn.feature_extraction.text import TfidfVectorizer, CountVectorizer"
   ]
  },
  {
   "cell_type": "code",
   "execution_count": 9,
   "id": "685f1f1a",
   "metadata": {},
   "outputs": [],
   "source": [
    "def vectorize_text(data, vectorizer):\n",
    "\t\"\"\"Vectorize text data using specified vectorizer.\"\"\"\n",
    "\tvectorized_data = vectorizer.fit_transform(data)\n",
    "\treturn vectorized_data, vectorizer"
   ]
  },
  {
   "cell_type": "code",
   "execution_count": 10,
   "id": "a67a5acd",
   "metadata": {},
   "outputs": [],
   "source": [
    "tfidf_vectorizer = TfidfVectorizer(stop_words='english', max_features=5000)"
   ]
  },
  {
   "cell_type": "code",
   "execution_count": 11,
   "id": "8877af3e",
   "metadata": {},
   "outputs": [],
   "source": [
    "count_vectorizer = CountVectorizer(stop_words='english', max_features=5000)"
   ]
  },
  {
   "cell_type": "code",
   "execution_count": 12,
   "id": "19ef4435",
   "metadata": {},
   "outputs": [
    {
     "name": "stdout",
     "output_type": "stream",
     "text": [
      "Forme de la matrice TF-IDF : (602, 5000)\n"
     ]
    }
   ],
   "source": [
    "features, current_vectorizer = vectorize_text(reviews_df['review'], tfidf_vectorizer)\n",
    "print(\"Forme de la matrice TF-IDF :\", features.shape)"
   ]
  },
  {
   "cell_type": "code",
   "execution_count": 13,
   "id": "a469aa6f",
   "metadata": {},
   "outputs": [
    {
     "name": "stdout",
     "output_type": "stream",
     "text": [
      "Forme de la matrice Count : (602, 5000)\n"
     ]
    }
   ],
   "source": [
    "features_count, _ = vectorize_text(reviews_df['review'], count_vectorizer)\n",
    "print(\"Forme de la matrice Count :\", features_count.shape)"
   ]
  },
  {
   "cell_type": "markdown",
   "id": "47d27321",
   "metadata": {},
   "source": [
    "## Entraînement"
   ]
  },
  {
   "cell_type": "markdown",
   "id": "b682dc09",
   "metadata": {},
   "source": [
    "### 1. Logistic Regression"
   ]
  },
  {
   "cell_type": "code",
   "execution_count": 14,
   "id": "e59d72e8",
   "metadata": {},
   "outputs": [],
   "source": [
    "from sklearn.model_selection import train_test_split\n",
    "from sklearn.linear_model import LogisticRegression\n",
    "from sklearn.metrics import classification_report, accuracy_score"
   ]
  },
  {
   "cell_type": "code",
   "execution_count": 15,
   "id": "13a93072",
   "metadata": {},
   "outputs": [],
   "source": [
    "def train_and_evaluate(features, labels):\n",
    "\t\"\"\"Train and evaluate a logistic regression model.\"\"\"\n",
    "\tX_train, X_test, y_train, y_test = train_test_split(features, labels, test_size=0.25, random_state=42)\n",
    "\tmodel = LogisticRegression(random_state=42)\n",
    "\tmodel.fit(X_train, y_train)\n",
    "\ty_pred = model.predict(X_test)\n",
    "\tprint(\"Accuracy:\", accuracy_score(y_test, y_pred))\n",
    "\tprint(\"Classification Report:\\n\", classification_report(y_test, y_pred))"
   ]
  },
  {
   "cell_type": "code",
   "execution_count": 16,
   "id": "957b0da3",
   "metadata": {},
   "outputs": [
    {
     "name": "stdout",
     "output_type": "stream",
     "text": [
      "Accuracy: 0.8543046357615894\n",
      "Classification Report:\n",
      "               precision    recall  f1-score   support\n",
      "\n",
      "           0       0.81      0.88      0.85        68\n",
      "           1       0.90      0.83      0.86        83\n",
      "\n",
      "    accuracy                           0.85       151\n",
      "   macro avg       0.85      0.86      0.85       151\n",
      "weighted avg       0.86      0.85      0.85       151\n",
      "\n"
     ]
    }
   ],
   "source": [
    "train_and_evaluate(features, reviews_df['label'])"
   ]
  },
  {
   "cell_type": "code",
   "execution_count": 17,
   "id": "b29ce041",
   "metadata": {},
   "outputs": [
    {
     "name": "stdout",
     "output_type": "stream",
     "text": [
      "Accuracy: 0.8079470198675497\n",
      "Classification Report:\n",
      "               precision    recall  f1-score   support\n",
      "\n",
      "           0       0.79      0.78      0.79        68\n",
      "           1       0.82      0.83      0.83        83\n",
      "\n",
      "    accuracy                           0.81       151\n",
      "   macro avg       0.81      0.81      0.81       151\n",
      "weighted avg       0.81      0.81      0.81       151\n",
      "\n"
     ]
    }
   ],
   "source": [
    "train_and_evaluate(features_count, reviews_df['label'])"
   ]
  },
  {
   "cell_type": "markdown",
   "id": "f44d1335",
   "metadata": {},
   "source": [
    "### 2. SVM & GridSearchCV"
   ]
  },
  {
   "cell_type": "code",
   "execution_count": 18,
   "id": "59cb8cf1",
   "metadata": {},
   "outputs": [],
   "source": [
    "from sklearn.svm import SVC\n",
    "from sklearn.model_selection import GridSearchCV"
   ]
  },
  {
   "cell_type": "code",
   "execution_count": 19,
   "id": "219b505f",
   "metadata": {},
   "outputs": [],
   "source": [
    "def train_and_evaluate_svm(X_train, y_train, X_test, y_test):\n",
    "\tparam_grid = {\n",
    "\t\t'C': [0.1, 1, 10, 100],\n",
    "\t\t'kernel': ['linear', 'rbf'],\n",
    "\t\t'gamma': ['scale', 'auto']\n",
    "\t}\n",
    "\tgrid_search = GridSearchCV(SVC(), param_grid, cv=5, scoring='accuracy', verbose=1)\n",
    "\tgrid_search.fit(X_train, y_train)\n",
    "\tprint(\"Best parameters:\", grid_search.best_params_)\n",
    "\tbest_model = grid_search.best_estimator_\n",
    "\ty_pred = best_model.predict(X_test)\n",
    "\tprint(\"Accuracy:\", accuracy_score(y_test, y_pred))\n",
    "\tprint(\"Classification Report:\\n\", classification_report(y_test, y_pred))"
   ]
  },
  {
   "cell_type": "code",
   "execution_count": 20,
   "id": "4a11372f",
   "metadata": {},
   "outputs": [
    {
     "name": "stdout",
     "output_type": "stream",
     "text": [
      "Fitting 5 folds for each of 16 candidates, totalling 80 fits\n",
      "Best parameters: {'C': 10, 'gamma': 'scale', 'kernel': 'rbf'}\n",
      "Accuracy: 1.0\n",
      "Classification Report:\n",
      "               precision    recall  f1-score   support\n",
      "\n",
      "           0       1.00      1.00      1.00       301\n",
      "           1       1.00      1.00      1.00       301\n",
      "\n",
      "    accuracy                           1.00       602\n",
      "   macro avg       1.00      1.00      1.00       602\n",
      "weighted avg       1.00      1.00      1.00       602\n",
      "\n"
     ]
    }
   ],
   "source": [
    "train_and_evaluate_svm(features, reviews_df['label'], features, reviews_df['label'])"
   ]
  },
  {
   "cell_type": "code",
   "execution_count": 21,
   "id": "e74daa46",
   "metadata": {},
   "outputs": [
    {
     "name": "stdout",
     "output_type": "stream",
     "text": [
      "Fitting 5 folds for each of 16 candidates, totalling 80 fits\n",
      "Best parameters: {'C': 100, 'gamma': 'auto', 'kernel': 'rbf'}\n",
      "Accuracy: 1.0\n",
      "Classification Report:\n",
      "               precision    recall  f1-score   support\n",
      "\n",
      "           0       1.00      1.00      1.00       301\n",
      "           1       1.00      1.00      1.00       301\n",
      "\n",
      "    accuracy                           1.00       602\n",
      "   macro avg       1.00      1.00      1.00       602\n",
      "weighted avg       1.00      1.00      1.00       602\n",
      "\n"
     ]
    }
   ],
   "source": [
    "train_and_evaluate_svm(features_count, reviews_df['label'], features_count, reviews_df['label'])"
   ]
  },
  {
   "cell_type": "markdown",
   "id": "9d1eedc1",
   "metadata": {},
   "source": [
    "### 3. Random Forest"
   ]
  },
  {
   "cell_type": "code",
   "execution_count": 22,
   "id": "f5ccd2b1",
   "metadata": {},
   "outputs": [],
   "source": [
    "from sklearn.ensemble import RandomForestClassifier"
   ]
  },
  {
   "cell_type": "code",
   "execution_count": 23,
   "id": "c016a6bd",
   "metadata": {},
   "outputs": [],
   "source": [
    "def train_and_evaluate_rf(features, labels):\n",
    "\tX_train, X_test, y_train, y_test = train_test_split(features, labels, test_size=0.25, random_state=42)\n",
    "\tmodel = RandomForestClassifier(n_estimators=100, random_state=42)\n",
    "\tmodel.fit(X_train, y_train)\n",
    "\ty_pred = model.predict(X_test)\n",
    "\tprint(\"Accuracy:\", accuracy_score(y_test, y_pred))\n",
    "\tprint(\"Classification Report:\\n\", classification_report(y_test, y_pred))"
   ]
  },
  {
   "cell_type": "code",
   "execution_count": 24,
   "id": "3f5e0366",
   "metadata": {},
   "outputs": [
    {
     "name": "stdout",
     "output_type": "stream",
     "text": [
      "Accuracy: 0.7549668874172185\n",
      "Classification Report:\n",
      "               precision    recall  f1-score   support\n",
      "\n",
      "           0       0.70      0.81      0.75        68\n",
      "           1       0.82      0.71      0.76        83\n",
      "\n",
      "    accuracy                           0.75       151\n",
      "   macro avg       0.76      0.76      0.75       151\n",
      "weighted avg       0.76      0.75      0.76       151\n",
      "\n"
     ]
    }
   ],
   "source": [
    "train_and_evaluate_rf(features, reviews_df['label'])"
   ]
  },
  {
   "cell_type": "code",
   "execution_count": 25,
   "id": "2816870d",
   "metadata": {},
   "outputs": [
    {
     "name": "stdout",
     "output_type": "stream",
     "text": [
      "Accuracy: 0.7549668874172185\n",
      "Classification Report:\n",
      "               precision    recall  f1-score   support\n",
      "\n",
      "           0       0.68      0.87      0.76        68\n",
      "           1       0.86      0.66      0.75        83\n",
      "\n",
      "    accuracy                           0.75       151\n",
      "   macro avg       0.77      0.77      0.75       151\n",
      "weighted avg       0.78      0.75      0.75       151\n",
      "\n"
     ]
    }
   ],
   "source": [
    "train_and_evaluate_rf(features_count, reviews_df['label'])"
   ]
  },
  {
   "cell_type": "markdown",
   "id": "136eef3b",
   "metadata": {},
   "source": [
    "### 4. Naive Bayes"
   ]
  },
  {
   "cell_type": "code",
   "execution_count": 26,
   "id": "d91951a4",
   "metadata": {},
   "outputs": [],
   "source": [
    "from sklearn.naive_bayes import MultinomialNB"
   ]
  },
  {
   "cell_type": "code",
   "execution_count": 27,
   "id": "d21592da",
   "metadata": {},
   "outputs": [],
   "source": [
    "def train_and_evaluate_nb(features, labels):\n",
    "\tX_train, X_test, y_train, y_test = train_test_split(features, labels, test_size=0.25, random_state=42)\n",
    "\tmodel = MultinomialNB()\n",
    "\tmodel.fit(X_train, y_train)\n",
    "\ty_pred = model.predict(X_test)\n",
    "\tprint(\"Accuracy:\", accuracy_score(y_test, y_pred))\n",
    "\tprint(\"Classification Report:\\n\", classification_report(y_test, y_pred))"
   ]
  },
  {
   "cell_type": "code",
   "execution_count": 28,
   "id": "a93cd680",
   "metadata": {},
   "outputs": [
    {
     "name": "stdout",
     "output_type": "stream",
     "text": [
      "Accuracy: 0.8145695364238411\n",
      "Classification Report:\n",
      "               precision    recall  f1-score   support\n",
      "\n",
      "           0       0.74      0.91      0.82        68\n",
      "           1       0.91      0.73      0.81        83\n",
      "\n",
      "    accuracy                           0.81       151\n",
      "   macro avg       0.82      0.82      0.81       151\n",
      "weighted avg       0.83      0.81      0.81       151\n",
      "\n"
     ]
    }
   ],
   "source": [
    "train_and_evaluate_nb(features, reviews_df['label'])"
   ]
  },
  {
   "cell_type": "code",
   "execution_count": 29,
   "id": "43baf8d8",
   "metadata": {},
   "outputs": [
    {
     "name": "stdout",
     "output_type": "stream",
     "text": [
      "Accuracy: 0.8410596026490066\n",
      "Classification Report:\n",
      "               precision    recall  f1-score   support\n",
      "\n",
      "           0       0.78      0.91      0.84        68\n",
      "           1       0.92      0.78      0.84        83\n",
      "\n",
      "    accuracy                           0.84       151\n",
      "   macro avg       0.85      0.85      0.84       151\n",
      "weighted avg       0.85      0.84      0.84       151\n",
      "\n"
     ]
    }
   ],
   "source": [
    "train_and_evaluate_nb(features_count, reviews_df['label'])"
   ]
  },
  {
   "cell_type": "markdown",
   "id": "3bf8439b",
   "metadata": {},
   "source": [
    "### 5. Decision Tree"
   ]
  },
  {
   "cell_type": "code",
   "execution_count": 30,
   "id": "b9425afd",
   "metadata": {},
   "outputs": [],
   "source": [
    "from sklearn.tree import DecisionTreeClassifier"
   ]
  },
  {
   "cell_type": "code",
   "execution_count": 31,
   "id": "c2140ff0",
   "metadata": {},
   "outputs": [],
   "source": [
    "def train_and_evaluate_dt(features, labels):\n",
    "\tX_train, X_test, y_train, y_test = train_test_split(features, labels, test_size=0.25, random_state=42)\n",
    "\tmodel = DecisionTreeClassifier(random_state=42)\n",
    "\tmodel.fit(X_train, y_train)\n",
    "\ty_pred = model.predict(X_test)\n",
    "\tprint(\"Accuracy:\", accuracy_score(y_test, y_pred))\n",
    "\tprint(\"Classification Report:\\n\", classification_report(y_test, y_pred))"
   ]
  },
  {
   "cell_type": "code",
   "execution_count": 32,
   "id": "863bee4e",
   "metadata": {},
   "outputs": [
    {
     "name": "stdout",
     "output_type": "stream",
     "text": [
      "Accuracy: 0.6622516556291391\n",
      "Classification Report:\n",
      "               precision    recall  f1-score   support\n",
      "\n",
      "           0       0.62      0.66      0.64        68\n",
      "           1       0.71      0.66      0.68        83\n",
      "\n",
      "    accuracy                           0.66       151\n",
      "   macro avg       0.66      0.66      0.66       151\n",
      "weighted avg       0.67      0.66      0.66       151\n",
      "\n"
     ]
    }
   ],
   "source": [
    "train_and_evaluate_dt(features, reviews_df['label'])"
   ]
  },
  {
   "cell_type": "code",
   "execution_count": 33,
   "id": "04f5c11a",
   "metadata": {},
   "outputs": [
    {
     "name": "stdout",
     "output_type": "stream",
     "text": [
      "Accuracy: 0.6291390728476821\n",
      "Classification Report:\n",
      "               precision    recall  f1-score   support\n",
      "\n",
      "           0       0.58      0.63      0.61        68\n",
      "           1       0.68      0.63      0.65        83\n",
      "\n",
      "    accuracy                           0.63       151\n",
      "   macro avg       0.63      0.63      0.63       151\n",
      "weighted avg       0.63      0.63      0.63       151\n",
      "\n"
     ]
    }
   ],
   "source": [
    "train_and_evaluate_dt(features_count, reviews_df['label'])"
   ]
  },
  {
   "cell_type": "code",
   "execution_count": null,
   "id": "94fc34b9",
   "metadata": {},
   "outputs": [],
   "source": []
  }
 ],
 "metadata": {
  "kernelspec": {
   "display_name": "Python 3 (ipykernel)",
   "language": "python",
   "name": "python3"
  },
  "language_info": {
   "codemirror_mode": {
    "name": "ipython",
    "version": 3
   },
   "file_extension": ".py",
   "mimetype": "text/x-python",
   "name": "python",
   "nbconvert_exporter": "python",
   "pygments_lexer": "ipython3",
   "version": "3.10.12"
  }
 },
 "nbformat": 4,
 "nbformat_minor": 5
}
