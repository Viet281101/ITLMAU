{
 "cells": [
  {
   "cell_type": "markdown",
   "id": "f40f83ce-68fb-4e1b-9d90-bc6681cb3330",
   "metadata": {},
   "source": [
    "# IDL 10 : Construction d'un HMM pour l'étiquetage morphosyntaxique automatique"
   ]
  },
  {
   "cell_type": "markdown",
   "id": "9182db2e-74a4-41d5-a3df-493e6b4cbb10",
   "metadata": {},
   "source": [
    "# Exercice 0"
   ]
  },
  {
   "cell_type": "code",
   "execution_count": 1,
   "id": "28322988-d9dc-469a-b228-db7117ac9fa8",
   "metadata": {},
   "outputs": [],
   "source": [
    "class HMM:\n",
    "\tdef __init__(self, initial_prob, transition_prob, emission_prob):\n",
    "\t\t# Initialisation des probabilités\n",
    "\t\tself.initial_prob = initial_prob\n",
    "\t\tself.transition_prob = transition_prob\n",
    "\t\tself.emission_prob = emission_prob\n",
    "\n",
    "\tdef initial(self, tag):\n",
    "\t\t# Retourne la probabilité initiale pour une étiquette\n",
    "\t\treturn self.initial_prob.get(tag, 0.0)\n",
    "\n",
    "\tdef transition(self, tag_p, tag_c):\n",
    "\t\t# Retourne la probabilité de transition d'une étiquette à une autre\n",
    "\t\tif tag_p in self.transition_prob and tag_c in self.transition_prob[tag_p]:\n",
    "\t\t\treturn self.transition_prob[tag_p][tag_c]\n",
    "\t\telse:\n",
    "\t\t\treturn 0.0\n",
    "\n",
    "\tdef emission(self, tag, token):\n",
    "\t\t# Retourne la probabilité d'émission d'un token étant donné une étiquette\n",
    "\t\tif tag in self.emission_prob and token in self.emission_prob[tag]:\n",
    "\t\t\treturn self.emission_prob[tag][token]\n",
    "\t\telse:\n",
    "\t\t\treturn 0.0\n"
   ]
  },
  {
   "cell_type": "code",
   "execution_count": 2,
   "id": "d477a040-edc4-4eb5-8141-32772d0f5965",
   "metadata": {},
   "outputs": [],
   "source": [
    "initial_prob = {'Noun': 0.3, 'Verb': 0.7}\n",
    "transition_prob = {\n",
    "\t'Noun': {'Noun': 0.1, 'Verb': 0.9},\n",
    "\t'Verb': {'Noun': 0.8, 'Verb': 0.2},\n",
    "}\n",
    "emission_prob = {\n",
    "\t'Noun': {'cat': 0.5, 'dog': 0.5},\n",
    "\t'Verb': {'eats': 0.5, 'sleeps': 0.5},\n",
    "}"
   ]
  },
  {
   "cell_type": "code",
   "execution_count": 3,
   "id": "558cd412-be1e-46cb-bdf4-d0b8f53a489d",
   "metadata": {},
   "outputs": [],
   "source": [
    "hmm = HMM(initial_prob, transition_prob, emission_prob)"
   ]
  },
  {
   "cell_type": "code",
   "execution_count": 4,
   "id": "ea160222-f9ec-4896-b7d8-45f99e3bb59b",
   "metadata": {},
   "outputs": [
    {
     "name": "stdout",
     "output_type": "stream",
     "text": [
      "0.3\n",
      "0.9\n",
      "0.5\n"
     ]
    }
   ],
   "source": [
    "print(hmm.initial('Noun'))  # Devrait afficher 0.3\n",
    "print(hmm.transition('Noun', 'Verb'))  # Devrait afficher 0.9\n",
    "print(hmm.emission('Noun', 'cat'))  # Devrait afficher 0.5"
   ]
  },
  {
   "cell_type": "markdown",
   "id": "1de5556d-7847-4605-9625-1c7d96a6d77f",
   "metadata": {},
   "source": [
    "# Exercice 1 : écrire l'algorithme de décodage : l'algorithme de Viterbi"
   ]
  },
  {
   "cell_type": "code",
   "execution_count": 5,
   "id": "3a864a5f-46ca-4fe6-b268-83fe58f78030",
   "metadata": {},
   "outputs": [],
   "source": [
    "exo1_initial = {\"DET\": 1.0}\n",
    "\n",
    "exo1_transition = {\n",
    "\t\"ADJ\": {\"NOUN\": 1.0},\n",
    "\t\"CLO\": {\"VERB\": 1.0},\n",
    "\t\"CLS\": {\"VERB\": 1.0},\n",
    "\t\"DET\": {\"NOUN\": 0.8, \"ADJ\": 0.2},\n",
    "\t\"NOUN\": {\"CLO\": 0.5, \"VERB\": 0.5},\n",
    "\t\"VERB\": {\"DET\": 1.0}\n",
    "}\n",
    "\n",
    "exo1_emission = {\n",
    "\t\"ADJ\" : {\"belle\": 1.0},\n",
    "\t\"DET\" : {\"le\": 0.6, \"la\": 0.4},\n",
    "\t\"NOUN\": {\"belle\": 0.1, \"porte\": 0.8, \"voile\": 0.1},\n",
    "\t\"VERB\": {\"porte\": 0.6, \"voile\": 0.4},\n",
    "\t\"CLO\" : {\"le\": 1.0}\n",
    "}"
   ]
  },
  {
   "cell_type": "code",
   "execution_count": 6,
   "id": "400874ca-bb34-480d-b652-78e046590f61",
   "metadata": {},
   "outputs": [],
   "source": [
    "exo1_hmm = HMM(exo1_initial, exo1_transition, exo1_emission)\n",
    "\n",
    "assert exo1_hmm.initial(\"DET\") == 1, exo1_hmm.initial(\"DET\")\n",
    "assert exo1_hmm.initial(\"ADJ\") == 0, exo1_hmm.initial(\"ADJ\")\n",
    "\n",
    "assert exo1_hmm.transition(\"DET\", \"ADJ\") == 0.2, exo1_hmm.transition(\"DET\", \"ADJ\")\n",
    "assert exo1_hmm.transition(\"DET\", \"NOUN\") == 0.8, exo1_hmm.transition(\"DET\", \"NOUN\")\n",
    "assert exo1_hmm.transition(\"DET\", \"VERB\") == 0.0, exo1_hmm.transition(\"DET\", \"VERB\")\n",
    "\n",
    "assert exo1_hmm.emission(\"DET\", \"le\") == 0.6, exo1_hmm.emission(\"DET\", \"le\")\n",
    "assert exo1_hmm.emission(\"DET\", \"la\") == 0.4, exo1_hmm.emission(\"DET\", \"la\")\n",
    "assert exo1_hmm.emission(\"DET\", \"les\") == 0.0, exo1_hmm.emission(\"DET\", \"les\")"
   ]
  },
  {
   "cell_type": "code",
   "execution_count": 7,
   "id": "1d6725b5-ba65-4857-96d8-aeb99f2dee04",
   "metadata": {},
   "outputs": [
    {
     "name": "stdout",
     "output_type": "stream",
     "text": [
      "Probabilité initiale de 'DET': 1.0\n",
      "Probabilité de transition de 'DET' vers 'ADJ': 0.2\n",
      "Probabilité d'émission de 'le' sachant 'DET': 0.6\n"
     ]
    }
   ],
   "source": [
    "print(\"Probabilité initiale de 'DET':\", exo1_hmm.initial(\"DET\"))\n",
    "print(\"Probabilité de transition de 'DET' vers 'ADJ':\", exo1_hmm.transition(\"DET\", \"ADJ\"))\n",
    "print(\"Probabilité d'émission de 'le' sachant 'DET':\", exo1_hmm.emission(\"DET\", \"le\"))"
   ]
  },
  {
   "cell_type": "markdown",
   "id": "38fc66af-41a6-4e62-bd38-716c636ccb7b",
   "metadata": {},
   "source": [
    "### a. Calculez, pour chaque étiquette E, la probabilité de \"la\" sachant E."
   ]
  },
  {
   "cell_type": "code",
   "execution_count": 8,
   "id": "3da88b82-4829-44b4-ae17-3ecb9b286802",
   "metadata": {},
   "outputs": [],
   "source": [
    "def initials(hmm, token):\n",
    "\tinitial_probs = {}\n",
    "\tfor tag in hmm.emission_prob:\n",
    "\t\tprob = hmm.initial(tag) * hmm.emission(tag, token)\n",
    "\t\tinitial_probs[tag] = {'probabilité': prob, 'depuis': None}\n",
    "\treturn initial_probs\n",
    "\n",
    "assert initials(exo1_hmm, \"la\") == {\n",
    "\t'ADJ': {'probabilité': 0.0, 'depuis': None},\n",
    "\t'CLO': {'probabilité': 0.0, 'depuis': None},\n",
    "\t'DET': {'probabilité': 0.4, 'depuis': None},\n",
    "\t'NOUN': {'probabilité': 0.0, 'depuis': None},\n",
    "\t'VERB': {'probabilité': 0.0, 'depuis': None}\n",
    "}, initials(exo1_hmm, \"la\")"
   ]
  },
  {
   "cell_type": "code",
   "execution_count": 9,
   "id": "3004f4f8-e8ab-4837-a39b-545fb9491e5c",
   "metadata": {},
   "outputs": [
    {
     "name": "stdout",
     "output_type": "stream",
     "text": [
      "{'ADJ': {'probabilité': 0.0, 'depuis': None}, 'DET': {'probabilité': 0.4, 'depuis': None}, 'NOUN': {'probabilité': 0.0, 'depuis': None}, 'VERB': {'probabilité': 0.0, 'depuis': None}, 'CLO': {'probabilité': 0.0, 'depuis': None}}\n"
     ]
    }
   ],
   "source": [
    "resultat_initials = initials(exo1_hmm, \"la\")\n",
    "\n",
    "print(resultat_initials)"
   ]
  },
  {
   "cell_type": "markdown",
   "id": "60889fdb-e908-4a5e-b4fd-6184af021e41",
   "metadata": {},
   "source": [
    "### b. Calculez la meilleure transition vers l'étiquette `ADJ`"
   ]
  },
  {
   "cell_type": "code",
   "execution_count": 10,
   "id": "410905ba-0ae7-4e1a-ba3f-759296e6f859",
   "metadata": {},
   "outputs": [],
   "source": [
    "def best_transition_to(hmm, probas_preced, etiquette, token):\n",
    "\tmeilleure_prob = 0\n",
    "\tmeilleure_etiquette = None\n",
    "\tfor etiqu_prec, val in probas_preced.items():\n",
    "\n",
    "\t\tprob_transition = hmm.transition(etiqu_prec, etiquette)\n",
    "\n",
    "\t\tprob_totale = prob_transition * val['probabilité']\n",
    "\n",
    "\t\tif prob_totale > meilleure_prob:\n",
    "\t\t\tmeilleure_prob = prob_totale\n",
    "\t\t\tmeilleure_etiquette = etiqu_prec\n",
    "\tmeilleure_prob *= hmm.emission(etiquette, token)\n",
    "\treturn {'probabilité': meilleure_prob, 'depuis': meilleure_etiquette}\n",
    "\n",
    "avant = initials(exo1_hmm, \"la\")\n",
    "assert (\n",
    "\tbest_transition_to(exo1_hmm, avant, \"ADJ\", \"belle\") == {'probabilité': 0.08000000000000002, 'depuis': 'DET'}\n",
    "), best_transition_to(exo1_hmm, avant, \"ADJ\", \"belle\")"
   ]
  },
  {
   "cell_type": "code",
   "execution_count": 11,
   "id": "46a46ce2-133c-42be-b841-b2ba3dfed8b6",
   "metadata": {},
   "outputs": [
    {
     "name": "stdout",
     "output_type": "stream",
     "text": [
      "{'probabilité': 0.08000000000000002, 'depuis': 'DET'}\n"
     ]
    }
   ],
   "source": [
    "resultat_transition = best_transition_to(exo1_hmm, avant, \"ADJ\", \"belle\")\n",
    "\n",
    "print(resultat_transition)"
   ]
  },
  {
   "cell_type": "markdown",
   "id": "005ce57e-e3c8-4825-8436-32074c817d62",
   "metadata": {},
   "source": [
    "### c. Calculez la meilleure transition vers toutes les étiquettes"
   ]
  },
  {
   "cell_type": "code",
   "execution_count": 12,
   "id": "709ff535-b6fb-45dc-9d1e-0f99831a9a1b",
   "metadata": {},
   "outputs": [],
   "source": [
    "def best_transitions(hmm, probas_preced, token):\n",
    "\tmeilleures_transitions = {}\n",
    "\tfor etiquette in hmm.emission_prob:\n",
    "\t\tmeilleure_prob = 0\n",
    "\t\tmeilleure_etiquette_prec = None\n",
    "\t\tfor etiqu_prec, val in probas_preced.items():\n",
    "\t\t\tprob_transition = hmm.transition(etiqu_prec, etiquette)\n",
    "\t\t\tprob_totale = prob_transition * val['probabilité']\n",
    "\t\t\tif prob_totale > meilleure_prob:\n",
    "\t\t\t\tmeilleure_prob = prob_totale\n",
    "\t\t\t\tmeilleure_etiquette_prec = etiqu_prec\n",
    "\n",
    "\t\tmeilleure_prob *= hmm.emission(etiquette, token)\n",
    "\t\tmeilleures_transitions[etiquette] = {'probabilité': meilleure_prob, 'depuis': meilleure_etiquette_prec}\n",
    "\treturn meilleures_transitions\n",
    "\n",
    "avant = initials(exo1_hmm, \"la\")\n",
    "assert best_transitions(exo1_hmm, avant, \"belle\") == {\n",
    "\t'ADJ': {'probabilité': 0.08000000000000002, 'depuis': 'DET'},\n",
    "\t'CLO': {'probabilité': 0.0, 'depuis': None},\n",
    "\t'DET': {'probabilité': 0.0, 'depuis': None},\n",
    "\t'NOUN': {'probabilité': 0.03200000000000001, 'depuis': 'DET'},\n",
    "\t'VERB': {'probabilité': 0.0, 'depuis': None}\n",
    "}, best_transitions(exo1_hmm, avant, \"belle\")"
   ]
  },
  {
   "cell_type": "code",
   "execution_count": 13,
   "id": "cc560d3e-4908-4a0f-b7d0-1fb01748703a",
   "metadata": {},
   "outputs": [
    {
     "name": "stdout",
     "output_type": "stream",
     "text": [
      "{'ADJ': {'probabilité': 0.08000000000000002, 'depuis': 'DET'}, 'DET': {'probabilité': 0.0, 'depuis': None}, 'NOUN': {'probabilité': 0.03200000000000001, 'depuis': 'DET'}, 'VERB': {'probabilité': 0.0, 'depuis': None}, 'CLO': {'probabilité': 0.0, 'depuis': None}}\n"
     ]
    }
   ],
   "source": [
    "resultats_transitions = best_transitions(exo1_hmm, avant, \"belle\")\n",
    "\n",
    "print(resultats_transitions)"
   ]
  },
  {
   "cell_type": "markdown",
   "id": "56fccba2-a308-49d4-bf60-2e93579db25a",
   "metadata": {},
   "source": [
    "### d. Construire la matrice de Viterbi"
   ]
  },
  {
   "cell_type": "code",
   "execution_count": 14,
   "id": "7b026295-892c-4f40-800e-a2dea0f50a5b",
   "metadata": {},
   "outputs": [],
   "source": [
    "def viterbi_matrix(hmm, words):\n",
    "\tviterbi = [initials(hmm, words[0])]\n",
    "\n",
    "\tfor word in words[1:]:\n",
    "\t\tcurrent_probs = best_transitions(hmm, viterbi[-1], word)\n",
    "\t\tviterbi.append(current_probs)\n",
    "\n",
    "\treturn viterbi"
   ]
  },
  {
   "cell_type": "code",
   "execution_count": 15,
   "id": "8e27cad2-b7de-406a-b43f-f00d47fd4b81",
   "metadata": {},
   "outputs": [],
   "source": [
    "def non_zeroes(d):\n",
    "\treturn {tag: value for tag, value in d.items() if value[\"probabilité\"] != 0}"
   ]
  },
  {
   "cell_type": "code",
   "execution_count": 16,
   "id": "c62cc59d-04f6-4608-a40b-9a22ad287dd0",
   "metadata": {},
   "outputs": [],
   "source": [
    "words = [\"la\", \"belle\", \"porte\", \"le\", \"voile\"]"
   ]
  },
  {
   "cell_type": "code",
   "execution_count": 17,
   "id": "e1141f23-cccb-4362-bc51-7c6959db0269",
   "metadata": {},
   "outputs": [],
   "source": [
    "matrix = viterbi_matrix(exo1_hmm, words)\n",
    "\n",
    "assert non_zeroes(matrix[0]) == {'DET': {'probabilité': 0.4, 'depuis': None}}, non_zeroes(matrix[0])\n",
    "assert non_zeroes(matrix[1]) == {'ADJ': {'probabilité': 0.08000000000000002, 'depuis': 'DET'}, 'NOUN': {'probabilité': 0.03200000000000001, 'depuis': 'DET'}}, non_zeroes(matrix[1])\n",
    "assert non_zeroes(matrix[2]) == {'NOUN': {'probabilité': 0.06400000000000002, 'depuis': 'ADJ'}, 'VERB': {'probabilité': 0.009600000000000003, 'depuis': 'NOUN'}}, non_zeroes(matrix[2])\n",
    "assert non_zeroes(matrix[3]) == {'CLO': {'probabilité': 0.03200000000000001, 'depuis': 'NOUN'}, 'DET': {'probabilité': 0.005760000000000001, 'depuis': 'VERB'}}, non_zeroes(matrix[3])\n",
    "assert non_zeroes(matrix[4]) == {'NOUN': {'probabilité': 0.00046080000000000014, 'depuis': 'DET'}, 'VERB': {'probabilité': 0.012800000000000004, 'depuis': 'CLO'}}, non_zeroes(matrix[4])"
   ]
  },
  {
   "cell_type": "code",
   "execution_count": 18,
   "id": "80f21103-166a-4679-b889-3223c6d31b8e",
   "metadata": {},
   "outputs": [
    {
     "name": "stdout",
     "output_type": "stream",
     "text": [
      "Mot 'la':\n",
      "  DET: Probabilité = 0.4, Depuis = None\n",
      "\n",
      "Mot 'belle':\n",
      "  ADJ: Probabilité = 0.08000000000000002, Depuis = DET\n",
      "  NOUN: Probabilité = 0.03200000000000001, Depuis = DET\n",
      "\n",
      "Mot 'porte':\n",
      "  NOUN: Probabilité = 0.06400000000000002, Depuis = ADJ\n",
      "  VERB: Probabilité = 0.009600000000000003, Depuis = NOUN\n",
      "\n",
      "Mot 'le':\n",
      "  DET: Probabilité = 0.005760000000000001, Depuis = VERB\n",
      "  CLO: Probabilité = 0.03200000000000001, Depuis = NOUN\n",
      "\n",
      "Mot 'voile':\n",
      "  NOUN: Probabilité = 0.00046080000000000014, Depuis = DET\n",
      "  VERB: Probabilité = 0.012800000000000004, Depuis = CLO\n",
      "\n"
     ]
    }
   ],
   "source": [
    "for i, word_probs in enumerate(matrix):\n",
    "\tprint(f\"Mot '{words[i]}':\")\n",
    "\tfor tag, info in non_zeroes(word_probs).items():\n",
    "\t\tprint(f\"  {tag}: Probabilité = {info['probabilité']}, Depuis = {info['depuis']}\")\n",
    "\tprint()"
   ]
  },
  {
   "cell_type": "markdown",
   "id": "65dbd900-2407-4cef-b228-72f0c28e71fa",
   "metadata": {},
   "source": [
    "### e. Reconstruire la séquence"
   ]
  },
  {
   "cell_type": "code",
   "execution_count": 19,
   "id": "0b27238e-9773-4d5e-947a-15deecb8eb97",
   "metadata": {},
   "outputs": [],
   "source": [
    "def viterbi(hmm, sentence):\n",
    "\tmatrix = viterbi_matrix(hmm, sentence)\n",
    "\tlast_word_probs = matrix[-1]\n",
    "\tmax_prob = 0\n",
    "\tmax_tag = None\n",
    "\tfor tag, info in last_word_probs.items():\n",
    "\t\tif info[\"probabilité\"] > max_prob:\n",
    "\t\t\tmax_prob = info[\"probabilité\"]\n",
    "\t\t\tmax_tag = tag\n",
    "\tif max_tag is None:\n",
    "\t\tmax_tag = 'NOUN'\n",
    "\tsequence = [max_tag]\n",
    "\tfor i in range(len(sentence) - 2, -1, -1):\n",
    "\t\tprev_tag = matrix[i + 1][sequence[0]]['depuis']\n",
    "\t\tif prev_tag is None:\n",
    "\t\t\tprev_tag = sequence[0]\n",
    "\t\tsequence.insert(0, prev_tag)\n",
    "\treturn sequence, max_prob\n",
    "\n",
    "tags, prob = viterbi(exo1_hmm, [\"la\", \"belle\", \"porte\", \"le\", \"voile\"])\n",
    "assert tags == ['DET', 'ADJ', 'NOUN', 'CLO', 'VERB'], tags\n",
    "assert prob == 0.012800000000000004, prob"
   ]
  },
  {
   "cell_type": "code",
   "execution_count": 20,
   "id": "09842963-5fa2-43c1-97e2-f29c7ca6acc3",
   "metadata": {},
   "outputs": [
    {
     "name": "stdout",
     "output_type": "stream",
     "text": [
      "Séquence d'étiquettes la plus probable : ['DET', 'ADJ', 'NOUN', 'CLO', 'VERB']\n",
      "Probabilité de cette séquence : 0.012800000000000004\n"
     ]
    }
   ],
   "source": [
    "tags, prob = viterbi(exo1_hmm, [\"la\", \"belle\", \"porte\", \"le\", \"voile\"])\n",
    "\n",
    "print(\"Séquence d'étiquettes la plus probable :\", tags)\n",
    "print(\"Probabilité de cette séquence :\", prob)"
   ]
  },
  {
   "cell_type": "code",
   "execution_count": null,
   "id": "6ee7f8d3-26f8-48c2-b750-2deb07ef82e7",
   "metadata": {},
   "outputs": [],
   "source": []
  }
 ],
 "metadata": {
  "kernelspec": {
   "display_name": "Python 3 (ipykernel)",
   "language": "python",
   "name": "python3"
  },
  "language_info": {
   "codemirror_mode": {
    "name": "ipython",
    "version": 3
   },
   "file_extension": ".py",
   "mimetype": "text/x-python",
   "name": "python",
   "nbconvert_exporter": "python",
   "pygments_lexer": "ipython3",
   "version": "3.10.12"
  }
 },
 "nbformat": 4,
 "nbformat_minor": 5
}
